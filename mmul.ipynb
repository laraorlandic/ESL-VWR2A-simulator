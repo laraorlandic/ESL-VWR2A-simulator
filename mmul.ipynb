{
 "cells": [
  {
   "cell_type": "code",
   "execution_count": 2,
   "metadata": {},
   "outputs": [],
   "source": [
    "%load_ext autoreload\n",
    "%autoreload 2\n",
    "import numpy as np\n",
    "import pandas as pd \n",
    "import sys, os\n",
    "from src import *\n",
    "from helpers import *"
   ]
  },
  {
   "cell_type": "code",
   "execution_count": 2,
   "metadata": {},
   "outputs": [],
   "source": [
    "imem = IMEM()"
   ]
  },
  {
   "cell_type": "code",
   "execution_count": 4,
   "metadata": {},
   "outputs": [
    {
     "name": "stdout",
     "output_type": "stream",
     "text": [
      "***LSU***\n",
      "Performing LOAD from SPM to SRF\n",
      "Performing ALU operation LOR between operands ONE and ZERO\n",
      "Writing ALU result to LSU register 7\n",
      "Hex representation: 0x5d49f\n"
     ]
    }
   ],
   "source": [
    "##### Instruction 0 #######\n",
    "pos=0\n",
    "\n",
    "# LSU: Load SPM address zero into SRF. Set R7 (the next SPM address) to one.\n",
    "rf_wsel=7\n",
    "rf_we=1\n",
    "alu_op=LSU_ALU_OPS.LOR\n",
    "muxb_sel=LSU_MUXA_SEL.ZERO\n",
    "muxa_sel=LSU_MUXB_SEL.ONE\n",
    "vwr_shuf_op=LSU_VWR_SEL.SRF\n",
    "vwr_shuf_sel=LSU_OP_MODE.LOAD\n",
    "\n",
    "print(\"***LSU***\")\n",
    "imem.lsu_imem.set_params(rf_wsel, rf_we, alu_op, muxb_sel, muxa_sel, vwr_shuf_op, vwr_shuf_sel, pos)\n",
    "imem.lsu_imem.get_instruction_info(pos)\n",
    "print(\"Hex representation: \" + imem.lsu_imem.get_word_in_hex(pos))"
   ]
  },
  {
   "cell_type": "code",
   "execution_count": 8,
   "metadata": {},
   "outputs": [
    {
     "name": "stdout",
     "output_type": "stream",
     "text": [
      "Hex representation: 0x3406\n",
      "Immediate value: 6\n",
      "LCU is in RC data control mode\n",
      "If R0 and R0 are NOT equal, branch to the immediate value 6\n",
      "No LCU registers are being written\n"
     ]
    }
   ],
   "source": [
    "lcu_imem = LCU_IMEM()\n",
    "# Create a new instruction\n",
    "imem_pos = 1\n",
    "\n",
    "# Define instruction parameters\n",
    "imm=6\n",
    "rf_wsel=0\n",
    "rf_we=0\n",
    "alu_op=LCU_ALU_OPS.BNE\n",
    "br_mode=1\n",
    "muxa_sel=LCU_MUXA_SEL.R0\n",
    "muxb_sel=LCU_MUXB_SEL.R0\n",
    "\n",
    "\n",
    "lcu_imem.set_params(imm, rf_wsel, rf_we, alu_op, br_mode, muxb_sel, muxa_sel, imem_pos)\n",
    "print(\"Hex representation: \" + lcu_imem.get_word_in_hex(imem_pos))\n",
    "lcu_imem.get_instruction_info(imem_pos)"
   ]
  },
  {
   "cell_type": "code",
   "execution_count": 7,
   "metadata": {},
   "outputs": [
    {
     "name": "stdout",
     "output_type": "stream",
     "text": [
      "Not writing to VWRs\n",
      "Reading from SRF index 6\n",
      "Performing ALU operation NOP between operands R0 and R0\n",
      "No MXCU registers are being written\n",
      "Hex representation: 0x180\n"
     ]
    }
   ],
   "source": [
    "mxcu_imem = MXCU_IMEM()\n",
    "# Create a new instruction\n",
    "imem_pos = 1\n",
    "\n",
    "# Define instruction parameters\n",
    "vwr_row_we = [0, 0, 0, 0]\n",
    "vwr_sel = MXCU_VWR_SEL.VWR_A.value\n",
    "srf_sel = 6\n",
    "alu_srf_write = ALU_SRF_WRITE.LCU\n",
    "srf_we = 0\n",
    "rf_wsel = 0 \n",
    "rf_we = 0 \n",
    "alu_op =  MXCU_ALU_OPS.NOP\n",
    "muxb_sel = MXCU_MUXB_SEL.R0\n",
    "muxa_sel = MXCU_MUXA_SEL.R0\n",
    "\n",
    "mxcu_imem.set_params(vwr_row_we, vwr_sel, srf_sel, alu_srf_write, srf_we, rf_wsel, rf_we, alu_op, muxb_sel, muxa_sel, imem_pos)\n",
    "mxcu_imem.get_instruction_info(imem_pos)\n",
    "print(\"Hex representation: \" + mxcu_imem.get_word_in_hex(imem_pos))"
   ]
  }
 ],
 "metadata": {
  "kernelspec": {
   "display_name": "Python 3",
   "language": "python",
   "name": "python3"
  },
  "language_info": {
   "codemirror_mode": {
    "name": "ipython",
    "version": 3
   },
   "file_extension": ".py",
   "mimetype": "text/x-python",
   "name": "python",
   "nbconvert_exporter": "python",
   "pygments_lexer": "ipython3",
   "version": "3.11.4"
  }
 },
 "nbformat": 4,
 "nbformat_minor": 2
}
