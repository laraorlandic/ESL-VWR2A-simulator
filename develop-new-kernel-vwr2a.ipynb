{
 "cells": [
  {
   "cell_type": "code",
   "execution_count": 1,
   "id": "5e0a478f",
   "metadata": {},
   "outputs": [],
   "source": [
    "%load_ext autoreload\n",
    "%autoreload 2\n",
    "import numpy as np\n",
    "import pandas as pd \n",
    "import sys, os\n",
    "from src import *"
   ]
  },
  {
   "cell_type": "markdown",
   "id": "f7918b3b",
   "metadata": {},
   "source": [
    "### KERNEL CONFIGURATION\n",
    "Set up an application to be accelerated by loading the different kernel configurations into the kernel memory"
   ]
  },
  {
   "cell_type": "code",
   "execution_count": 22,
   "id": "81aeaf93",
   "metadata": {},
   "outputs": [
    {
     "name": "stdout",
     "output_type": "stream",
     "text": [
      "This kernel uses 43 instruction words starting at IMEM address 0.\n",
      "It uses column(s): 0.\n",
      "The SRF is located in SPM bank 0.\n"
     ]
    }
   ],
   "source": [
    "# Load an existing kernel into memory\n",
    "kmem_pos = 1\n",
    "kmem_word = 0x802b\n",
    "\n",
    "kmem = KER_CONF()\n",
    "kmem.set_kernel_word(kmem_word, kmem_pos)\n",
    "kmem.get_kernel_info(kmem_pos)"
   ]
  },
  {
   "cell_type": "code",
   "execution_count": 23,
   "id": "80e63aef",
   "metadata": {},
   "outputs": [
    {
     "name": "stdout",
     "output_type": "stream",
     "text": [
      "Hex representation: 0x38b14\n",
      "This kernel uses 20 instruction words starting at IMEM address 44.\n",
      "It uses column(s): both.\n",
      "The SRF is located in SPM bank 1.\n"
     ]
    }
   ],
   "source": [
    "# Create a new kernel\n",
    "kmem_pos = 2\n",
    "kmem.set_kernel_params(num_instructions=20, imem_add_start=44, column_usage=3, srf_spm_addres=1, pos=kmem_pos)\n",
    "print(\"Hex representation: \" + kmem.get_word_in_hex(kmem_pos))\n",
    "kmem.get_kernel_info(kmem_pos)"
   ]
  },
  {
   "cell_type": "markdown",
   "id": "a48be74e",
   "metadata": {},
   "source": [
    "### Loop Control Unit IMEM "
   ]
  },
  {
   "cell_type": "code",
   "execution_count": 24,
   "id": "fce7b90d",
   "metadata": {},
   "outputs": [
    {
     "name": "stdout",
     "output_type": "stream",
     "text": [
      "Immediate value: 8\n",
      "LCU is in loop control mode\n",
      "Jump to address IMM + R1\n",
      "No LCU registers are being written\n"
     ]
    }
   ],
   "source": [
    "# Load an existing imem word and decode it\n",
    "imem_pos = 1\n",
    "imem_word = 0xe5a08\n",
    "\n",
    "lcu_imem = LCU_IMEM()\n",
    "lcu_imem.set_kernel_word(imem_word, imem_pos)\n",
    "lcu_imem.get_instruction_info(imem_pos)"
   ]
  },
  {
   "cell_type": "code",
   "execution_count": 25,
   "id": "30718751",
   "metadata": {},
   "outputs": [
    {
     "name": "stdout",
     "output_type": "stream",
     "text": [
      "Hex representation: 0xdc383\n",
      "Immediate value: 3\n",
      "LCU is in loop control mode\n",
      "Performing ALU operation SADD between operands ZERO and ONE\n",
      "Writing ALU result to LCU register 2\n"
     ]
    }
   ],
   "source": [
    "# Create a new kernel\n",
    "imem_pos = 2\n",
    "lcu_imem.set_kernel_params(imm=3, rf_wsel=2, rf_we=1, alu_op=LCU_ALU_OPS.SADD.value, br_mode=0, muxb_sel=LCU_MUXB_SEL.ONE.value, muxa_sel=LCU_MUXA_SEL.ZERO, pos=imem_pos)\n",
    "print(\"Hex representation: \" + lcu_imem.get_word_in_hex(imem_pos))\n",
    "lcu_imem.get_instruction_info(imem_pos)"
   ]
  },
  {
   "cell_type": "markdown",
   "id": "45c184d2",
   "metadata": {},
   "source": [
    "### Load Store Unit IMEM "
   ]
  },
  {
   "cell_type": "code",
   "execution_count": 26,
   "id": "5d24b2de",
   "metadata": {},
   "outputs": [
    {
     "name": "stdout",
     "output_type": "stream",
     "text": [
      "No loading, storing, or shuffling taking place\n",
      "Performing ALU operation SADD between operands R0 and ONE\n",
      "Writing ALU result to LSU register 1\n"
     ]
    }
   ],
   "source": [
    "# Load an existing imem word and decode it\n",
    "imem_pos = 1\n",
    "imem_word = 0x539\n",
    "\n",
    "lsu_imem = LSU_IMEM()\n",
    "lsu_imem.set_kernel_word(imem_word, imem_pos)\n",
    "lsu_imem.get_instruction_info(imem_pos)"
   ]
  },
  {
   "cell_type": "code",
   "execution_count": 27,
   "id": "f6ff5533",
   "metadata": {},
   "outputs": [
    {
     "name": "stdout",
     "output_type": "stream",
     "text": [
      "Hex representation: 0xe5aea\n",
      "Shuffling VWR A and B data into VWR C using operation CONCAT_BITREV_UPPER\n",
      "Performing ALU operation SRL between operands TWO and R5\n",
      "Writing ALU result to LSU register 2\n"
     ]
    }
   ],
   "source": [
    "# Create a new kernel\n",
    "imem_pos = 2\n",
    "lsu_imem.set_kernel_params(rf_wsel=2, rf_we=1, alu_op=LSU_ALU_OPS.SRL.value, muxb_sel=LSU_MUXA_SEL.R5.value, muxa_sel=LSU_MUXB_SEL.TWO, vwr_shuf_op=SHUFFLE_SEL.CONCAT_BITREV_UPPER.value, vwr_shuf_sel=LSU_OP_MODE.SHUFFLE.value, pos=imem_pos)\n",
    "print(\"Hex representation: \" + lsu_imem.get_word_in_hex(imem_pos))\n",
    "lsu_imem.get_instruction_info(imem_pos)"
   ]
  },
  {
   "cell_type": "markdown",
   "id": "db17868e",
   "metadata": {},
   "source": [
    "### Multiplexer Control Unit IMEM"
   ]
  },
  {
   "cell_type": "code",
   "execution_count": 2,
   "id": "ad4d6311",
   "metadata": {},
   "outputs": [
    {
     "name": "stdout",
     "output_type": "stream",
     "text": [
      "Not writing to VWRs\n",
      "Not writing to the SRF\n",
      "Performing ALU operation LOR between operands SRF and ZERO\n",
      "Writing ALU result to MXCU register 0\n"
     ]
    }
   ],
   "source": [
    "# Load an existing imem word and decode it\n",
    "imem_pos = 1\n",
    "imem_word = 0x44e8080\n",
    "\n",
    "mxcu_imem = MXCU_IMEM()\n",
    "mxcu_imem.set_kernel_word(imem_word, imem_pos)\n",
    "mxcu_imem.get_instruction_info(imem_pos)"
   ]
  },
  {
   "cell_type": "code",
   "execution_count": 3,
   "id": "51783f2f",
   "metadata": {},
   "outputs": [
    {
     "name": "stdout",
     "output_type": "stream",
     "text": [
      "Writing to VWR rows [1 2 3] of VWR_B\n",
      "Writing from LCU ALU to SRF register 3\n",
      "Performing ALU operation SADD between operands TWO and R0\n",
      "No MXCU registers are being written\n"
     ]
    }
   ],
   "source": [
    "imem_pos = 2\n",
    "vwr_row_we = [1, 1, 1, 0]\n",
    "vwr_sel = MXCU_VWR_SEL.VWR_B.value\n",
    "srf_sel = 3\n",
    "alu_srf_write = ALU_SRF_WRITE.MXCU.value \n",
    "srf_we = 1\n",
    "rf_wsel = 0 \n",
    "rf_we = 0 \n",
    "alu_op =  MXCU_ALU_OPS.SADD.value\n",
    "muxb_sel = MXCU_MUXB_SEL.R0\n",
    "muxa_sel = MXCU_MUXA_SEL.TWO\n",
    "mxcu_imem.set_kernel_params(vwr_row_we, vwr_sel, srf_sel, alu_srf_write, srf_we, rf_wsel, rf_we, alu_op, muxb_sel, muxa_sel, imem_pos)\n",
    "mxcu_imem.get_instruction_info(imem_pos)"
   ]
  },
  {
   "cell_type": "code",
   "execution_count": null,
   "id": "8c15a98d",
   "metadata": {},
   "outputs": [],
   "source": []
  }
 ],
 "metadata": {
  "kernelspec": {
   "display_name": "Python 3 (ipykernel)",
   "language": "python",
   "name": "python3"
  },
  "language_info": {
   "codemirror_mode": {
    "name": "ipython",
    "version": 3
   },
   "file_extension": ".py",
   "mimetype": "text/x-python",
   "name": "python",
   "nbconvert_exporter": "python",
   "pygments_lexer": "ipython3",
   "version": "3.9.7"
  }
 },
 "nbformat": 4,
 "nbformat_minor": 5
}
