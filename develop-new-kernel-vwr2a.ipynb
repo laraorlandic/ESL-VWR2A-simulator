{
 "cells": [
  {
   "cell_type": "code",
   "execution_count": 41,
   "id": "5e0a478f",
   "metadata": {},
   "outputs": [
    {
     "name": "stdout",
     "output_type": "stream",
     "text": [
      "The autoreload extension is already loaded. To reload it, use:\n",
      "  %reload_ext autoreload\n"
     ]
    }
   ],
   "source": [
    "%load_ext autoreload\n",
    "%autoreload 2\n",
    "import numpy as np\n",
    "import pandas as pd \n",
    "import sys, os\n",
    "sys.path.append(os.path.abspath('src'))\n",
    "from src.ker_conf import *\n",
    "from src.lcu import *\n",
    "from src.lsu import *"
   ]
  },
  {
   "cell_type": "markdown",
   "id": "f7918b3b",
   "metadata": {},
   "source": [
    "### KERNEL CONFIGURATION\n",
    "Set up an application to be accelerated by loading the different kernel configurations into the kernel memory"
   ]
  },
  {
   "cell_type": "code",
   "execution_count": 3,
   "id": "81aeaf93",
   "metadata": {},
   "outputs": [
    {
     "name": "stdout",
     "output_type": "stream",
     "text": [
      "This kernel uses 43 instruction words starting at IMEM address 0.\n",
      "It uses column(s): 0.\n",
      "The SRF is located in SPM bank 0.\n"
     ]
    }
   ],
   "source": [
    "# Load an existing kernel into memory\n",
    "kmem_pos = 1\n",
    "kmem_word = 0x802b\n",
    "\n",
    "kmem = KER_CONF()\n",
    "kmem.set_kernel_word(kmem_word, kmem_pos)\n",
    "kmem.get_kernel_info(kmem_pos)"
   ]
  },
  {
   "cell_type": "code",
   "execution_count": 4,
   "id": "80e63aef",
   "metadata": {},
   "outputs": [
    {
     "name": "stdout",
     "output_type": "stream",
     "text": [
      "Hex representation: 0x38b14\n",
      "This kernel uses 20 instruction words starting at IMEM address 44.\n",
      "It uses column(s): both.\n",
      "The SRF is located in SPM bank 1.\n"
     ]
    }
   ],
   "source": [
    "# Create a new kernel\n",
    "kmem_pos = 2\n",
    "kmem.set_kernel_params(num_instructions=20, imem_add_start=44, column_usage=3, srf_spm_addres=1, pos=kmem_pos)\n",
    "print(\"Hex representation: \" + kmem.get_word_in_hex(kmem_pos))\n",
    "kmem.get_kernel_info(kmem_pos)"
   ]
  },
  {
   "cell_type": "markdown",
   "id": "a48be74e",
   "metadata": {},
   "source": [
    "### Loop Control Unit IMEM "
   ]
  },
  {
   "cell_type": "code",
   "execution_count": 5,
   "id": "fce7b90d",
   "metadata": {},
   "outputs": [
    {
     "name": "stdout",
     "output_type": "stream",
     "text": [
      "Immediate value: 8\n",
      "LCU is in loop control mode\n",
      "Jump to address IMM + R1\n",
      "No LCU registers are being written\n"
     ]
    }
   ],
   "source": [
    "# Load an existing imem word and decode it\n",
    "imem_pos = 1\n",
    "imem_word = 0xe5a08\n",
    "\n",
    "lcu_imem = LCU_IMEM()\n",
    "lcu_imem.set_kernel_word(imem_word, imem_pos)\n",
    "lcu_imem.get_instruction_info(imem_pos)"
   ]
  },
  {
   "cell_type": "code",
   "execution_count": 6,
   "id": "30718751",
   "metadata": {},
   "outputs": [
    {
     "name": "stdout",
     "output_type": "stream",
     "text": [
      "Hex representation: 0xdc383\n",
      "Immediate value: 3\n",
      "LCU is in loop control mode\n",
      "Performing ALU operation SADD between operands ZERO and ONE\n",
      "Writing ALU result to LCU register 2\n"
     ]
    }
   ],
   "source": [
    "# Create a new kernel\n",
    "imem_pos = 2\n",
    "lcu_imem.set_kernel_params(imm=3, rf_wsel=2, rf_we=1, alu_op=LCU_ALU_OPS.SADD.value, br_mode=0, muxb_sel=LCU_MUXB_SEL.ONE.value, muxa_sel=LCU_MUXA_SEL.ZERO, pos=imem_pos)\n",
    "print(\"Hex representation: \" + lcu_imem.get_word_in_hex(imem_pos))\n",
    "lcu_imem.get_instruction_info(imem_pos)"
   ]
  },
  {
   "cell_type": "markdown",
   "id": "45c184d2",
   "metadata": {},
   "source": [
    "### Load Store Unit IMEM "
   ]
  },
  {
   "cell_type": "code",
   "execution_count": 36,
   "id": "5d24b2de",
   "metadata": {},
   "outputs": [
    {
     "name": "stdout",
     "output_type": "stream",
     "text": [
      "No loading, storing, or shuffling taking place\n",
      "Performing ALU operation SADD between operands R0 and ONE\n",
      "Writing ALU result to LCU register 1\n"
     ]
    }
   ],
   "source": [
    "# Load an existing imem word and decode it\n",
    "imem_pos = 1\n",
    "imem_word = 0x539\n",
    "\n",
    "lsu_imem = LSU_IMEM()\n",
    "lsu_imem.set_kernel_word(imem_word, imem_pos)\n",
    "lsu_imem.get_instruction_info(imem_pos)"
   ]
  },
  {
   "cell_type": "code",
   "execution_count": 42,
   "id": "ac681a9c",
   "metadata": {},
   "outputs": [
    {
     "ename": "TypeError",
     "evalue": "set_kernel_params() got an unexpected keyword argument 'pos'",
     "output_type": "error",
     "traceback": [
      "\u001b[1;31m---------------------------------------------------------------------------\u001b[0m",
      "\u001b[1;31mTypeError\u001b[0m                                 Traceback (most recent call last)",
      "\u001b[1;32m~\\AppData\\Local\\Temp/ipykernel_11528/234986810.py\u001b[0m in \u001b[0;36m<module>\u001b[1;34m\u001b[0m\n\u001b[0;32m      1\u001b[0m \u001b[1;31m# Create a new kernel\u001b[0m\u001b[1;33m\u001b[0m\u001b[1;33m\u001b[0m\u001b[0m\n\u001b[0;32m      2\u001b[0m \u001b[0mimem_pos\u001b[0m \u001b[1;33m=\u001b[0m \u001b[1;36m2\u001b[0m\u001b[1;33m\u001b[0m\u001b[1;33m\u001b[0m\u001b[0m\n\u001b[1;32m----> 3\u001b[1;33m \u001b[0mlsu_imem\u001b[0m\u001b[1;33m.\u001b[0m\u001b[0mset_kernel_params\u001b[0m\u001b[1;33m(\u001b[0m\u001b[0mrf_wsel\u001b[0m\u001b[1;33m=\u001b[0m\u001b[1;36m2\u001b[0m\u001b[1;33m,\u001b[0m \u001b[0mrf_we\u001b[0m\u001b[1;33m=\u001b[0m\u001b[1;36m1\u001b[0m\u001b[1;33m,\u001b[0m \u001b[0malu_op\u001b[0m\u001b[1;33m=\u001b[0m\u001b[0mLSU_ALU_OPS\u001b[0m\u001b[1;33m.\u001b[0m\u001b[0mSRL\u001b[0m\u001b[1;33m.\u001b[0m\u001b[0mvalue\u001b[0m\u001b[1;33m,\u001b[0m \u001b[0mmuxb_sel\u001b[0m\u001b[1;33m=\u001b[0m\u001b[0mLSU_MUXA_SEL\u001b[0m\u001b[1;33m.\u001b[0m\u001b[0mR5\u001b[0m\u001b[1;33m.\u001b[0m\u001b[0mvalue\u001b[0m\u001b[1;33m,\u001b[0m \u001b[0mmuxa_sel\u001b[0m\u001b[1;33m=\u001b[0m\u001b[0mLSU_MUXB_SEL\u001b[0m\u001b[1;33m.\u001b[0m\u001b[0mTWO\u001b[0m\u001b[1;33m,\u001b[0m \u001b[0mvwr_shuf_op\u001b[0m\u001b[1;33m=\u001b[0m\u001b[0mSHUFFLE_SEL\u001b[0m\u001b[1;33m.\u001b[0m\u001b[0mCONCAT_BITREV_UPPER\u001b[0m\u001b[1;33m.\u001b[0m\u001b[0mvalue\u001b[0m\u001b[1;33m,\u001b[0m \u001b[0mvwr_shuf_sel\u001b[0m\u001b[1;33m=\u001b[0m\u001b[0mLSU_OP_MODE\u001b[0m\u001b[1;33m.\u001b[0m\u001b[0mSHUFFLE\u001b[0m\u001b[1;33m.\u001b[0m\u001b[0mvalue\u001b[0m\u001b[1;33m,\u001b[0m \u001b[0mpos\u001b[0m\u001b[1;33m=\u001b[0m\u001b[0mimem_pos\u001b[0m\u001b[1;33m)\u001b[0m\u001b[1;33m\u001b[0m\u001b[1;33m\u001b[0m\u001b[0m\n\u001b[0m\u001b[0;32m      4\u001b[0m \u001b[0mprint\u001b[0m\u001b[1;33m(\u001b[0m\u001b[1;34m\"Hex representation: \"\u001b[0m \u001b[1;33m+\u001b[0m \u001b[0mlsu_imem\u001b[0m\u001b[1;33m.\u001b[0m\u001b[0mget_word_in_hex\u001b[0m\u001b[1;33m(\u001b[0m\u001b[0mimem_pos\u001b[0m\u001b[1;33m)\u001b[0m\u001b[1;33m)\u001b[0m\u001b[1;33m\u001b[0m\u001b[1;33m\u001b[0m\u001b[0m\n\u001b[0;32m      5\u001b[0m \u001b[0mlsu_imem\u001b[0m\u001b[1;33m.\u001b[0m\u001b[0mget_instruction_info\u001b[0m\u001b[1;33m(\u001b[0m\u001b[0mimem_pos\u001b[0m\u001b[1;33m)\u001b[0m\u001b[1;33m\u001b[0m\u001b[1;33m\u001b[0m\u001b[0m\n",
      "\u001b[1;31mTypeError\u001b[0m: set_kernel_params() got an unexpected keyword argument 'pos'"
     ]
    }
   ],
   "source": [
    "# Create a new kernel\n",
    "imem_pos = 2\n",
    "lsu_imem.set_kernel_params(rf_wsel=2, rf_we=1, alu_op=LSU_ALU_OPS.SRL.value, muxb_sel=LSU_MUXA_SEL.R5.value, muxa_sel=LSU_MUXB_SEL.TWO, vwr_shuf_op=SHUFFLE_SEL.CONCAT_BITREV_UPPER.value, vwr_shuf_sel=LSU_OP_MODE.SHUFFLE.value, pos=imem_pos)\n",
    "print(\"Hex representation: \" + lsu_imem.get_word_in_hex(imem_pos))\n",
    "lsu_imem.get_instruction_info(imem_pos)"
   ]
  },
  {
   "cell_type": "code",
   "execution_count": null,
   "id": "c6ce11bf",
   "metadata": {},
   "outputs": [],
   "source": []
  }
 ],
 "metadata": {
  "kernelspec": {
   "display_name": "Python 3 (ipykernel)",
   "language": "python",
   "name": "python3"
  },
  "language_info": {
   "codemirror_mode": {
    "name": "ipython",
    "version": 3
   },
   "file_extension": ".py",
   "mimetype": "text/x-python",
   "name": "python",
   "nbconvert_exporter": "python",
   "pygments_lexer": "ipython3",
   "version": "3.9.7"
  }
 },
 "nbformat": 4,
 "nbformat_minor": 5
}
