{
 "cells": [
  {
   "cell_type": "markdown",
   "id": "a8264823",
   "metadata": {},
   "source": [
    "# Develop a new VWR2A kernel using the VWR2A simulator\n",
    "This notebook illustrates how to use the simulator both for decoding existing VWR2A kernels (using isntructions from the morphological filter erosion example), as well as writing your own kernels by translating human-readable variables into hexadacimal ISA instructions for each specialized slot. At the end, we develop a working kernel that adds two vectors together.\n",
    "\n",
    "Note: For now, only one-column kernels are supported."
   ]
  },
  {
   "cell_type": "code",
   "execution_count": 1,
   "id": "5e0a478f",
   "metadata": {},
   "outputs": [],
   "source": [
    "%load_ext autoreload\n",
    "%autoreload 2\n",
    "import numpy as np\n",
    "import pandas as pd \n",
    "import sys, os\n",
    "from src import *\n",
    "from helpers import *"
   ]
  },
  {
   "cell_type": "markdown",
   "id": "0b467eeb",
   "metadata": {},
   "source": [
    "# ISAs for specialized slots\n",
    "First, we set up objects for each specialized slot of the VWR2A (i.e. kernel configuration, Load Store Unit, Reconfigurable Cells, etc.) and show how the instructions are decoded and encoded. For detailed descriptions of what function each ISA component does in each specialized slot, please see ``vwr2a_docs/vwr2a_ISA.docx``."
   ]
  },
  {
   "cell_type": "markdown",
   "id": "f7918b3b",
   "metadata": {},
   "source": [
    "### KERNEL CONFIGURATION\n",
    "Set up an application to be accelerated by loading the different kernel configurations into the kernel memory"
   ]
  },
  {
   "cell_type": "code",
   "execution_count": 2,
   "id": "81aeaf93",
   "metadata": {},
   "outputs": [
    {
     "name": "stdout",
     "output_type": "stream",
     "text": [
      "This kernel uses 44 instruction words starting at IMEM address 0.\n",
      "It uses column(s): 0.\n",
      "The SRF is located in SPM bank 0.\n"
     ]
    }
   ],
   "source": [
    "# Load an existing kernel into memory\n",
    "kmem_pos = 1\n",
    "kmem_word = 0x802b\n",
    "\n",
    "kmem = KMEM()\n",
    "kmem.imem.set_word(kmem_word, kmem_pos)\n",
    "kmem.imem.get_kernel_info(kmem_pos)"
   ]
  },
  {
   "cell_type": "code",
   "execution_count": 3,
   "id": "80e63aef",
   "metadata": {},
   "outputs": [
    {
     "name": "stdout",
     "output_type": "stream",
     "text": [
      "Hex representation: 0x8000\n",
      "This kernel uses 1 instruction words starting at IMEM address 0.\n",
      "It uses column(s): 0.\n",
      "The SRF is located in SPM bank 0.\n"
     ]
    }
   ],
   "source": [
    "# Create a new kernel\n",
    "kmem_pos = 2\n",
    "\n",
    "# Kernel configuration parameters\n",
    "num_instructions=1\n",
    "imem_add_start=0\n",
    "col_one_hot=1\n",
    "srf_spm_addres=0\n",
    "\n",
    "kmem.imem.set_params(num_instructions, imem_add_start, col_one_hot, srf_spm_addres, kmem_pos)\n",
    "print(\"Hex representation: \" + kmem.imem.get_word_in_hex(kmem_pos))\n",
    "kmem.imem.get_kernel_info(kmem_pos)"
   ]
  },
  {
   "cell_type": "markdown",
   "id": "a48be74e",
   "metadata": {},
   "source": [
    "### Loop Control Unit IMEM "
   ]
  },
  {
   "cell_type": "code",
   "execution_count": 4,
   "id": "fce7b90d",
   "metadata": {},
   "outputs": [
    {
     "name": "stdout",
     "output_type": "stream",
     "text": [
      "Assembly representation: EXIT\n"
     ]
    }
   ],
   "source": [
    "# Load an existing imem word and decode it\n",
    "imem_pos = 1\n",
    "imem_word = 0xd9c00\n",
    "\n",
    "lcu_imem = LCU_IMEM()\n",
    "lcu_imem.set_word(imem_word, imem_pos)\n",
    "asm = lcu_imem.get_instruction_asm(imem_pos)\n",
    "print(\"Assembly representation: \" + asm)"
   ]
  },
  {
   "cell_type": "code",
   "execution_count": 5,
   "id": "30718751",
   "metadata": {},
   "outputs": [
    {
     "name": "stdout",
     "output_type": "stream",
     "text": [
      "Hex representation: 0xdc383\n",
      "Assembly representation: SADD R2, ONE, ZERO\n",
      "Immediate value: 3\n",
      "LCU is in loop control mode\n",
      "Performing ALU operation SADD between operands ZERO and ONE\n",
      "Writing ALU result to LCU register 2\n"
     ]
    }
   ],
   "source": [
    "# Create a new instruction\n",
    "imem_pos = 2\n",
    "\n",
    "# Define instruction parameters\n",
    "imm=3\n",
    "rf_wsel=2\n",
    "rf_we=1\n",
    "alu_op=LCU_ALU_OPS.SADD\n",
    "br_mode=0\n",
    "muxb_sel=LCU_MUXB_SEL.ONE\n",
    "muxa_sel=LCU_MUXA_SEL.ZERO\n",
    "\n",
    "lcu_imem.set_params(imm, rf_wsel, rf_we, alu_op, br_mode, muxb_sel, muxa_sel, imem_pos)\n",
    "print(\"Hex representation: \" + lcu_imem.get_word_in_hex(imem_pos))\n",
    "asm = lcu_imem.get_instruction_asm(imem_pos)\n",
    "print(\"Assembly representation: \" + asm)\n",
    "lcu_imem.get_instruction_info(imem_pos)\n"
   ]
  },
  {
   "cell_type": "markdown",
   "id": "45c184d2",
   "metadata": {},
   "source": [
    "### Load Store Unit IMEM "
   ]
  },
  {
   "cell_type": "code",
   "execution_count": 6,
   "id": "5d24b2de",
   "metadata": {},
   "outputs": [
    {
     "name": "stdout",
     "output_type": "stream",
     "text": [
      "Hex representation: 0x4c80\n",
      "Assembly representation: LAND SRF(?), ZERO, ZERO/NOP\n",
      "No loading, storing, or shuffling taking place\n",
      "Performing ALU operation LAND between operands ZERO and ZERO\n",
      "No LSU registers are being written\n"
     ]
    }
   ],
   "source": [
    "# Load an existing imem word and decode it\n",
    "imem_pos = 1\n",
    "imem_word = 0x4c80\n",
    "\n",
    "lsu_imem = LSU_IMEM()\n",
    "lsu_imem.set_word(imem_word, imem_pos)\n",
    "print(\"Hex representation: \" + lsu_imem.get_word_in_hex(imem_pos))\n",
    "asm = lsu_imem.get_instruction_asm(imem_pos)\n",
    "print(\"Assembly representation: \" + asm)\n",
    "lsu_imem.get_instruction_info(imem_pos)"
   ]
  },
  {
   "cell_type": "code",
   "execution_count": 17,
   "id": "673b45cb",
   "metadata": {},
   "outputs": [
    {
     "name": "stdout",
     "output_type": "stream",
     "text": [
      "Hex representation: 0xe5aea\n",
      "Assembly representation: SRL R2, TWO, R5/SH.BRE.UP\n",
      "No loading, storing, or shuffling taking place\n",
      "Performing ALU operation SRL between operands TWO and R5\n",
      "Writing ALU result to LSU register 2\n"
     ]
    }
   ],
   "source": [
    "# Create a new instruction\n",
    "imem_pos = 2\n",
    "\n",
    "# Define instruction parameters\n",
    "rf_wsel=2\n",
    "rf_we=1\n",
    "alu_op=LSU_ALU_OPS.SRL\n",
    "muxb_sel=LSU_MUX_SEL.R5\n",
    "muxa_sel=LSU_MUX_SEL.TWO\n",
    "vwr_shuf_op=SHUFFLE_SEL.CONCAT_BITREV_UPPER\n",
    "vwr_shuf_sel=LSU_MEM_OP.SHUFFLE\n",
    "\n",
    "lsu_imem.set_params(rf_wsel, rf_we, alu_op, muxb_sel, muxa_sel, vwr_shuf_op, vwr_shuf_sel, imem_pos)\n",
    "print(\"Hex representation: \" + lsu_imem.get_word_in_hex(imem_pos))\n",
    "asm = lsu_imem.get_instruction_asm(imem_pos)\n",
    "print(\"Assembly representation: \" + asm)\n",
    "lsu_imem.get_instruction_info(imem_pos)"
   ]
  },
  {
   "cell_type": "markdown",
   "id": "4aa4392c",
   "metadata": {},
   "source": [
    "### Multiplexer Control Unit IMEM"
   ]
  },
  {
   "cell_type": "code",
   "execution_count": 8,
   "id": "41778210",
   "metadata": {},
   "outputs": [
    {
     "name": "stdout",
     "output_type": "stream",
     "text": [
      "Not writing to VWRs\n",
      "Reading from SRF index 1\n",
      "Performing ALU operation NOP between operands R0 and R0\n",
      "No MXCU registers are being written\n"
     ]
    }
   ],
   "source": [
    "# Load an existing imem word and decode it\n",
    "imem_pos = 1\n",
    "imem_word = 0x40\n",
    "\n",
    "mxcu_imem = MXCU_IMEM()\n",
    "mxcu_imem.set_word(imem_word, imem_pos)\n",
    "mxcu_imem.get_instruction_info(imem_pos)"
   ]
  },
  {
   "cell_type": "code",
   "execution_count": 9,
   "id": "8d25ddda",
   "metadata": {},
   "outputs": [
    {
     "name": "stdout",
     "output_type": "stream",
     "text": [
      "Writing to VWR rows [1 2 3] of VWR_B\n",
      "Writing from MXCU ALU to SRF register 3\n",
      "Performing ALU operation SADD between operands TWO and R0\n",
      "No MXCU registers are being written\n"
     ]
    }
   ],
   "source": [
    "# Create a new instruction\n",
    "imem_pos = 2\n",
    "\n",
    "# Define instruction parameters\n",
    "vwr_row_we = [1, 1, 1, 0]\n",
    "vwr_sel = MXCU_VWR_SEL.VWR_B.value\n",
    "srf_sel = 3\n",
    "alu_srf_write = ALU_SRF_WRITE.MXCU\n",
    "srf_we = 1\n",
    "rf_wsel = 0 \n",
    "rf_we = 0 \n",
    "alu_op =  MXCU_ALU_OPS.SADD\n",
    "muxb_sel = MXCU_MUX_SEL.R0\n",
    "muxa_sel = MXCU_MUX_SEL.TWO\n",
    "\n",
    "mxcu_imem.set_params(vwr_row_we, vwr_sel, srf_sel, alu_srf_write, srf_we, rf_wsel, rf_we, alu_op, muxb_sel, muxa_sel, imem_pos)\n",
    "mxcu_imem.get_instruction_info(imem_pos)"
   ]
  },
  {
   "cell_type": "markdown",
   "id": "cb7c3ea4",
   "metadata": {},
   "source": [
    "### Reconfigurable Cell IMEM"
   ]
  },
  {
   "cell_type": "code",
   "execution_count": 10,
   "id": "a222e214",
   "metadata": {},
   "outputs": [
    {
     "name": "stdout",
     "output_type": "stream",
     "text": [
      "Performing ALU operation LOR between operands SRF and ZERO\n",
      "ALU is performing operations with 32-bit precision\n",
      "Writing ALU result to RC register 1\n"
     ]
    }
   ],
   "source": [
    "# Load an existing imem word and decode it\n",
    "imem_pos = 1\n",
    "imem_word = 0xe923\n",
    "\n",
    "rc_imem = RC_IMEM()\n",
    "rc_imem.set_word(imem_word, imem_pos)\n",
    "rc_imem.get_instruction_info(imem_pos)"
   ]
  },
  {
   "cell_type": "code",
   "execution_count": 11,
   "id": "b9a334d0",
   "metadata": {},
   "outputs": [
    {
     "name": "stdout",
     "output_type": "stream",
     "text": [
      "Output VWR_B if sign flag of RCT == 1, else output VWR_A\n",
      "Writing ALU result to RC register 1\n"
     ]
    }
   ],
   "source": [
    "# Create a new instruction\n",
    "imem_pos = 2\n",
    "\n",
    "# Define instruction parameters\n",
    "rf_wsel = 1 \n",
    "rf_we = 1 \n",
    "muxf_sel = RC_MUXF_SEL.RCT \n",
    "alu_op =  RC_ALU_OPS.INB_SF_INA\n",
    "op_mode = 0 #Always keep this to zero; 16-bit mode is not supported yet\n",
    "muxb_sel =  RC_MUX_SEL.VWR_A\n",
    "muxa_sel = RC_MUX_SEL.VWR_B\n",
    "\n",
    "rc_imem.set_params(rf_wsel, rf_we, muxf_sel, alu_op, op_mode, muxb_sel, muxa_sel, imem_pos)\n",
    "rc_imem.get_instruction_info(imem_pos)"
   ]
  },
  {
   "cell_type": "markdown",
   "id": "6cb1a0d9",
   "metadata": {},
   "source": [
    "## Putting it all together: Instruction memory"
   ]
  },
  {
   "cell_type": "markdown",
   "id": "d55dd3ed",
   "metadata": {},
   "source": [
    "### Process existing kernel\n",
    "Load an existing kernel (in the form of an excel sheet where each row is a clock cycle and each column is a specialized slot) and use the simulator to understand what is going on in each element at a given clock cycle"
   ]
  },
  {
   "cell_type": "code",
   "execution_count": 12,
   "id": "0188d74a",
   "metadata": {},
   "outputs": [
    {
     "name": "stdout",
     "output_type": "stream",
     "text": [
      "Processing file: ./kernels/mf_q64_erosion/instructions_hex.csv...\n"
     ]
    }
   ],
   "source": [
    "from src.simulator import *\n",
    "sim = SIMULATOR()\n",
    "\n",
    "# --------------------------------------------\n",
    "#               KERNEL CONFIGURATION\n",
    "# --------------------------------------------\n",
    "kernel_path = './kernels/mf_q64_erosion/' # Path\n",
    "kernel_number = 1 # Kernel number (from 1 to 15)\n",
    "column_usage = [True, False] # Columns to use\n",
    "nInstrPerCol = 44 # Number of instructions per column\n",
    "imem_add_start = 0 # Start address on imem for this kernel\n",
    "srf_spm_addres = 0 # Line of the SPM with the initial data for the SRF\n",
    "\n",
    "sim.kernel_config(column_usage, nInstrPerCol, imem_add_start, srf_spm_addres, kernel_number) # Kernel info\n",
    "\n",
    "# --------------------------------------------\n",
    "#                 LOAD KERNEL\n",
    "# --------------------------------------------\n",
    "\n",
    "# This needs the hex instructions, if you don't provide them, generate then compiling the asm\n",
    "sim.kernel_load(kernel_path, kernel_number=kernel_number)"
   ]
  },
  {
   "cell_type": "code",
   "execution_count": 13,
   "id": "a2760d60",
   "metadata": {},
   "outputs": [
    {
     "name": "stdout",
     "output_type": "stream",
     "text": [
      "44: EXIT\n"
     ]
    }
   ],
   "source": [
    "# Make sure that the last kernel value is the exit instruction\n",
    "nInstrPerCol, imem_add_start, col_one_hot, srf_spm_address = sim.vwr2a.kmem.imem.get_params(kernel_number)\n",
    "nInstrPerCol+=1\n",
    "\n",
    "if col_one_hot == 3:\n",
    "    asm_word = sim.vwr2a.imem.lcu_imem[2*nInstrPerCol + imem_add_start -1].get_word_in_asm()\n",
    "else:\n",
    "    asm_word = sim.vwr2a.imem.lcu_imem[nInstrPerCol + imem_add_start -1].get_word_in_asm()\n",
    "print(str(nInstrPerCol + imem_add_start) + \": \" + asm_word)\n",
    "\n",
    "# for i in range(nInstrPerCol):\n",
    "#     asm_word = sim.vwr2a.imem.lcu_imem[i].get_word_in_asm()\n",
    "#     print(str(i) +\": \" + asm_word)\n"
   ]
  },
  {
   "cell_type": "markdown",
   "id": "8869414c",
   "metadata": {},
   "source": [
    "### Load a 2-column kernel\n",
    "Kernels can use either one column of the CGRA, or both in parallel. The FFT example uses both."
   ]
  },
  {
   "cell_type": "code",
   "execution_count": 14,
   "id": "6fee52e5",
   "metadata": {},
   "outputs": [
    {
     "name": "stdout",
     "output_type": "stream",
     "text": [
      "Processing file: kernels/fft/instructions_hex.csv...\n"
     ]
    }
   ],
   "source": [
    "sim = SIMULATOR()\n",
    "\n",
    "# --------------------------------------------\n",
    "#               KERNEL CONFIGURATION\n",
    "# --------------------------------------------\n",
    "kernel_path = \"kernels/fft/\"\n",
    "kernel_number = 1 # Kernel number (from 1 to 15)\n",
    "column_usage = [True, True] # Columns to use\n",
    "nInstrPerCol = 39 # Number of instructions per column\n",
    "imem_add_start = 0 # Start address on imem for this kernel\n",
    "srf_spm_addres = 0 # Line of the SPM with the initial data for the SRF\n",
    "\n",
    "sim.kernel_config(column_usage, nInstrPerCol, imem_add_start, srf_spm_addres, kernel_number)\n",
    "\n",
    "# --------------------------------------------\n",
    "#                 LOAD KERNEL\n",
    "# --------------------------------------------\n",
    "\n",
    "# This needs the hex instructions, if you don't provide them, generate then compiling the asm\n",
    "sim.kernel_load(kernel_path, kernel_number=kernel_number)"
   ]
  },
  {
   "cell_type": "code",
   "execution_count": 15,
   "id": "1a0664fe",
   "metadata": {},
   "outputs": [
    {
     "name": "stdout",
     "output_type": "stream",
     "text": [
      "This kernel uses 39 instruction words starting at IMEM address 0.\n",
      "It uses column(s): both.\n",
      "The SRF is located in SPM bank 0.\n"
     ]
    }
   ],
   "source": [
    "# Get the info of the kernel\n",
    "sim.vwr2a.kmem.imem.get_kernel_info(kernel_number)"
   ]
  },
  {
   "cell_type": "code",
   "execution_count": 16,
   "id": "850abf88",
   "metadata": {},
   "outputs": [
    {
     "name": "stdout",
     "output_type": "stream",
     "text": [
      "LCU:\n",
      "['NOP', 'LOR R0, ZERO, SRF(?)', 'SADD R2, ONE, R0', 'NOP', 'NOP', 'NOP', 'NOP', 'NOP', 'NOP', 'LOR R3, ZERO, LAST', 'NOP', 'BGEPD ZERO, R3, 10', 'LOR R3, ZERO, LAST', 'LOR R1, ZERO, ZERO', 'BGEPD ZERO, R3, 14', 'LOR R3, ZERO, LAST', 'LOR R1, ONE, ZERO', 'NOP', 'BGEPD ZERO, R3, 17', 'NOP', 'NOP', 'NOP', 'LOR R1, ZERO, ZERO', 'SRL R2, ONE, R2', 'SSUB R3, ONE, R2', 'LOR R3, ZERO, R0', 'LOR R1, ONE, ZERO', 'NOP', 'BEQ ZERO, R1, 32', 'NOP', 'NOP', 'BEQ ZERO, ZERO, 33', 'NOP', 'BGEPD ZERO, R3, 27', 'NOP', 'NOP', 'BEQ ONE, R1, 38', 'BEQ ZERO, ZERO, 14', 'BEQ ZERO, ZERO, 17']\n"
     ]
    }
   ],
   "source": [
    "# Note that now, the second column is populated with non-default instructions\n",
    "lcu_asm_words = []\n",
    "for i in range(nInstrPerCol, nInstrPerCol*2):\n",
    "    lcu_asm_words.append(sim.vwr2a.imem.lcu_imem[i].get_word_in_asm())\n",
    "print(\"LCU:\")\n",
    "print(lcu_asm_words)"
   ]
  },
  {
   "cell_type": "markdown",
   "id": "6b3e65c2",
   "metadata": {},
   "source": [
    "### Now, your turn!\n",
    "Either use the example above to make a new kernel, or see how we can optimize this one. Can you think of a way to avoid repeating the add instruction 32 times (HINT: use the LCU)."
   ]
  }
 ],
 "metadata": {
  "kernelspec": {
   "display_name": "Python 3 (ipykernel)",
   "language": "python",
   "name": "python3"
  },
  "language_info": {
   "codemirror_mode": {
    "name": "ipython",
    "version": 3
   },
   "file_extension": ".py",
   "mimetype": "text/x-python",
   "name": "python",
   "nbconvert_exporter": "python",
   "pygments_lexer": "ipython3",
   "version": "3.11.4"
  }
 },
 "nbformat": 4,
 "nbformat_minor": 5
}
