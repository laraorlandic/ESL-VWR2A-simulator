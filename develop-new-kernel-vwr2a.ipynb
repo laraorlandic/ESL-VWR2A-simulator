{
 "cells": [
  {
   "cell_type": "code",
   "execution_count": 1,
   "id": "5e0a478f",
   "metadata": {},
   "outputs": [],
   "source": [
    "%load_ext autoreload\n",
    "%autoreload 2\n",
    "import numpy as np\n",
    "import pandas as pd \n",
    "import sys, os\n",
    "from src import *\n",
    "from helpers import *"
   ]
  },
  {
   "cell_type": "markdown",
   "id": "f7918b3b",
   "metadata": {},
   "source": [
    "### KERNEL CONFIGURATION\n",
    "Set up an application to be accelerated by loading the different kernel configurations into the kernel memory"
   ]
  },
  {
   "cell_type": "code",
   "execution_count": 2,
   "id": "81aeaf93",
   "metadata": {},
   "outputs": [
    {
     "name": "stdout",
     "output_type": "stream",
     "text": [
      "This kernel uses 44 instruction words starting at IMEM address 0.\n",
      "It uses column(s): 0.\n",
      "The SRF is located in SPM bank 0.\n"
     ]
    }
   ],
   "source": [
    "# Load an existing kernel into memory\n",
    "kmem_pos = 1\n",
    "kmem_word = 0x802b\n",
    "\n",
    "kmem = KER_CONF()\n",
    "kmem.set_word(kmem_word, kmem_pos)\n",
    "kmem.get_kernel_info(kmem_pos)"
   ]
  },
  {
   "cell_type": "code",
   "execution_count": 3,
   "id": "80e63aef",
   "metadata": {},
   "outputs": [
    {
     "name": "stdout",
     "output_type": "stream",
     "text": [
      "Hex representation: 0x8000\n",
      "This kernel uses 1 instruction words starting at IMEM address 0.\n",
      "It uses column(s): 0.\n",
      "The SRF is located in SPM bank 0.\n"
     ]
    }
   ],
   "source": [
    "# Create a new kernel\n",
    "kmem_pos = 2\n",
    "\n",
    "# Kernel configuration parameters\n",
    "num_instructions=1\n",
    "imem_add_start=0\n",
    "column_usage=1\n",
    "srf_spm_addres=0\n",
    "\n",
    "kmem.set_params(num_instructions, imem_add_start, column_usage, srf_spm_addres, kmem_pos)\n",
    "print(\"Hex representation: \" + kmem.get_word_in_hex(kmem_pos))\n",
    "kmem.get_kernel_info(kmem_pos)"
   ]
  },
  {
   "cell_type": "markdown",
   "id": "a48be74e",
   "metadata": {},
   "source": [
    "### Loop Control Unit IMEM "
   ]
  },
  {
   "cell_type": "code",
   "execution_count": 4,
   "id": "fce7b90d",
   "metadata": {},
   "outputs": [
    {
     "name": "stdout",
     "output_type": "stream",
     "text": [
      "Immediate value: 0\n",
      "LCU is in loop control mode\n",
      "Exiting out of kernel\n",
      "No LCU registers are being written\n"
     ]
    }
   ],
   "source": [
    "# Load an existing imem word and decode it\n",
    "imem_pos = 1\n",
    "imem_word = 0x1c00\n",
    "\n",
    "lcu_imem = LCU_IMEM()\n",
    "lcu_imem.set_word(imem_word, imem_pos)\n",
    "lcu_imem.get_instruction_info(imem_pos)"
   ]
  },
  {
   "cell_type": "code",
   "execution_count": 5,
   "id": "30718751",
   "metadata": {},
   "outputs": [
    {
     "name": "stdout",
     "output_type": "stream",
     "text": [
      "Hex representation: 0xdc383\n",
      "Immediate value: 3\n",
      "LCU is in loop control mode\n",
      "Performing ALU operation SADD between operands ZERO and ONE\n",
      "Writing ALU result to LCU register 2\n"
     ]
    }
   ],
   "source": [
    "# Create a new instruction\n",
    "imem_pos = 2\n",
    "\n",
    "# Define instruction parameters\n",
    "imm=3\n",
    "rf_wsel=2\n",
    "rf_we=1\n",
    "alu_op=LCU_ALU_OPS.SADD\n",
    "br_mode=0\n",
    "muxb_sel=LCU_MUXB_SEL.ONE\n",
    "muxa_sel=LCU_MUXA_SEL.ZERO\n",
    "\n",
    "lcu_imem.set_params(imm, rf_wsel, rf_we, alu_op, br_mode, muxb_sel, muxa_sel, imem_pos)\n",
    "print(\"Hex representation: \" + lcu_imem.get_word_in_hex(imem_pos))\n",
    "lcu_imem.get_instruction_info(imem_pos)"
   ]
  },
  {
   "cell_type": "markdown",
   "id": "45c184d2",
   "metadata": {},
   "source": [
    "### Load Store Unit IMEM "
   ]
  },
  {
   "cell_type": "code",
   "execution_count": 6,
   "id": "5d24b2de",
   "metadata": {},
   "outputs": [
    {
     "name": "stdout",
     "output_type": "stream",
     "text": [
      "Performing STORE to SPM from VWR_B\n",
      "Performing ALU operation LOR between operands R6 and ZERO\n",
      "Writing ALU result to LSU register 7\n"
     ]
    }
   ],
   "source": [
    "# Load an existing imem word and decode it\n",
    "imem_pos = 1\n",
    "imem_word = 0x8b49f\n",
    "\n",
    "lsu_imem = LSU_IMEM()\n",
    "lsu_imem.set_word(imem_word, imem_pos)\n",
    "lsu_imem.get_instruction_info(imem_pos)"
   ]
  },
  {
   "cell_type": "code",
   "execution_count": 7,
   "id": "673b45cb",
   "metadata": {},
   "outputs": [
    {
     "name": "stdout",
     "output_type": "stream",
     "text": [
      "Hex representation: 0xe5aea\n",
      "Shuffling VWR A and B data into VWR C using operation CONCAT_BITREV_UPPER\n",
      "Performing ALU operation SRL between operands TWO and R5\n",
      "Writing ALU result to LSU register 2\n"
     ]
    }
   ],
   "source": [
    "# Create a new instruction\n",
    "imem_pos = 2\n",
    "\n",
    "# Define instruction parameters\n",
    "rf_wsel=2\n",
    "rf_we=1\n",
    "alu_op=LSU_ALU_OPS.SRL\n",
    "muxb_sel=LSU_MUXA_SEL.R5\n",
    "muxa_sel=LSU_MUXB_SEL.TWO\n",
    "vwr_shuf_op=SHUFFLE_SEL.CONCAT_BITREV_UPPER\n",
    "vwr_shuf_sel=LSU_OP_MODE.SHUFFLE\n",
    "\n",
    "lsu_imem.set_params(rf_wsel, rf_we, alu_op, muxb_sel, muxa_sel, vwr_shuf_op, vwr_shuf_sel, imem_pos)\n",
    "print(\"Hex representation: \" + lsu_imem.get_word_in_hex(imem_pos))\n",
    "lsu_imem.get_instruction_info(imem_pos)"
   ]
  },
  {
   "cell_type": "markdown",
   "id": "4aa4392c",
   "metadata": {},
   "source": [
    "### Multiplexer Control Unit IMEM"
   ]
  },
  {
   "cell_type": "code",
   "execution_count": 8,
   "id": "41778210",
   "metadata": {},
   "outputs": [
    {
     "name": "stdout",
     "output_type": "stream",
     "text": [
      "Not writing to VWRs\n",
      "Reading from SRF index 6\n",
      "Performing ALU operation NOP between operands R0 and R0\n",
      "No MXCU registers are being written\n"
     ]
    }
   ],
   "source": [
    "# Load an existing imem word and decode it\n",
    "imem_pos = 1\n",
    "imem_word = 0x180\n",
    "\n",
    "mxcu_imem = MXCU_IMEM()\n",
    "mxcu_imem.set_word(imem_word, imem_pos)\n",
    "mxcu_imem.get_instruction_info(imem_pos)"
   ]
  },
  {
   "cell_type": "code",
   "execution_count": 9,
   "id": "8d25ddda",
   "metadata": {},
   "outputs": [
    {
     "name": "stdout",
     "output_type": "stream",
     "text": [
      "Writing to VWR rows [1 2 3] of VWR_B\n",
      "Writing from MXCU ALU to SRF register 3\n",
      "Performing ALU operation SADD between operands TWO and R0\n",
      "No MXCU registers are being written\n"
     ]
    }
   ],
   "source": [
    "# Create a new instruction\n",
    "imem_pos = 2\n",
    "\n",
    "# Define instruction parameters\n",
    "vwr_row_we = [1, 1, 1, 0]\n",
    "vwr_sel = MXCU_VWR_SEL.VWR_B.value\n",
    "srf_sel = 3\n",
    "alu_srf_write = ALU_SRF_WRITE.MXCU\n",
    "srf_we = 1\n",
    "rf_wsel = 0 \n",
    "rf_we = 0 \n",
    "alu_op =  MXCU_ALU_OPS.SADD\n",
    "muxb_sel = MXCU_MUXB_SEL.R0\n",
    "muxa_sel = MXCU_MUXA_SEL.TWO\n",
    "\n",
    "mxcu_imem.set_params(vwr_row_we, vwr_sel, srf_sel, alu_srf_write, srf_we, rf_wsel, rf_we, alu_op, muxb_sel, muxa_sel, imem_pos)\n",
    "mxcu_imem.get_instruction_info(imem_pos)"
   ]
  },
  {
   "cell_type": "markdown",
   "id": "cb7c3ea4",
   "metadata": {},
   "source": [
    "### Reconfigurable Cell IMEM"
   ]
  },
  {
   "cell_type": "code",
   "execution_count": 10,
   "id": "a222e214",
   "metadata": {},
   "outputs": [
    {
     "name": "stdout",
     "output_type": "stream",
     "text": [
      "Performing ALU operation LOR between operands SRF and ZERO\n",
      "ALU is performing operations with 32-bit precision\n",
      "Writing ALU result to RC register 1\n"
     ]
    }
   ],
   "source": [
    "# Load an existing imem word and decode it\n",
    "imem_pos = 1\n",
    "imem_word = 0xe923\n",
    "\n",
    "rc_imem = RC_IMEM()\n",
    "rc_imem.set_word(imem_word, imem_pos)\n",
    "rc_imem.get_instruction_info(imem_pos)"
   ]
  },
  {
   "cell_type": "code",
   "execution_count": 11,
   "id": "b9a334d0",
   "metadata": {},
   "outputs": [
    {
     "name": "stdout",
     "output_type": "stream",
     "text": [
      "Output VWR_B if sign flag of RCT == 1, else output VWR_A\n",
      "Writing ALU result to RC register 1\n"
     ]
    }
   ],
   "source": [
    "# Create a new instruction\n",
    "imem_pos = 2\n",
    "\n",
    "# Define instruction parameters\n",
    "rf_wsel = 1 \n",
    "rf_we = 1 \n",
    "muxf_sel = RC_MUXF_SEL.RCT \n",
    "alu_op =  RC_ALU_OPS.INB_SF_INA\n",
    "op_mode = 0 #Always keep this to zero; 16-bit mode is not supported yet\n",
    "muxb_sel =  RC_MUXA_SEL.VWR_A\n",
    "muxa_sel = RC_MUXA_SEL.VWR_B\n",
    "\n",
    "rc_imem.set_params(rf_wsel, rf_we, muxf_sel, alu_op, op_mode, muxb_sel, muxa_sel, imem_pos)\n",
    "rc_imem.get_instruction_info(imem_pos)"
   ]
  },
  {
   "cell_type": "markdown",
   "id": "6cb1a0d9",
   "metadata": {},
   "source": [
    "## Putting it all together: Instruction memory"
   ]
  },
  {
   "cell_type": "markdown",
   "id": "d55dd3ed",
   "metadata": {},
   "source": [
    "### Process existing kernel\n",
    "Load an existing kernel (in the form of an excel sheet where each row is a clock cycle and each column is a specialized slot) and use the simulator to understand what is going on in each element at a given clock cycle"
   ]
  },
  {
   "cell_type": "code",
   "execution_count": 12,
   "id": "dcff511a",
   "metadata": {},
   "outputs": [
    {
     "name": "stdout",
     "output_type": "stream",
     "text": [
      "The instruction memory has 512 entries.\n"
     ]
    },
    {
     "data": {
      "text/html": [
       "<div>\n",
       "<style scoped>\n",
       "    .dataframe tbody tr th:only-of-type {\n",
       "        vertical-align: middle;\n",
       "    }\n",
       "\n",
       "    .dataframe tbody tr th {\n",
       "        vertical-align: top;\n",
       "    }\n",
       "\n",
       "    .dataframe thead th {\n",
       "        text-align: right;\n",
       "    }\n",
       "</style>\n",
       "<table border=\"1\" class=\"dataframe\">\n",
       "  <thead>\n",
       "    <tr style=\"text-align: right;\">\n",
       "      <th></th>\n",
       "      <th>LCU</th>\n",
       "      <th>LSU</th>\n",
       "      <th>MXCU</th>\n",
       "      <th>RC0</th>\n",
       "      <th>RC1</th>\n",
       "      <th>RC2</th>\n",
       "      <th>RC3</th>\n",
       "      <th>KMEM</th>\n",
       "    </tr>\n",
       "  </thead>\n",
       "  <tbody>\n",
       "    <tr>\n",
       "      <th>0</th>\n",
       "      <td>0x0</td>\n",
       "      <td>0x5c49f</td>\n",
       "      <td>0x0</td>\n",
       "      <td>0x0</td>\n",
       "      <td>0x0</td>\n",
       "      <td>0x0</td>\n",
       "      <td>0x0</td>\n",
       "      <td>0x802b</td>\n",
       "    </tr>\n",
       "    <tr>\n",
       "      <th>1</th>\n",
       "      <td>0x9c500</td>\n",
       "      <td>0x43d3f</td>\n",
       "      <td>0x180</td>\n",
       "      <td>0x0</td>\n",
       "      <td>0x0</td>\n",
       "      <td>0x0</td>\n",
       "      <td>0x0</td>\n",
       "      <td>0x0</td>\n",
       "    </tr>\n",
       "    <tr>\n",
       "      <th>2</th>\n",
       "      <td>0x98fc0</td>\n",
       "      <td>0x4bd3f</td>\n",
       "      <td>0x40</td>\n",
       "      <td>0x0</td>\n",
       "      <td>0x0</td>\n",
       "      <td>0x0</td>\n",
       "      <td>0x0</td>\n",
       "      <td>0x0</td>\n",
       "    </tr>\n",
       "    <tr>\n",
       "      <th>3</th>\n",
       "      <td>0xf8f43</td>\n",
       "      <td>0x53c98</td>\n",
       "      <td>0x0</td>\n",
       "      <td>0x0</td>\n",
       "      <td>0x0</td>\n",
       "      <td>0x0</td>\n",
       "      <td>0x0</td>\n",
       "      <td>0x0</td>\n",
       "    </tr>\n",
       "    <tr>\n",
       "      <th>4</th>\n",
       "      <td>0xb8f80</td>\n",
       "      <td>0x539</td>\n",
       "      <td>0x4ce9000</td>\n",
       "      <td>0x0</td>\n",
       "      <td>0x0</td>\n",
       "      <td>0x0</td>\n",
       "      <td>0x0</td>\n",
       "      <td>0x0</td>\n",
       "    </tr>\n",
       "  </tbody>\n",
       "</table>\n",
       "</div>"
      ],
      "text/plain": [
       "       LCU      LSU       MXCU  RC0  RC1  RC2  RC3    KMEM\n",
       "0      0x0  0x5c49f        0x0  0x0  0x0  0x0  0x0  0x802b\n",
       "1  0x9c500  0x43d3f      0x180  0x0  0x0  0x0  0x0     0x0\n",
       "2  0x98fc0  0x4bd3f       0x40  0x0  0x0  0x0  0x0     0x0\n",
       "3  0xf8f43  0x53c98        0x0  0x0  0x0  0x0  0x0     0x0\n",
       "4  0xb8f80    0x539  0x4ce9000  0x0  0x0  0x0  0x0     0x0"
      ]
     },
     "execution_count": 12,
     "metadata": {},
     "output_type": "execute_result"
    }
   ],
   "source": [
    "kernel_path = \"kernels/mf_q64_erosion/\"\n",
    "df = pd.read_csv(kernel_path + \"instructions.csv\")\n",
    "print(\"The instruction memory has {0} entries.\".format(len(df)))\n",
    "df.head()"
   ]
  },
  {
   "cell_type": "code",
   "execution_count": 13,
   "id": "6ff1ed6c",
   "metadata": {},
   "outputs": [],
   "source": [
    "# Set an IMEM object and load kernel 0\n",
    "imem = IMEM(df)\n",
    "imem.load_kernel(0)"
   ]
  },
  {
   "cell_type": "code",
   "execution_count": 14,
   "id": "a2760d60",
   "metadata": {},
   "outputs": [
    {
     "name": "stdout",
     "output_type": "stream",
     "text": [
      "Immediate value: 0\n",
      "LCU is in loop control mode\n",
      "Exiting out of kernel\n",
      "No LCU registers are being written\n"
     ]
    }
   ],
   "source": [
    "# Make sure that the last kernel value is the exit instruction\n",
    "n_instr, imem_add, _, _ = imem.kmem.get_params(0)\n",
    "lcu_instr = imem.lcu_imem.get_instruction_info(n_instr + imem_add)"
   ]
  },
  {
   "cell_type": "code",
   "execution_count": 15,
   "id": "4b5a7a10",
   "metadata": {},
   "outputs": [
    {
     "name": "stdout",
     "output_type": "stream",
     "text": [
      "****RC0****\n",
      "No ALU operation\n",
      "No RC registers are being written\n",
      "****RC1****\n",
      "No ALU operation\n",
      "No RC registers are being written\n",
      "****RC2****\n",
      "No ALU operation\n",
      "No RC registers are being written\n",
      "****RC3****\n",
      "No ALU operation\n",
      "No RC registers are being written\n",
      "****LSU****\n",
      "Performing LOAD from SPM to SRF\n",
      "Performing ALU operation LOR between operands SRF and ZERO\n",
      "Writing ALU result to LSU register 7\n",
      "****LCU****\n",
      "Immediate value: 0\n",
      "LCU is in loop control mode\n",
      "No LCU ALU Operation is performed\n",
      "No LCU registers are being written\n",
      "****MXCU****\n",
      "Not writing to VWRs\n",
      "Reading from SRF index 0\n",
      "Performing ALU operation NOP between operands R0 and R0\n",
      "No MXCU registers are being written\n"
     ]
    }
   ],
   "source": [
    "# Print what's going on at a given imem position\n",
    "imem.get_pos_summary(imem_pos=0)"
   ]
  },
  {
   "cell_type": "markdown",
   "id": "9d916d8e",
   "metadata": {},
   "source": [
    "### Create a new kernel\n",
    "Write your own kernel by populating the instruction memory of each specialized slot one at a time. In this example, we develop a  very simple kernel whose only instruction is an exit. The resulting ISAs of each element are loaded into a pandas dataframe and saved to a CSV and C header file, which can then be copied into a VWR2A testbench."
   ]
  },
  {
   "cell_type": "code",
   "execution_count": 16,
   "id": "afda96ea",
   "metadata": {},
   "outputs": [
    {
     "name": "stdout",
     "output_type": "stream",
     "text": [
      "This kernel uses 1 instruction words starting at IMEM address 0.\n",
      "It uses column(s): 0.\n",
      "The SRF is located in SPM bank 0.\n"
     ]
    }
   ],
   "source": [
    "# Set up kernel\n",
    "imem = IMEM()\n",
    "\n",
    "num_instructions = 1\n",
    "imem_add_start = 0\n",
    "column_usage = 1\n",
    "srf_spm_address = 0\n",
    "pos = 0\n",
    "\n",
    "imem.kmem.set_params(num_instructions, imem_add_start, column_usage, srf_spm_address, pos)\n",
    "imem.kmem.get_kernel_info(pos)"
   ]
  },
  {
   "cell_type": "code",
   "execution_count": 17,
   "id": "9faaf67e",
   "metadata": {},
   "outputs": [],
   "source": [
    "# Write LCU instruction\n",
    "imem.lcu_imem.set_params(alu_op=LCU_ALU_OPS.EXIT, pos=0)"
   ]
  },
  {
   "cell_type": "code",
   "execution_count": 18,
   "id": "5c8e0f92",
   "metadata": {},
   "outputs": [
    {
     "data": {
      "text/html": [
       "<div>\n",
       "<style scoped>\n",
       "    .dataframe tbody tr th:only-of-type {\n",
       "        vertical-align: middle;\n",
       "    }\n",
       "\n",
       "    .dataframe tbody tr th {\n",
       "        vertical-align: top;\n",
       "    }\n",
       "\n",
       "    .dataframe thead th {\n",
       "        text-align: right;\n",
       "    }\n",
       "</style>\n",
       "<table border=\"1\" class=\"dataframe\">\n",
       "  <thead>\n",
       "    <tr style=\"text-align: right;\">\n",
       "      <th></th>\n",
       "      <th>LCU</th>\n",
       "      <th>LSU</th>\n",
       "      <th>MXCU</th>\n",
       "      <th>RC0</th>\n",
       "      <th>RC1</th>\n",
       "      <th>RC2</th>\n",
       "      <th>RC3</th>\n",
       "      <th>KMEM</th>\n",
       "    </tr>\n",
       "  </thead>\n",
       "  <tbody>\n",
       "    <tr>\n",
       "      <th>0</th>\n",
       "      <td>0x1c00</td>\n",
       "      <td>0x4c80</td>\n",
       "      <td>0x0</td>\n",
       "      <td>0x0</td>\n",
       "      <td>0x0</td>\n",
       "      <td>0x0</td>\n",
       "      <td>0x0</td>\n",
       "      <td>0x8000</td>\n",
       "    </tr>\n",
       "    <tr>\n",
       "      <th>1</th>\n",
       "      <td>0x0</td>\n",
       "      <td>0x4c80</td>\n",
       "      <td>0x0</td>\n",
       "      <td>0x0</td>\n",
       "      <td>0x0</td>\n",
       "      <td>0x0</td>\n",
       "      <td>0x0</td>\n",
       "      <td>0x0</td>\n",
       "    </tr>\n",
       "    <tr>\n",
       "      <th>2</th>\n",
       "      <td>0x0</td>\n",
       "      <td>0x4c80</td>\n",
       "      <td>0x0</td>\n",
       "      <td>0x0</td>\n",
       "      <td>0x0</td>\n",
       "      <td>0x0</td>\n",
       "      <td>0x0</td>\n",
       "      <td>0x0</td>\n",
       "    </tr>\n",
       "    <tr>\n",
       "      <th>3</th>\n",
       "      <td>0x0</td>\n",
       "      <td>0x4c80</td>\n",
       "      <td>0x0</td>\n",
       "      <td>0x0</td>\n",
       "      <td>0x0</td>\n",
       "      <td>0x0</td>\n",
       "      <td>0x0</td>\n",
       "      <td>0x0</td>\n",
       "    </tr>\n",
       "    <tr>\n",
       "      <th>4</th>\n",
       "      <td>0x0</td>\n",
       "      <td>0x4c80</td>\n",
       "      <td>0x0</td>\n",
       "      <td>0x0</td>\n",
       "      <td>0x0</td>\n",
       "      <td>0x0</td>\n",
       "      <td>0x0</td>\n",
       "      <td>0x0</td>\n",
       "    </tr>\n",
       "  </tbody>\n",
       "</table>\n",
       "</div>"
      ],
      "text/plain": [
       "      LCU     LSU MXCU  RC0  RC1  RC2  RC3    KMEM\n",
       "0  0x1c00  0x4c80  0x0  0x0  0x0  0x0  0x0  0x8000\n",
       "1     0x0  0x4c80  0x0  0x0  0x0  0x0  0x0     0x0\n",
       "2     0x0  0x4c80  0x0  0x0  0x0  0x0  0x0     0x0\n",
       "3     0x0  0x4c80  0x0  0x0  0x0  0x0  0x0     0x0\n",
       "4     0x0  0x4c80  0x0  0x0  0x0  0x0  0x0     0x0"
      ]
     },
     "execution_count": 18,
     "metadata": {},
     "output_type": "execute_result"
    }
   ],
   "source": [
    "# Get instruction dataframe\n",
    "df_out = imem.get_df()\n",
    "df_out.head()"
   ]
  },
  {
   "cell_type": "code",
   "execution_count": 19,
   "id": "a226c672",
   "metadata": {},
   "outputs": [],
   "source": [
    "# Save to file\n",
    "kernel_path = 'kernels/exit/'\n",
    "# Save CSV of instructions to be easily re-loaded and fixed\n",
    "df_out.to_csv(kernel_path + 'instructions.csv')\n",
    "# Save header file used to load the instructions into a VWR2A RTL testbench for a functional simulation\n",
    "dataframe_to_header_file(df_out, kernel_path)"
   ]
  },
  {
   "cell_type": "markdown",
   "id": "f808c400",
   "metadata": {},
   "source": [
    "### A more complicated example\n",
    "Now that we know how to populate the IMEMs of the specialized slots, we will write a more complicated kernel that adds two vectors together."
   ]
  },
  {
   "cell_type": "code",
   "execution_count": 20,
   "id": "ec96e936",
   "metadata": {},
   "outputs": [],
   "source": [
    "imem = IMEM()"
   ]
  },
  {
   "cell_type": "code",
   "execution_count": 21,
   "id": "a78bd230",
   "metadata": {},
   "outputs": [
    {
     "name": "stdout",
     "output_type": "stream",
     "text": [
      "Performing LOAD from SPM to SRF\n",
      "Performing ALU operation LOR between operands SRF and ZERO\n",
      "Writing ALU result to LSU register 7\n"
     ]
    }
   ],
   "source": [
    "# Instruction 0: Load SPM address zero into SRF. The last SRF value is the number of iterations per slice. \n",
    "pos=0\n",
    "\n",
    "rf_wsel=7\n",
    "rf_we=1\n",
    "alu_op=LSU_ALU_OPS.LOR\n",
    "muxb_sel=LSU_MUXA_SEL.ZERO\n",
    "muxa_sel=LSU_MUXB_SEL.SRF\n",
    "vwr_shuf_op=LSU_VWR_SEL.SRF\n",
    "vwr_shuf_sel=LSU_OP_MODE.LOAD\n",
    "\n",
    "imem.lsu_imem.set_params(rf_wsel, rf_we, alu_op, muxb_sel, muxa_sel, vwr_shuf_op, vwr_shuf_sel, pos)\n",
    "imem.lsu_imem.get_instruction_info(pos)"
   ]
  },
  {
   "cell_type": "code",
   "execution_count": null,
   "id": "e3790702",
   "metadata": {},
   "outputs": [],
   "source": []
  }
 ],
 "metadata": {
  "kernelspec": {
   "display_name": "Python 3 (ipykernel)",
   "language": "python",
   "name": "python3"
  },
  "language_info": {
   "codemirror_mode": {
    "name": "ipython",
    "version": 3
   },
   "file_extension": ".py",
   "mimetype": "text/x-python",
   "name": "python",
   "nbconvert_exporter": "python",
   "pygments_lexer": "ipython3",
   "version": "3.9.7"
  }
 },
 "nbformat": 4,
 "nbformat_minor": 5
}
