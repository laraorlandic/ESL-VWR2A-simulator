{
 "cells": [
  {
   "cell_type": "code",
   "execution_count": 1,
   "id": "5e0a478f",
   "metadata": {},
   "outputs": [],
   "source": [
    "%load_ext autoreload\n",
    "%autoreload 2\n",
    "import numpy as np\n",
    "import pandas as pd \n",
    "import sys, os\n",
    "from src import *"
   ]
  },
  {
   "cell_type": "markdown",
   "id": "f7918b3b",
   "metadata": {},
   "source": [
    "### KERNEL CONFIGURATION\n",
    "Set up an application to be accelerated by loading the different kernel configurations into the kernel memory"
   ]
  },
  {
   "cell_type": "code",
   "execution_count": 2,
   "id": "81aeaf93",
   "metadata": {},
   "outputs": [
    {
     "name": "stdout",
     "output_type": "stream",
     "text": [
      "This kernel uses 43 instruction words starting at IMEM address 0.\n",
      "It uses column(s): 0.\n",
      "The SRF is located in SPM bank 0.\n"
     ]
    }
   ],
   "source": [
    "# Load an existing kernel into memory\n",
    "kmem_pos = 1\n",
    "kmem_word = 0x802b\n",
    "\n",
    "kmem = KER_CONF()\n",
    "kmem.set_kernel_word(kmem_word, kmem_pos)\n",
    "kmem.get_kernel_info(kmem_pos)"
   ]
  },
  {
   "cell_type": "code",
   "execution_count": 3,
   "id": "80e63aef",
   "metadata": {},
   "outputs": [
    {
     "name": "stdout",
     "output_type": "stream",
     "text": [
      "Hex representation: 0x38b14\n",
      "This kernel uses 20 instruction words starting at IMEM address 44.\n",
      "It uses column(s): both.\n",
      "The SRF is located in SPM bank 1.\n"
     ]
    }
   ],
   "source": [
    "# Create a new kernel\n",
    "kmem_pos = 2\n",
    "kmem.set_kernel_params(num_instructions=20, imem_add_start=44, column_usage=3, srf_spm_addres=1, pos=kmem_pos)\n",
    "print(\"Hex representation: \" + kmem.get_word_in_hex(kmem_pos))\n",
    "kmem.get_kernel_info(kmem_pos)"
   ]
  },
  {
   "cell_type": "markdown",
   "id": "a48be74e",
   "metadata": {},
   "source": [
    "### Loop Control Unit IMEM "
   ]
  },
  {
   "cell_type": "code",
   "execution_count": 4,
   "id": "fce7b90d",
   "metadata": {},
   "outputs": [
    {
     "name": "stdout",
     "output_type": "stream",
     "text": [
      "Immediate value: 8\n",
      "LCU is in loop control mode\n",
      "Jump to address IMM + R1\n",
      "No LCU registers are being written\n"
     ]
    }
   ],
   "source": [
    "# Load an existing imem word and decode it\n",
    "imem_pos = 1\n",
    "imem_word = 0xe5a08\n",
    "\n",
    "lcu_imem = LCU_IMEM()\n",
    "lcu_imem.set_kernel_word(imem_word, imem_pos)\n",
    "lcu_imem.get_instruction_info(imem_pos)"
   ]
  },
  {
   "cell_type": "code",
   "execution_count": 5,
   "id": "30718751",
   "metadata": {},
   "outputs": [
    {
     "name": "stdout",
     "output_type": "stream",
     "text": [
      "Hex representation: 0xdc383\n",
      "Immediate value: 3\n",
      "LCU is in loop control mode\n",
      "Performing ALU operation SADD between operands ZERO and ONE\n",
      "Writing ALU result to LCU register 2\n"
     ]
    }
   ],
   "source": [
    "# Create a new instruction\n",
    "imem_pos = 2\n",
    "lcu_imem.set_kernel_params(imm=3, rf_wsel=2, rf_we=1, alu_op=LCU_ALU_OPS.SADD, br_mode=0, muxb_sel=LCU_MUXB_SEL.ONE, muxa_sel=LCU_MUXA_SEL.ZERO, pos=imem_pos)\n",
    "print(\"Hex representation: \" + lcu_imem.get_word_in_hex(imem_pos))\n",
    "lcu_imem.get_instruction_info(imem_pos)"
   ]
  },
  {
   "cell_type": "markdown",
   "id": "45c184d2",
   "metadata": {},
   "source": [
    "### Load Store Unit IMEM "
   ]
  },
  {
   "cell_type": "code",
   "execution_count": 6,
   "id": "5d24b2de",
   "metadata": {},
   "outputs": [
    {
     "name": "stdout",
     "output_type": "stream",
     "text": [
      "No loading, storing, or shuffling taking place\n",
      "Performing ALU operation SADD between operands R0 and ONE\n",
      "Writing ALU result to LSU register 1\n"
     ]
    }
   ],
   "source": [
    "# Load an existing imem word and decode it\n",
    "imem_pos = 1\n",
    "imem_word = 0x539\n",
    "\n",
    "lsu_imem = LSU_IMEM()\n",
    "lsu_imem.set_kernel_word(imem_word, imem_pos)\n",
    "lsu_imem.get_instruction_info(imem_pos)"
   ]
  },
  {
   "cell_type": "code",
   "execution_count": 7,
   "id": "b20d6387",
   "metadata": {},
   "outputs": [
    {
     "name": "stdout",
     "output_type": "stream",
     "text": [
      "Hex representation: 0xe5aea\n",
      "Shuffling VWR A and B data into VWR C using operation CONCAT_BITREV_UPPER\n",
      "Performing ALU operation SRL between operands TWO and R5\n",
      "Writing ALU result to LSU register 2\n"
     ]
    }
   ],
   "source": [
    "# Create a new instruction\n",
    "imem_pos = 2\n",
    "lsu_imem.set_kernel_params(rf_wsel=2, rf_we=1, alu_op=LSU_ALU_OPS.SRL.value, muxb_sel=LSU_MUXA_SEL.R5.value, muxa_sel=LSU_MUXB_SEL.TWO, vwr_shuf_op=SHUFFLE_SEL.CONCAT_BITREV_UPPER.value, vwr_shuf_sel=LSU_OP_MODE.SHUFFLE.value, pos=imem_pos)\n",
    "print(\"Hex representation: \" + lsu_imem.get_word_in_hex(imem_pos))\n",
    "lsu_imem.get_instruction_info(imem_pos)"
   ]
  },
  {
   "cell_type": "markdown",
   "id": "a818bd2a",
   "metadata": {},
   "source": [
    "### Multiplexer Control Unit IMEM"
   ]
  },
  {
   "cell_type": "code",
   "execution_count": 8,
   "id": "ae1080e5",
   "metadata": {},
   "outputs": [
    {
     "name": "stdout",
     "output_type": "stream",
     "text": [
      "Not writing to VWRs\n",
      "Reading from SRF index 6\n",
      "Performing ALU operation NOP between operands R0 and R0\n",
      "No MXCU registers are being written\n"
     ]
    }
   ],
   "source": [
    "# Load an existing imem word and decode it\n",
    "imem_pos = 1\n",
    "imem_word = 0x180\n",
    "\n",
    "mxcu_imem = MXCU_IMEM()\n",
    "mxcu_imem.set_kernel_word(imem_word, imem_pos)\n",
    "mxcu_imem.get_instruction_info(imem_pos)"
   ]
  },
  {
   "cell_type": "code",
   "execution_count": 9,
   "id": "fae8033b",
   "metadata": {},
   "outputs": [
    {
     "name": "stdout",
     "output_type": "stream",
     "text": [
      "Writing to VWR rows [1 2 3] of VWR_B\n",
      "Writing from MXCU ALU to SRF register 3\n",
      "Performing ALU operation SADD between operands TWO and R0\n",
      "No MXCU registers are being written\n"
     ]
    }
   ],
   "source": [
    "# Create a new instruction\n",
    "imem_pos = 2\n",
    "vwr_row_we = [1, 1, 1, 0]\n",
    "vwr_sel = MXCU_VWR_SEL.VWR_B.value\n",
    "srf_sel = 3\n",
    "alu_srf_write = ALU_SRF_WRITE.MXCU\n",
    "srf_we = 1\n",
    "rf_wsel = 0 \n",
    "rf_we = 0 \n",
    "alu_op =  MXCU_ALU_OPS.SADD\n",
    "muxb_sel = MXCU_MUXB_SEL.R0\n",
    "muxa_sel = MXCU_MUXA_SEL.TWO\n",
    "\n",
    "mxcu_imem.set_kernel_params(vwr_row_we, vwr_sel, srf_sel, alu_srf_write, srf_we, rf_wsel, rf_we, alu_op, muxb_sel, muxa_sel, imem_pos)\n",
    "mxcu_imem.get_instruction_info(imem_pos)"
   ]
  },
  {
   "cell_type": "markdown",
   "id": "9e04bb97",
   "metadata": {},
   "source": [
    "### Reconfigurable Cell IMEM"
   ]
  },
  {
   "cell_type": "code",
   "execution_count": 10,
   "id": "96b4db72",
   "metadata": {},
   "outputs": [
    {
     "name": "stdout",
     "output_type": "stream",
     "text": [
      "ALU is performing operations with 32-bit precision\n",
      "Performing ALU operation LOR between operands SRF and ZERO\n",
      "Writing ALU result to RC register 1\n"
     ]
    }
   ],
   "source": [
    "# Load an existing imem word and decode it\n",
    "imem_pos = 1\n",
    "imem_word = 0xe923\n",
    "\n",
    "rc_imem = RC_IMEM()\n",
    "rc_imem.set_kernel_word(imem_word, imem_pos)\n",
    "rc_imem.get_instruction_info(imem_pos)"
   ]
  },
  {
   "cell_type": "code",
   "execution_count": 11,
   "id": "31df5ee4",
   "metadata": {},
   "outputs": [
    {
     "name": "stdout",
     "output_type": "stream",
     "text": [
      "ALU is performing operations with 32-bit precision\n",
      "Output VWR_B if sign flag of RCT == 1, else output VWR_A\n",
      "Writing ALU result to RC register 1\n"
     ]
    }
   ],
   "source": [
    "# Create a new instruction\n",
    "imem_pos = 2\n",
    "rf_wsel = 1 \n",
    "rf_we = 1 \n",
    "muxf_sel = RC_MUXF_SEL.RCT \n",
    "alu_op =  RC_ALU_OPS.INB_SF_INA\n",
    "op_mode = 0 #Always keep this to zero; 16-bit mode is not supported yet\n",
    "muxb_sel =  RC_MUXA_SEL.VWR_A\n",
    "muxa_sel = RC_MUXA_SEL.VWR_B\n",
    "\n",
    "rc_imem.set_kernel_params(rf_wsel, rf_we, muxf_sel, alu_op, op_mode, muxb_sel, muxa_sel, imem_pos)\n",
    "rc_imem.get_instruction_info(imem_pos)"
   ]
  },
  {
   "cell_type": "code",
   "execution_count": null,
   "id": "b9876575",
   "metadata": {},
   "outputs": [],
   "source": []
  }
 ],
 "metadata": {
  "kernelspec": {
   "display_name": "Python 3 (ipykernel)",
   "language": "python",
   "name": "python3"
  },
  "language_info": {
   "codemirror_mode": {
    "name": "ipython",
    "version": 3
   },
   "file_extension": ".py",
   "mimetype": "text/x-python",
   "name": "python",
   "nbconvert_exporter": "python",
   "pygments_lexer": "ipython3",
   "version": "3.9.7"
  }
 },
 "nbformat": 4,
 "nbformat_minor": 5
}
