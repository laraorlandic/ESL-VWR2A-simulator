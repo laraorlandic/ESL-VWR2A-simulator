{
 "cells": [
  {
   "cell_type": "code",
   "execution_count": 160,
   "id": "b55c1740",
   "metadata": {},
   "outputs": [
    {
     "name": "stdout",
     "output_type": "stream",
     "text": [
      "The autoreload extension is already loaded. To reload it, use:\n",
      "  %reload_ext autoreload\n"
     ]
    }
   ],
   "source": [
    "%load_ext autoreload\n",
    "%autoreload 2\n",
    "import numpy as np\n",
    "import pandas as pd \n",
    "from cgra import *"
   ]
  },
  {
   "cell_type": "markdown",
   "id": "a30d5495",
   "metadata": {},
   "source": [
    "### KERNEL CONFIGURATION\n",
    "Set up an application to be accelerated by loading the different kernel configurations into the kernel memory"
   ]
  },
  {
   "cell_type": "code",
   "execution_count": 97,
   "id": "6fd42a6d",
   "metadata": {},
   "outputs": [
    {
     "name": "stdout",
     "output_type": "stream",
     "text": [
      "This kernel uses 43 instruction words starting at IMEM address 0.\n",
      "It uses column(s): 0.\n",
      "The SRF is located in SPM bank 0.\n"
     ]
    }
   ],
   "source": [
    "# Load an existing kernel into memory\n",
    "kmem_pos = 1\n",
    "kmem_word = 0x802b\n",
    "\n",
    "kmem = KER_CONF()\n",
    "kmem.set_kernel_word(kmem_word, kmem_pos)\n",
    "kmem.get_kernel_info(kmem_pos)"
   ]
  },
  {
   "cell_type": "code",
   "execution_count": 99,
   "id": "cac43319",
   "metadata": {},
   "outputs": [
    {
     "name": "stdout",
     "output_type": "stream",
     "text": [
      "Hex representation: 0x38b14\n",
      "This kernel uses 20 instruction words starting at IMEM address 44.\n",
      "It uses column(s): both.\n",
      "The SRF is located in SPM bank 1.\n"
     ]
    }
   ],
   "source": [
    "# Create a new kernel\n",
    "kmem_pos = 2\n",
    "kmem.set_kernel_params(num_instructions=20, imem_add_start=44, column_usage=3, srf_spm_addres=1, pos=kmem_pos)\n",
    "print(\"Hex representation: \" + kmem.get_word_in_hex(kmem_pos))\n",
    "kmem.get_kernel_info(kmem_pos)"
   ]
  },
  {
   "cell_type": "markdown",
   "id": "2e683fb5",
   "metadata": {},
   "source": [
    "### Loop Control Unit IMEM "
   ]
  },
  {
   "cell_type": "code",
   "execution_count": 163,
   "id": "e28cc2d7",
   "metadata": {},
   "outputs": [
    {
     "name": "stdout",
     "output_type": "stream",
     "text": [
      "Immediate value: 0\n",
      "LCU is in loop control mode\n",
      "Performing ALU operation SSUB between operands SRF and ONE\n",
      "Writing ALU result to LCU register 0\n"
     ]
    }
   ],
   "source": [
    "# Load an existing imem word and decode it\n",
    "imem_pos = 1\n",
    "imem_word = 0x9c500\n",
    "\n",
    "lcu_imem = LCU_IMEM()\n",
    "lcu_imem.set_kernel_word(imem_word, imem_pos)\n",
    "lcu_imem.get_instruction_info(imem_pos)"
   ]
  },
  {
   "cell_type": "code",
   "execution_count": 167,
   "id": "b6bab804",
   "metadata": {},
   "outputs": [
    {
     "name": "stdout",
     "output_type": "stream",
     "text": [
      "Hex representation: 0xdc383\n",
      "Immediate value: 3\n",
      "LCU is in loop control mode\n",
      "Performing ALU operation SADD between operands ZERO and ONE\n",
      "Writing ALU result to LCU register 2\n"
     ]
    }
   ],
   "source": [
    "# Create a new kernel\n",
    "imem_pos = 2\n",
    "lcu_imem.set_kernel_params(imm=3, rf_wsel=2, rf_we=1, alu_op=1, br_mode=0, muxb_sel=7, muxa_sel=6, pos=imem_pos)\n",
    "print(\"Hex representation: \" + lcu_imem.get_word_in_hex(imem_pos))\n",
    "lcu_imem.get_instruction_info(imem_pos)"
   ]
  },
  {
   "cell_type": "code",
   "execution_count": null,
   "id": "5ec34ba9",
   "metadata": {},
   "outputs": [],
   "source": []
  }
 ],
 "metadata": {
  "kernelspec": {
   "display_name": "Python 3 (ipykernel)",
   "language": "python",
   "name": "python3"
  },
  "language_info": {
   "codemirror_mode": {
    "name": "ipython",
    "version": 3
   },
   "file_extension": ".py",
   "mimetype": "text/x-python",
   "name": "python",
   "nbconvert_exporter": "python",
   "pygments_lexer": "ipython3",
   "version": "3.9.7"
  }
 },
 "nbformat": 4,
 "nbformat_minor": 5
}
