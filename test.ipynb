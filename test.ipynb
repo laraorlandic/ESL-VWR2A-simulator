{
 "cells": [
  {
   "cell_type": "code",
   "execution_count": 1,
   "metadata": {},
   "outputs": [],
   "source": [
    "from src import lcu\n",
    "\n",
    "lcu = lcu.LCU()"
   ]
  },
  {
   "cell_type": "code",
   "execution_count": 2,
   "metadata": {},
   "outputs": [
    {
     "name": "stdout",
     "output_type": "stream",
     "text": [
      "-1, -1\n"
     ]
    }
   ],
   "source": [
    "srf_read, srf_str = lcu.asmToHex(\"NOP\")\n",
    "print(str(srf_read) + \", \" + str(srf_str))"
   ]
  },
  {
   "cell_type": "code",
   "execution_count": 3,
   "metadata": {},
   "outputs": [
    {
     "name": "stdout",
     "output_type": "stream",
     "text": [
      "-1, -1\n"
     ]
    }
   ],
   "source": [
    "srf_read, srf_str = lcu.asmToHex(\"EXIT\")\n",
    "print(str(srf_read) + \", \" + str(srf_str))"
   ]
  },
  {
   "cell_type": "code",
   "execution_count": 4,
   "metadata": {},
   "outputs": [
    {
     "name": "stdout",
     "output_type": "stream",
     "text": [
      "-1, -1\n"
     ]
    }
   ],
   "source": [
    "srf_read, srf_str = lcu.asmToHex(\"SADD R1, ZERO, LAST\")\n",
    "print(str(srf_read) + \", \" + str(srf_str))"
   ]
  },
  {
   "cell_type": "code",
   "execution_count": 5,
   "metadata": {},
   "outputs": [
    {
     "name": "stdout",
     "output_type": "stream",
     "text": [
      "3, -1\n"
     ]
    }
   ],
   "source": [
    "srf_read, srf_str = lcu.asmToHex(\"SADD R1, SRF(3), LAST\")\n",
    "print(str(srf_read) + \", \" + str(srf_str))"
   ]
  },
  {
   "cell_type": "code",
   "execution_count": 6,
   "metadata": {},
   "outputs": [
    {
     "ename": "ValueError",
     "evalue": "Instruction not valid for LCU: SADD R1, SRF(3), ONE. Expected another format for the third operand (muxA).",
     "output_type": "error",
     "traceback": [
      "\u001b[0;31m---------------------------------------------------------------------------\u001b[0m",
      "\u001b[0;31mValueError\u001b[0m                                Traceback (most recent call last)",
      "Cell \u001b[0;32mIn[6], line 1\u001b[0m\n\u001b[0;32m----> 1\u001b[0m srf_read, srf_str \u001b[38;5;241m=\u001b[39m \u001b[43mlcu\u001b[49m\u001b[38;5;241;43m.\u001b[39;49m\u001b[43masmToHex\u001b[49m\u001b[43m(\u001b[49m\u001b[38;5;124;43m\"\u001b[39;49m\u001b[38;5;124;43mSADD R1, SRF(3), ONE\u001b[39;49m\u001b[38;5;124;43m\"\u001b[39;49m\u001b[43m)\u001b[49m \u001b[38;5;66;03m# Error\u001b[39;00m\n\u001b[1;32m      2\u001b[0m \u001b[38;5;28mprint\u001b[39m(\u001b[38;5;28mstr\u001b[39m(srf_read) \u001b[38;5;241m+\u001b[39m \u001b[38;5;124m\"\u001b[39m\u001b[38;5;124m, \u001b[39m\u001b[38;5;124m\"\u001b[39m \u001b[38;5;241m+\u001b[39m \u001b[38;5;28mstr\u001b[39m(srf_str))\n",
      "File \u001b[0;32m~/epfl/ESL-CGRA-simulator/src/lcu.py:366\u001b[0m, in \u001b[0;36mLCU.asmToHex\u001b[0;34m(self, instr)\u001b[0m\n\u001b[1;32m    363\u001b[0m     \u001b[38;5;28;01mraise\u001b[39;00m \u001b[38;5;167;01mValueError\u001b[39;00m(\u001b[38;5;124m\"\u001b[39m\u001b[38;5;124mInstruction not valid for LCU: \u001b[39m\u001b[38;5;124m\"\u001b[39m \u001b[38;5;241m+\u001b[39m instr \u001b[38;5;241m+\u001b[39m \u001b[38;5;124m\"\u001b[39m\u001b[38;5;124m. Expected another format for the second operand (muxB).\u001b[39m\u001b[38;5;124m\"\u001b[39m)\n\u001b[1;32m    365\u001b[0m \u001b[38;5;28;01mif\u001b[39;00m muxA \u001b[38;5;241m==\u001b[39m \u001b[38;5;28;01mNone\u001b[39;00m:\n\u001b[0;32m--> 366\u001b[0m     \u001b[38;5;28;01mraise\u001b[39;00m \u001b[38;5;167;01mValueError\u001b[39;00m(\u001b[38;5;124m\"\u001b[39m\u001b[38;5;124mInstruction not valid for LCU: \u001b[39m\u001b[38;5;124m\"\u001b[39m \u001b[38;5;241m+\u001b[39m instr \u001b[38;5;241m+\u001b[39m \u001b[38;5;124m\"\u001b[39m\u001b[38;5;124m. Expected another format for the third operand (muxA).\u001b[39m\u001b[38;5;124m\"\u001b[39m)\n\u001b[1;32m    368\u001b[0m \u001b[38;5;28;01mif\u001b[39;00m srf_muxB_index \u001b[38;5;241m!=\u001b[39m \u001b[38;5;241m-\u001b[39m\u001b[38;5;241m1\u001b[39m:\n\u001b[1;32m    369\u001b[0m     \u001b[38;5;28;01mif\u001b[39;00m srf_read_index \u001b[38;5;241m!=\u001b[39m \u001b[38;5;241m-\u001b[39m\u001b[38;5;241m1\u001b[39m \u001b[38;5;129;01mand\u001b[39;00m srf_muxB_index \u001b[38;5;241m!=\u001b[39m srf_read_index:\n",
      "\u001b[0;31mValueError\u001b[0m: Instruction not valid for LCU: SADD R1, SRF(3), ONE. Expected another format for the third operand (muxA)."
     ]
    }
   ],
   "source": [
    "srf_read, srf_str = lcu.asmToHex(\"SADD R1, SRF(3), ONE\") # Error\n",
    "print(str(srf_read) + \", \" + str(srf_str))"
   ]
  },
  {
   "cell_type": "code",
   "execution_count": null,
   "metadata": {},
   "outputs": [
    {
     "name": "stdout",
     "output_type": "stream",
     "text": [
      "-1, -1\n"
     ]
    }
   ],
   "source": [
    "srf_read, srf_str = lcu.asmToHex(\"SADDI R1, ONE, 7\")\n",
    "print(str(srf_read) + \", \" + str(srf_str))"
   ]
  },
  {
   "cell_type": "code",
   "execution_count": null,
   "metadata": {},
   "outputs": [
    {
     "name": "stdout",
     "output_type": "stream",
     "text": [
      "4, 4\n"
     ]
    }
   ],
   "source": [
    "srf_read, srf_str = lcu.asmToHex(\"SSUB SRF(4), SRF(4), SRF(4)\")\n",
    "print(str(srf_read) + \", \" + str(srf_str))"
   ]
  },
  {
   "cell_type": "code",
   "execution_count": null,
   "metadata": {},
   "outputs": [
    {
     "ename": "ValueError",
     "evalue": "Instruction not valid for LCU: SSUB SRF(4), SRF(4), SRF(3). Expected only one read to the SRF.",
     "output_type": "error",
     "traceback": [
      "\u001b[0;31m---------------------------------------------------------------------------\u001b[0m",
      "\u001b[0;31mValueError\u001b[0m                                Traceback (most recent call last)",
      "Cell \u001b[0;32mIn[16], line 1\u001b[0m\n\u001b[0;32m----> 1\u001b[0m srf_read, srf_str \u001b[38;5;241m=\u001b[39m \u001b[43mlcu\u001b[49m\u001b[38;5;241;43m.\u001b[39;49m\u001b[43masmToHex\u001b[49m\u001b[43m(\u001b[49m\u001b[38;5;124;43m\"\u001b[39;49m\u001b[38;5;124;43mSSUB SRF(4), SRF(4), SRF(3)\u001b[39;49m\u001b[38;5;124;43m\"\u001b[39;49m\u001b[43m)\u001b[49m \u001b[38;5;66;03m# Error\u001b[39;00m\n\u001b[1;32m      2\u001b[0m \u001b[38;5;28mprint\u001b[39m(\u001b[38;5;28mstr\u001b[39m(srf_read) \u001b[38;5;241m+\u001b[39m \u001b[38;5;124m\"\u001b[39m\u001b[38;5;124m, \u001b[39m\u001b[38;5;124m\"\u001b[39m \u001b[38;5;241m+\u001b[39m \u001b[38;5;28mstr\u001b[39m(srf_str))\n",
      "File \u001b[0;32m~/epfl/ESL-CGRA-simulator/src/lcu.py:363\u001b[0m, in \u001b[0;36mLCU.asmToHex\u001b[0;34m(self, instr)\u001b[0m\n\u001b[1;32m    361\u001b[0m \u001b[38;5;28;01mif\u001b[39;00m srf_muxB_index \u001b[38;5;241m!=\u001b[39m \u001b[38;5;241m-\u001b[39m\u001b[38;5;241m1\u001b[39m:\n\u001b[1;32m    362\u001b[0m     \u001b[38;5;28;01mif\u001b[39;00m srf_read_index \u001b[38;5;241m!=\u001b[39m \u001b[38;5;241m-\u001b[39m\u001b[38;5;241m1\u001b[39m \u001b[38;5;129;01mand\u001b[39;00m srf_muxB_index \u001b[38;5;241m!=\u001b[39m srf_read_index:\n\u001b[0;32m--> 363\u001b[0m         \u001b[38;5;28;01mraise\u001b[39;00m \u001b[38;5;167;01mValueError\u001b[39;00m(\u001b[38;5;124m\"\u001b[39m\u001b[38;5;124mInstruction not valid for LCU: \u001b[39m\u001b[38;5;124m\"\u001b[39m \u001b[38;5;241m+\u001b[39m instr \u001b[38;5;241m+\u001b[39m \u001b[38;5;124m\"\u001b[39m\u001b[38;5;124m. Expected only one read to the SRF.\u001b[39m\u001b[38;5;124m\"\u001b[39m) \n\u001b[1;32m    364\u001b[0m     srf_read_index \u001b[38;5;241m=\u001b[39m srf_muxB_index\n\u001b[1;32m    366\u001b[0m \u001b[38;5;28;01mif\u001b[39;00m srf_str_index \u001b[38;5;241m!=\u001b[39m \u001b[38;5;241m-\u001b[39m\u001b[38;5;241m1\u001b[39m \u001b[38;5;129;01mand\u001b[39;00m srf_read_index \u001b[38;5;241m!=\u001b[39m \u001b[38;5;241m-\u001b[39m\u001b[38;5;241m1\u001b[39m \u001b[38;5;129;01mand\u001b[39;00m srf_str_index \u001b[38;5;241m!=\u001b[39m srf_read_index:\n",
      "\u001b[0;31mValueError\u001b[0m: Instruction not valid for LCU: SSUB SRF(4), SRF(4), SRF(3). Expected only one read to the SRF."
     ]
    }
   ],
   "source": [
    "srf_read, srf_str = lcu.asmToHex(\"SSUB SRF(4), SRF(4), SRF(3)\") # Error\n",
    "print(str(srf_read) + \", \" + str(srf_str))"
   ]
  },
  {
   "cell_type": "code",
   "execution_count": null,
   "metadata": {},
   "outputs": [
    {
     "name": "stdout",
     "output_type": "stream",
     "text": [
      "-1, -1\n"
     ]
    }
   ],
   "source": [
    "srf_read, srf_str = lcu.asmToHex(\"JUMP ONE, 7\")\n",
    "print(str(srf_read) + \", \" + str(srf_str))"
   ]
  },
  {
   "cell_type": "code",
   "execution_count": 10,
   "metadata": {},
   "outputs": [
    {
     "name": "stdout",
     "output_type": "stream",
     "text": [
      "-1, -1\n"
     ]
    }
   ],
   "source": [
    "srf_read, srf_str = lcu.asmToHex(\"BGEPD ONE, ZERO, 5\")\n",
    "print(str(srf_read) + \", \" + str(srf_str))"
   ]
  }
 ],
 "metadata": {
  "kernelspec": {
   "display_name": "base",
   "language": "python",
   "name": "python3"
  },
  "language_info": {
   "codemirror_mode": {
    "name": "ipython",
    "version": 3
   },
   "file_extension": ".py",
   "mimetype": "text/x-python",
   "name": "python",
   "nbconvert_exporter": "python",
   "pygments_lexer": "ipython3",
   "version": "3.11.4"
  }
 },
 "nbformat": 4,
 "nbformat_minor": 2
}
