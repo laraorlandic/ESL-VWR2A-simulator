{
 "cells": [
  {
   "cell_type": "code",
   "execution_count": 7,
   "metadata": {},
   "outputs": [
    {
     "name": "stdout",
     "output_type": "stream",
     "text": [
      "NOP: -1, -1, 0x0\n",
      "EXIT: -1, -1, 0x1c00\n",
      "SADD R1, ZERO, LAST: -1, -1, 0xb8340\n",
      "SADD R1, SRF(3), LAST: 3, -1, 0xb0340\n",
      "SADDI R1, ONE, 7: -1, -1, 0xfc347\n",
      "SSUB SRF(4), SRF(4), SRF(4): 4, 4, 0x90400\n",
      "JUMP ONE, 7: -1, -1, 0xfda07\n",
      "BGEPD ONE, ZERO, 5: -1, -1, 0xdd605\n"
     ]
    }
   ],
   "source": [
    "# --------------------------------------------\n",
    "#                   TEST LCU\n",
    "# --------------------------------------------\n",
    "from src import lcu\n",
    "lcu = lcu.LCU()\n",
    "\n",
    "instr_list = [\"NOP\", \"EXIT\", \"SADD R1, ZERO, LAST\", \"SADD R1, SRF(3), LAST\", \"SADDI R1, ONE, 7\", \"SSUB SRF(4), SRF(4), SRF(4)\", \"JUMP ONE, 7\", \"BGEPD ONE, ZERO, 5\"]\n",
    "\n",
    "for instr in instr_list:\n",
    "    srf_read, srf_str, hex_word = lcu.asmToHex(instr)\n",
    "    print(instr + \": \" + str(srf_read) + \", \" + str(srf_str) + \", \" + hex_word)"
   ]
  },
  {
   "cell_type": "code",
   "execution_count": 8,
   "metadata": {},
   "outputs": [
    {
     "name": "stdout",
     "output_type": "stream",
     "text": [
      "SADD R0, ONE, ONE/LD.VWR VWR_A: -1, -1, 0x45538\n",
      "SADD R0, SRF(5), ONE/SH.IL.UP: 5, -1, 0xc4538\n",
      "SADD SRF(5), SRF(5), ONE/LD.VWR SRF: 5, 5, 0x5c530\n"
     ]
    }
   ],
   "source": [
    "# --------------------------------------------\n",
    "#                   TEST LSU\n",
    "# --------------------------------------------\n",
    "from src import lsu\n",
    "lsu = lsu.LSU()\n",
    "\n",
    "instr_list = [\"SADD R0, ONE, ONE/LD.VWR VWR_A\", \"SADD R0, SRF(5), ONE/SH.IL.UP\", \"SADD SRF(5), SRF(5), ONE/LD.VWR SRF\"]\n",
    "\n",
    "for instr in instr_list:\n",
    "    srf_read, srf_str, hex_word = lsu.asmToHex(instr)\n",
    "    print(instr + \": \" + str(srf_read) + \", \" + str(srf_str) + \", \" + hex_word)"
   ]
  },
  {
   "cell_type": "code",
   "execution_count": 9,
   "metadata": {},
   "outputs": [
    {
     "name": "stdout",
     "output_type": "stream",
     "text": [
      "NOP: -1, -1, 0x0\n",
      "SADD VWR_A, VWR_A, VWR_B: -1, -1, 0x420\n",
      "SADD VWR_A, SRF(3), VWR_B: 3, -1, 0xc420\n",
      "LOR R0, RCB, MIN_INT: -1, -1, 0x1f522\n",
      "MUL.FP R0, RCB, MIN_INT: -1, -1, 0x1f5a2\n"
     ]
    }
   ],
   "source": [
    "# --------------------------------------------\n",
    "#                   TEST RCs\n",
    "# --------------------------------------------\n",
    "from src import rc\n",
    "rc = rc.RC()\n",
    "\n",
    "instr_list = [\"NOP\", \"SADD VWR_A, VWR_A, VWR_B\", \"SADD VWR_A, SRF(3), VWR_B\", \"LOR R0, RCB, MIN_INT\", \"MUL.FP R0, RCB, MIN_INT\"]\n",
    "# DIV.FP R0, RCB, MIN_INT\") Error: float point div not supported\n",
    "for instr in instr_list:\n",
    "    srf_read, srf_str, vwr_str, hex_word = rc.asmToHex(instr)\n",
    "    print(instr + \": \" + str(srf_read) + \", \" + str(srf_str) + \", \" + hex_word)"
   ]
  },
  {
   "cell_type": "code",
   "execution_count": 10,
   "metadata": {},
   "outputs": [
    {
     "name": "stdout",
     "output_type": "stream",
     "text": [
      "NOP: 0x0\n",
      "SADD R1, ONE, LAST: 0x5699000\n",
      "LOR R1, ONE, SRF(3): 0x54690c0\n"
     ]
    }
   ],
   "source": [
    "# --------------------------------------------\n",
    "#                   TEST MXCU\n",
    "# --------------------------------------------\n",
    "from src import mxcu\n",
    "mxcu = mxcu.MXCU()\n",
    "\n",
    "instr_list = [\"NOP\", \"SADD R1, ONE, LAST\", \"LOR R1, ONE, SRF(3)\"]\n",
    "srf_sel = -1\n",
    "srf_we = 0\n",
    "alu_srf_write = 0\n",
    "vwr_row_we = [0,0,0,0]\n",
    "vwr_sel = 0\n",
    "for instr in instr_list:\n",
    "    hex_word = mxcu.asmToHex(instr, srf_sel, srf_we, alu_srf_write, vwr_row_we, vwr_sel)\n",
    "    print(instr + \": \" + hex_word)"
   ]
  },
  {
   "cell_type": "code",
   "execution_count": 11,
   "metadata": {},
   "outputs": [
    {
     "name": "stdout",
     "output_type": "stream",
     "text": [
      "Processing file: ./kernels/test_asm/instructions_v1.csv...\n"
     ]
    }
   ],
   "source": [
    "# --------------------------------------------\n",
    "#                   COMPILE\n",
    "# --------------------------------------------\n",
    "from src import simulator\n",
    "kernel_path='./kernels/test_asm/'\n",
    "sim = simulator.SIMULATOR()\n",
    "sim.compileAsm(kernel_path, version=\"_v1\", nInstrPerCol=11, colUsage=[True, False], imem_start_addr=3)"
   ]
  },
  {
   "cell_type": "code",
   "execution_count": 12,
   "metadata": {},
   "outputs": [],
   "source": [
    "# Using two cols\n",
    "#sim.compileAsm(kernel_path, version=\"_v2\", nInstrPerCol=5, colUsage=[True, True], imem_start_addr=3)"
   ]
  },
  {
   "cell_type": "code",
   "execution_count": 13,
   "metadata": {},
   "outputs": [],
   "source": [
    "# --------------------------------------------\n",
    "#                   SIMULATE\n",
    "# --------------------------------------------\n",
    "from src.simulator import *\n",
    "from random import randint\n",
    "\n",
    "sim = SIMULATOR()\n",
    "\n",
    "# --------------------------------------------\n",
    "#               KERNEL CONFIGURATION\n",
    "# --------------------------------------------\n",
    "kernel_path = './kernels/test_asm/' # Path\n",
    "kernel_number = 1 # Kernel number (from 1 to 15)\n",
    "column_usage = [True, False] # Columns to use\n",
    "nInstrPerCol = 11 # Number of instructions per column\n",
    "imem_add_start = 0 # Start address on imem for this kernel\n",
    "srf_spm_addres = 0 # Line of the SPM with the initial data for the SRF\n",
    "\n",
    "sim.kernel_config(column_usage, nInstrPerCol, imem_add_start, srf_spm_addres, kernel_number)\n",
    "\n",
    "# --------------------------------------------\n",
    "#                LOAD SPM DATA\n",
    "# --------------------------------------------\n",
    "# Load vector by vector in the positions you want\n",
    "random_vector = [randint(0, 100) for _ in range(SPM_NWORDS)]\n",
    "nline = 3\n",
    "sim.setSPMLine(nline, random_vector)\n",
    "# Or, load the entire content of the SPM\n",
    "data = []\n",
    "for nline in range(SPM_NLINES):\n",
    "    random_vector = [randint(0, 100) for _ in range(SPM_NWORDS)]\n",
    "    data.append(random_vector)\n",
    "sim.loadSPMData(data)\n",
    "\n",
    "# --------------------------------------------\n",
    "#               SIMULATE EXECUTION\n",
    "# --------------------------------------------\n",
    "show_lcu = ['R0']\n",
    "show_srf = ['R3', 'R5']\n",
    "show_lsu = []\n",
    "show_rcs = [['R1'],['R0'],['OWN'],[]]\n",
    "show_mxcu = ['R1']\n",
    "display_ops = [show_lcu, show_lsu, show_mxcu, show_rcs, show_srf]\n",
    "\n",
    "#sim.run(kernel_path, version=\"_v1\", display_ops=display_ops)"
   ]
  }
 ],
 "metadata": {
  "kernelspec": {
   "display_name": "base",
   "language": "python",
   "name": "python3"
  },
  "language_info": {
   "codemirror_mode": {
    "name": "ipython",
    "version": 3
   },
   "file_extension": ".py",
   "mimetype": "text/x-python",
   "name": "python",
   "nbconvert_exporter": "python",
   "pygments_lexer": "ipython3",
   "version": "3.11.4"
  }
 },
 "nbformat": 4,
 "nbformat_minor": 2
}
