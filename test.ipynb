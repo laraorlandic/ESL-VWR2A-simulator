{
 "cells": [
  {
   "cell_type": "code",
   "execution_count": 1,
   "metadata": {},
   "outputs": [
    {
     "name": "stdout",
     "output_type": "stream",
     "text": [
      "NOP: -1, -1, 0x0\n",
      "EXIT: -1, -1, 0x1c00\n",
      "SADD R1, ZERO, LAST: -1, -1, 0xd4340\n",
      "SADD R1, SRF(3), LAST: 3, -1, 0x94340\n",
      "SADD R1, 7, ONE: -1, -1, 0xfc347\n",
      "SSUB SRF(4), SRF(4), SRF(4): 4, 4, 0x90400\n",
      "JUMP 7, ONE: -1, -1, 0xfda07\n",
      "BGEPD ZERO, ONE, 5: -1, -1, 0xdd605\n"
     ]
    }
   ],
   "source": [
    "# --------------------------------------------\n",
    "#                   TEST LCU\n",
    "# --------------------------------------------\n",
    "from src import lcu\n",
    "lcu = lcu.LCU()\n",
    "\n",
    "instr_list = [\"NOP\", \"EXIT\", \"SADD R1, ZERO, LAST\", \"SADD R1, SRF(3), LAST\", \"SADD R1, 7, ONE\", \"SSUB SRF(4), SRF(4), SRF(4)\", \"JUMP 7, ONE\", \"BGEPD ZERO, ONE, 5\"]\n",
    "\n",
    "for instr in instr_list:\n",
    "    srf_read, srf_str, word = lcu.asmToHex(instr)\n",
    "    print(instr + \": \" + str(srf_read) + \", \" + str(srf_str) + \", \" + word.get_word_in_hex())"
   ]
  },
  {
   "cell_type": "code",
   "execution_count": 2,
   "metadata": {},
   "outputs": [
    {
     "name": "stdout",
     "output_type": "stream",
     "text": [
      "SADD R0, ONE, ONE/LD.VWR VWR_A: -1, -1, 0x45538\n",
      "SADD R0, SRF(5), ONE/SH.IL.UP: 5, -1, 0xc4538\n",
      "SADD SRF(5), SRF(5), ONE/LD.VWR SRF: 5, 5, 0x5c530\n"
     ]
    }
   ],
   "source": [
    "# --------------------------------------------\n",
    "#                   TEST LSU\n",
    "# --------------------------------------------\n",
    "from src import lsu\n",
    "lsu = lsu.LSU()\n",
    "\n",
    "instr_list = [\"SADD R0, ONE, ONE/LD.VWR VWR_A\", \"SADD R0, SRF(5), ONE/SH.IL.UP\", \"SADD SRF(5), SRF(5), ONE/LD.VWR SRF\"]\n",
    "\n",
    "for instr in instr_list:\n",
    "    srf_read, srf_str, word = lsu.asmToHex(instr)\n",
    "    print(instr + \": \" + str(srf_read) + \", \" + str(srf_str) + \", \" + word.get_word_in_hex())"
   ]
  },
  {
   "cell_type": "code",
   "execution_count": 3,
   "metadata": {},
   "outputs": [
    {
     "name": "stdout",
     "output_type": "stream",
     "text": [
      "NOP: -1, -1, 0x0\n",
      "SADD VWR_A, VWR_A, VWR_B: -1, -1, 0x420\n",
      "SADD VWR_A, SRF(3), VWR_B: 3, -1, 0xc420\n",
      "LOR R0, RCB, MIN_INT: -1, -1, 0x1f522\n",
      "MUL.FP R0, RCB, MIN_INT: -1, -1, 0x1f5a2\n"
     ]
    }
   ],
   "source": [
    "# --------------------------------------------\n",
    "#                   TEST RCs\n",
    "# --------------------------------------------\n",
    "from src import rc\n",
    "rc = rc.RC()\n",
    "\n",
    "instr_list = [\"NOP\", \"SADD VWR_A, VWR_A, VWR_B\", \"SADD VWR_A, SRF(3), VWR_B\", \"LOR R0, RCB, MIN_INT\", \"MUL.FP R0, RCB, MIN_INT\"]\n",
    "# DIV.FP R0, RCB, MIN_INT\") Error: float point div not supported\n",
    "for instr in instr_list:\n",
    "    srf_read, srf_str, vwr_str, word = rc.asmToHex(instr)\n",
    "    print(instr + \": \" + str(srf_read) + \", \" + str(srf_str) + \", \" + word.get_word_in_hex())"
   ]
  },
  {
   "cell_type": "code",
   "execution_count": 4,
   "metadata": {},
   "outputs": [
    {
     "name": "stdout",
     "output_type": "stream",
     "text": [
      "NOP: 0x0\n",
      "SADD R1, ONE, LAST: 0x5699000\n",
      "LOR R1, ONE, SRF(3): 0x54690c0\n"
     ]
    }
   ],
   "source": [
    "# --------------------------------------------\n",
    "#                   TEST MXCU\n",
    "# --------------------------------------------\n",
    "from src import mxcu\n",
    "mxcu = mxcu.MXCU()\n",
    "\n",
    "instr_list = [\"NOP\", \"SADD R1, ONE, LAST\", \"LOR R1, ONE, SRF(3)\"]\n",
    "srf_sel = -1\n",
    "srf_we = 0\n",
    "alu_srf_write = 0\n",
    "vwr_row_we = [0,0,0,0]\n",
    "vwr_sel = 0\n",
    "for instr in instr_list:\n",
    "    word = mxcu.asmToHex(instr, srf_sel, srf_we, alu_srf_write, vwr_row_we, vwr_sel)\n",
    "    print(instr + \": \" + word.get_word_in_hex())"
   ]
  },
  {
   "cell_type": "code",
   "execution_count": 5,
   "metadata": {},
   "outputs": [
    {
     "name": "stdout",
     "output_type": "stream",
     "text": [
      "Processing file: ./kernels/test_asm/instructions_asm_v1.csv...\n"
     ]
    }
   ],
   "source": [
    "# --------------------------------------------\n",
    "#                   COMPILE\n",
    "# --------------------------------------------\n",
    "# Config kernel\n",
    "kernel_path='./kernels/test_asm/'\n",
    "kernel_number = 1 # Kernel number (from 1 to 15)\n",
    "column_usage = [True, False] # Columns to use\n",
    "nInstrPerCol = 15 # Number of instructions per column\n",
    "imem_add_start = 3 # Start address on imem for this kernel\n",
    "srf_spm_addres = 0 # Line of the SPM with the initial data for the SRF\n",
    "version=\"_v1\"\n",
    "from src import simulator\n",
    "sim = simulator.SIMULATOR()\n",
    "sim.kernel_config(column_usage, nInstrPerCol, imem_add_start, srf_spm_addres, kernel_number)\n",
    "sim.compileAsmToHex(kernel_path, kernel_number, version=version)"
   ]
  },
  {
   "cell_type": "code",
   "execution_count": 6,
   "metadata": {},
   "outputs": [
    {
     "name": "stdout",
     "output_type": "stream",
     "text": [
      "Processing file: ./kernels/test_asm/instructions_asm_v2.csv...\n"
     ]
    }
   ],
   "source": [
    "kernel_path='./kernels/test_asm/'\n",
    "kernel_number = 2 # Kernel number (from 1 to 15)\n",
    "column_usage = [True, True] # Columns to use\n",
    "nInstrPerCol = 5 # Number of instructions per column\n",
    "imem_add_start = 30 # Start address on imem for this kernel\n",
    "srf_spm_addres = 0 # Line of the SPM with the initial data for the SRF\n",
    "version=\"_v2\"\n",
    "#sim = simulator.SIMULATOR() # Coment this to store two kernels at the same time in the imem\n",
    "# Using two cols\n",
    "sim.kernel_config(column_usage, nInstrPerCol, imem_add_start, srf_spm_addres, kernel_number)\n",
    "sim.compileAsmToHex(kernel_path, kernel_number, version=version)"
   ]
  },
  {
   "cell_type": "code",
   "execution_count": 7,
   "metadata": {},
   "outputs": [
    {
     "name": "stdout",
     "output_type": "stream",
     "text": [
      "Processing file: ./kernels/test_asm/instructions_asm_v1.csv...\n",
      "Processing file: ./kernels/test_asm/instructions_hex_v1_test.csv...\n",
      "SPM 3: [80, 53, 56, 77, 83, 44, 95, 16, 49, 57, 63, 8, 95, 99, 96, 46, 79, 76, 34, 10, 99, 21, 60, 22, 89, 10, 43, 54, 38, 59, 48, 64, 8, 2, 20, 33, 96, 40, 56, 55, 50, 31, 35, 46, 28, 91, 21, 6, 2, 9, 52, 74, 61, 1, 88, 99, 44, 5, 20, 64, 87, 100, 64, 58, 43, 14, 59, 94, 27, 64, 71, 40, 36, 33, 58, 66, 69, 46, 97, 94, 15, 92, 97, 71, 64, 83, 75, 88, 55, 50, 77, 73, 1, 8, 86, 91, 62, 66, 2, 75, 36, 74, 17, 39, 77, 42, 28, 59, 44, 3, 81, 54, 10, 15, 51, 58, 26, 8, 44, 46, 11, 63, 60, 66, 42, 92, 77, 28, ]\n"
     ]
    }
   ],
   "source": [
    "# --------------------------------------------\n",
    "#                   SIMULATE\n",
    "# --------------------------------------------\n",
    "from src.simulator import *\n",
    "from random import randint\n",
    "\n",
    "sim = SIMULATOR()\n",
    "\n",
    "# --------------------------------------------\n",
    "#               KERNEL CONFIGURATION\n",
    "# --------------------------------------------\n",
    "kernel_path = './kernels/test_asm/' # Path\n",
    "kernel_number = 1 # Kernel number (from 1 to 15)\n",
    "column_usage = [True, False] # Columns to use\n",
    "nInstrPerCol = 15 # Number of instructions per column\n",
    "imem_add_start = 0 # Start address on imem for this kernel\n",
    "srf_spm_addres = 0 # Line of the SPM with the initial data for the SRF\n",
    "version=\"_v1\"\n",
    "\n",
    "sim.kernel_config(column_usage, nInstrPerCol, imem_add_start, srf_spm_addres, kernel_number)\n",
    "\n",
    "# --------------------------------------------\n",
    "#                LOAD SPM DATA\n",
    "# --------------------------------------------\n",
    "# Load vector by vector in the positions you want\n",
    "random_vector = [randint(0, 100) for _ in range(SPM_NWORDS)]\n",
    "nline = 3\n",
    "sim.setSPMLine(nline, random_vector)\n",
    "# Or, load the entire content of the SPM\n",
    "data = []\n",
    "for nline in range(SPM_NLINES):\n",
    "    random_vector = [randint(0, 100) for _ in range(SPM_NWORDS)]\n",
    "    data.append(random_vector)\n",
    "sim.loadSPMData(data)\n",
    "\n",
    "# --------------------------------------------\n",
    "#              COMPILE ASM TO HEX\n",
    "# --------------------------------------------\n",
    "# If hexadecimal is not provided, here we generate it\n",
    "sim.compileAsmToHex(kernel_path, kernel_number, version=version)\n",
    "\n",
    "# --------------------------------------------\n",
    "#                 LOAD KERNEL\n",
    "# --------------------------------------------\n",
    "\n",
    "# This needs the hex instructions, if you don't provide them, generate then compiling the asm\n",
    "sim.kernel_load(kernel_path, version=version + \"_test\", kernel_number=kernel_number)\n",
    "\n",
    "# --------------------------------------------\n",
    "#               SIMULATE EXECUTION\n",
    "# --------------------------------------------\n",
    "show_lcu = []\n",
    "show_srf = []\n",
    "show_lsu = []\n",
    "show_rcs = [[],[],[],[]]\n",
    "show_mxcu = []\n",
    "display_ops = [show_lcu, show_lsu, show_mxcu, show_rcs, show_srf]\n",
    "\n",
    "sim.displaySPMLine(3)\n",
    "\n",
    "# Do not run since it is an infinite loop\n",
    "#sim.run(kernel_number, display_ops=display_ops)"
   ]
  },
  {
   "cell_type": "code",
   "execution_count": 8,
   "metadata": {},
   "outputs": [
    {
     "name": "stdout",
     "output_type": "stream",
     "text": [
      "Processing file: ./kernels/exit/instructions_hex.csv...\n"
     ]
    }
   ],
   "source": [
    "kernel_path = './kernels/exit/' \n",
    "sim.compileHexToAsm(kernel_path)"
   ]
  },
  {
   "cell_type": "code",
   "execution_count": 9,
   "metadata": {},
   "outputs": [
    {
     "name": "stdout",
     "output_type": "stream",
     "text": [
      "Processing file: ./kernels/add_vectors/instructions_hex.csv...\n"
     ]
    }
   ],
   "source": [
    "kernel_path = './kernels/add_vectors/' \n",
    "sim.compileHexToAsm(kernel_path)"
   ]
  },
  {
   "cell_type": "code",
   "execution_count": 10,
   "metadata": {},
   "outputs": [
    {
     "name": "stdout",
     "output_type": "stream",
     "text": [
      "Processing file: ./kernels/add_vectors/instructions_asm.csv...\n"
     ]
    }
   ],
   "source": [
    "# --------------------------------------------\n",
    "#               KERNEL CONFIGURATION\n",
    "# --------------------------------------------\n",
    "kernel_path = './kernels/add_vectors/' \n",
    "kernel_number = 1 # Kernel number (from 1 to 15)\n",
    "column_usage = [True, False] # Columns to use\n",
    "nInstrPerCol = 37 # Number of instructions per column\n",
    "imem_add_start = 0 # Start address on imem for this kernel\n",
    "srf_spm_addres = 0 # Line of the SPM with the initial data for the SRF\n",
    "version=\"\"\n",
    "sim.kernel_config(column_usage, nInstrPerCol, imem_add_start, srf_spm_addres, kernel_number)\n",
    "sim.compileAsmToHex(kernel_path, kernel_number, version=version)"
   ]
  },
  {
   "cell_type": "code",
   "execution_count": 11,
   "metadata": {},
   "outputs": [
    {
     "name": "stdout",
     "output_type": "stream",
     "text": [
      "Processing file: ./kernels/mf_q64_erosion/instructions_hex.csv...\n",
      "Processing file: ./kernels/mf_q64_erosion/instructions_asm.csv...\n"
     ]
    }
   ],
   "source": [
    "\n",
    "# --------------------------------------------\n",
    "#               KERNEL CONFIGURATION\n",
    "# --------------------------------------------\n",
    "kernel_path = './kernels/mf_q64_erosion/' \n",
    "kernel_number = 1 # Kernel number (from 1 to 15)\n",
    "column_usage = [True, False] # Columns to use\n",
    "nInstrPerCol = 44 # Number of instructions per column\n",
    "imem_add_start = 0 # Start address on imem for this kernel\n",
    "srf_spm_addres = 0 # Line of the SPM with the initial data for the SRF\n",
    "version=\"\"\n",
    "sim = simulator.SIMULATOR()\n",
    "sim.kernel_config(column_usage, nInstrPerCol, imem_add_start, srf_spm_addres, kernel_number)\n",
    "sim.compileHexToAsm(kernel_path)\n",
    "sim.compileAsmToHex(kernel_path, kernel_number, version=version)\n"
   ]
  },
  {
   "cell_type": "code",
   "execution_count": 2,
   "metadata": {},
   "outputs": [
    {
     "name": "stdout",
     "output_type": "stream",
     "text": [
      "Pseudo-Assembly representation: SSUB R3, R0, SRF(5)\n",
      "Writing to VWR rows [2] of VWR_C\n",
      "Writing from LCU ALU to SRF register 5\n",
      "Performing ALU operation SSUB between operands R0 and SRF\n",
      "Writing ALU result to MXCU register 3\n",
      "Hex: 0x42b964\n",
      "ORIG -------------------------\n",
      "Pseudo-Assembly representation: SSUB R3, R0, SRF(5)\n",
      "Writing to VWR rows [1] of VWR_A\n",
      "Writing from LCU ALU to SRF register 5\n",
      "Performing ALU operation SSUB between operands R0 and SRF\n",
      "Writing ALU result to MXCU register 3\n",
      "MXCU -------------------------\n",
      "Pseudo-Assembly representation: SADD R1, R1, ONE\n",
      "Not writing to VWRs\n",
      "Reading from SRF index 0\n",
      "Performing ALU operation SADD between operands R1 and ONE\n",
      "Writing ALU result to MXCU register 1\n"
     ]
    }
   ],
   "source": [
    "from src import *\n",
    "# Load an existing imem word and decode it\n",
    "imem_pos = 1\n",
    "imem_word = 0x42b964\n",
    "\n",
    "mxcu_imem = MXCU_IMEM()\n",
    "mxcu_imem.set_word(imem_word, imem_pos)\n",
    "asm = mxcu_imem.get_instr_pseudo_asm(imem_pos)\n",
    "print(\"Pseudo-Assembly representation: \" + asm)\n",
    "mxcu_imem.get_instruction_info(imem_pos)\n",
    "hex = mxcu_imem.get_word_in_hex(imem_pos)\n",
    "print(\"Hex: \" + hex)\n",
    "\n",
    "print(\"ORIG -------------------------\")\n",
    "\n",
    "\n",
    "# Load an existing imem word and decode it\n",
    "imem_pos = 2\n",
    "imem_word = 0x42b942\n",
    "\n",
    "mxcu_imem.set_word(imem_word, imem_pos)\n",
    "asm = mxcu_imem.get_instr_pseudo_asm(imem_pos)\n",
    "print(\"Pseudo-Assembly representation: \" + asm)\n",
    "mxcu_imem.get_instruction_info(imem_pos)\n",
    "\n",
    "print(\"MXCU -------------------------\")\n",
    "\n",
    "# Load an existing imem word and decode it\n",
    "imem_pos = 2\n",
    "imem_word = 0xd19000\n",
    "\n",
    "mxcu_imem = MXCU_IMEM()\n",
    "mxcu_imem.set_word(imem_word, imem_pos)\n",
    "asm = mxcu_imem.get_instr_pseudo_asm(imem_pos)\n",
    "print(\"Pseudo-Assembly representation: \" + asm)\n",
    "mxcu_imem.get_instruction_info(imem_pos)\n",
    "\n"
   ]
  }
 ],
 "metadata": {
  "kernelspec": {
   "display_name": "base",
   "language": "python",
   "name": "python3"
  },
  "language_info": {
   "codemirror_mode": {
    "name": "ipython",
    "version": 3
   },
   "file_extension": ".py",
   "mimetype": "text/x-python",
   "name": "python",
   "nbconvert_exporter": "python",
   "pygments_lexer": "ipython3",
   "version": "3.11.4"
  }
 },
 "nbformat": 4,
 "nbformat_minor": 2
}
