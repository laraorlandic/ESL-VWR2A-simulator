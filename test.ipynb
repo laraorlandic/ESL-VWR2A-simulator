{
 "cells": [
  {
   "cell_type": "code",
   "execution_count": 1,
   "metadata": {},
   "outputs": [
    {
     "name": "stdout",
     "output_type": "stream",
     "text": [
      "NOP: -1, -1, 0x0\n",
      "EXIT: -1, -1, 0x1c00\n",
      "SADD R1, ZERO, LAST: -1, -1, 0xb8340\n",
      "SADD R1, SRF(3), LAST: 3, -1, 0xb0340\n",
      "SADDI R1, ONE, 7: -1, -1, 0xfc347\n",
      "SSUB SRF(4), SRF(4), SRF(4): 4, 4, 0x90400\n",
      "JUMP ONE, 7: -1, -1, 0xfda07\n",
      "BGEPD ONE, ZERO, 5: -1, -1, 0xdd605\n"
     ]
    }
   ],
   "source": [
    "# --------------------------------------------\n",
    "#                   TEST LCU\n",
    "# --------------------------------------------\n",
    "from src import lcu\n",
    "lcu = lcu.LCU()\n",
    "\n",
    "instr_list = [\"NOP\", \"EXIT\", \"SADD R1, ZERO, LAST\", \"SADD R1, SRF(3), LAST\", \"SADDI R1, ONE, 7\", \"SSUB SRF(4), SRF(4), SRF(4)\", \"JUMP ONE, 7\", \"BGEPD ONE, ZERO, 5\"]\n",
    "\n",
    "for instr in instr_list:\n",
    "    srf_read, srf_str, word = lcu.asmToHex(instr)\n",
    "    print(instr + \": \" + str(srf_read) + \", \" + str(srf_str) + \", \" + word.get_word_in_hex())"
   ]
  },
  {
   "cell_type": "code",
   "execution_count": 2,
   "metadata": {},
   "outputs": [
    {
     "name": "stdout",
     "output_type": "stream",
     "text": [
      "SADD R0, ONE, ONE/LD.VWR VWR_A: -1, -1, 0x45538\n",
      "SADD R0, SRF(5), ONE/SH.IL.UP: 5, -1, 0xc4538\n",
      "SADD SRF(5), SRF(5), ONE/LD.VWR SRF: 5, 5, 0x5c530\n"
     ]
    }
   ],
   "source": [
    "# --------------------------------------------\n",
    "#                   TEST LSU\n",
    "# --------------------------------------------\n",
    "from src import lsu\n",
    "lsu = lsu.LSU()\n",
    "\n",
    "instr_list = [\"SADD R0, ONE, ONE/LD.VWR VWR_A\", \"SADD R0, SRF(5), ONE/SH.IL.UP\", \"SADD SRF(5), SRF(5), ONE/LD.VWR SRF\"]\n",
    "\n",
    "for instr in instr_list:\n",
    "    srf_read, srf_str, word = lsu.asmToHex(instr)\n",
    "    print(instr + \": \" + str(srf_read) + \", \" + str(srf_str) + \", \" + word.get_word_in_hex())"
   ]
  },
  {
   "cell_type": "code",
   "execution_count": 3,
   "metadata": {},
   "outputs": [
    {
     "name": "stdout",
     "output_type": "stream",
     "text": [
      "NOP: -1, -1, 0x0\n",
      "SADD VWR_A, VWR_A, VWR_B: -1, -1, 0x420\n",
      "SADD VWR_A, SRF(3), VWR_B: 3, -1, 0xc420\n",
      "LOR R0, RCB, MIN_INT: -1, -1, 0x1f522\n",
      "MUL.FP R0, RCB, MIN_INT: -1, -1, 0x1f5a2\n"
     ]
    }
   ],
   "source": [
    "# --------------------------------------------\n",
    "#                   TEST RCs\n",
    "# --------------------------------------------\n",
    "from src import rc\n",
    "rc = rc.RC()\n",
    "\n",
    "instr_list = [\"NOP\", \"SADD VWR_A, VWR_A, VWR_B\", \"SADD VWR_A, SRF(3), VWR_B\", \"LOR R0, RCB, MIN_INT\", \"MUL.FP R0, RCB, MIN_INT\"]\n",
    "# DIV.FP R0, RCB, MIN_INT\") Error: float point div not supported\n",
    "for instr in instr_list:\n",
    "    srf_read, srf_str, vwr_str, word = rc.asmToHex(instr)\n",
    "    print(instr + \": \" + str(srf_read) + \", \" + str(srf_str) + \", \" + word.get_word_in_hex())"
   ]
  },
  {
   "cell_type": "code",
   "execution_count": 4,
   "metadata": {},
   "outputs": [
    {
     "name": "stdout",
     "output_type": "stream",
     "text": [
      "NOP: 0x0\n",
      "SADD R1, ONE, LAST: 0x5699000\n",
      "LOR R1, ONE, SRF(3): 0x54690c0\n"
     ]
    }
   ],
   "source": [
    "# --------------------------------------------\n",
    "#                   TEST MXCU\n",
    "# --------------------------------------------\n",
    "from src import mxcu\n",
    "mxcu = mxcu.MXCU()\n",
    "\n",
    "instr_list = [\"NOP\", \"SADD R1, ONE, LAST\", \"LOR R1, ONE, SRF(3)\"]\n",
    "srf_sel = -1\n",
    "srf_we = 0\n",
    "alu_srf_write = 0\n",
    "vwr_row_we = [0,0,0,0]\n",
    "vwr_sel = 0\n",
    "for instr in instr_list:\n",
    "    word = mxcu.asmToHex(instr, srf_sel, srf_we, alu_srf_write, vwr_row_we, vwr_sel)\n",
    "    print(instr + \": \" + word.get_word_in_hex())"
   ]
  },
  {
   "cell_type": "code",
   "execution_count": 5,
   "metadata": {},
   "outputs": [
    {
     "name": "stdout",
     "output_type": "stream",
     "text": [
      "Processing file: ./kernels/test_asm/instructions_asm_v1.csv...\n"
     ]
    }
   ],
   "source": [
    "# --------------------------------------------\n",
    "#                   COMPILE\n",
    "# --------------------------------------------\n",
    "from src import simulator\n",
    "kernel_path='./kernels/test_asm/'\n",
    "sim = simulator.SIMULATOR()\n",
    "sim.compileAsmToHex(kernel_path, version=\"_v1\", nInstrPerCol=11, colUsage=[True, False], imem_start_addr=3)"
   ]
  },
  {
   "cell_type": "code",
   "execution_count": 6,
   "metadata": {},
   "outputs": [
    {
     "name": "stdout",
     "output_type": "stream",
     "text": [
      "Processing file: ./kernels/test_asm/instructions_asm_v2.csv...\n"
     ]
    }
   ],
   "source": [
    "from src import simulator\n",
    "kernel_path='./kernels/test_asm/'\n",
    "sim = simulator.SIMULATOR()\n",
    "# Using two cols\n",
    "sim.compileAsmToHex(kernel_path, version=\"_v2\", nInstrPerCol=5, colUsage=[True, True], imem_start_addr=3)"
   ]
  },
  {
   "cell_type": "code",
   "execution_count": 7,
   "metadata": {},
   "outputs": [
    {
     "name": "stdout",
     "output_type": "stream",
     "text": [
      "Processing file: ./kernels/test_asm/instructions_asm_v1.csv...\n",
      "Processing file: ./kernels/test_asm/instructions_hex_v1.csv...\n",
      "SPM 3: [61, 6, 70, 81, 53, 71, 37, 17, 75, 53, 24, 60, 93, 2, 67, 53, 15, 44, 84, 74, 22, 48, 5, 46, 51, 16, 10, 74, 33, 64, 97, 7, 8, 88, 25, 46, 19, 33, 14, 59, 78, 41, 12, 62, 61, 73, 76, 7, 61, 69, 4, 78, 72, 38, 19, 26, 24, 63, 13, 27, 61, 89, 18, 12, 15, 7, 30, 38, 74, 60, 4, 53, 26, 56, 4, 32, 39, 54, 35, 50, 40, 41, 85, 69, 85, 86, 36, 60, 4, 59, 98, 35, 29, 7, 90, 40, 45, 55, 26, 0, 33, 89, 79, 28, 67, 54, 99, 67, 18, 96, 66, 25, 65, 26, 29, 0, 35, 91, 86, 79, 73, 23, 98, 7, 95, 10, 13, 85, ]\n",
      "PC: 0\n",
      "Col: 0\n",
      "MXCU: SADD R1, ONE, LAST, 0x5699000, VWR_A, not write SRF(0) from 0\n",
      "LSU: BITREV R0, ONE, ONE/LD.VWR VWR_A\n",
      "RC: NOP\n",
      "RC: NOP\n",
      "RC: NOP\n",
      "RC: NOP\n",
      "LCU: SADD R1, ONE, ZERO\n",
      "PC: 1\n",
      "Col: 0\n",
      "MXCU: SADD R1, ONE, LAST, 0x569914f, VWR_A, not write SRF(5) from 0\n",
      "LSU: SADD R0, SRF(5), ONE/SH.IL.UP\n",
      "RC: SADD R0, VWR_A, VWR_B\n",
      "RC: SADD R0, VWR_A, VWR_B\n",
      "RC: SADD R0, VWR_A, VWR_B\n",
      "RC: SADD R0, VWR_A, VWR_B\n",
      "LCU: SSUBI R1, R2, 7\n",
      "PC: 2\n",
      "Col: 0\n",
      "MXCU: NOP, 0xecf, VWR_A, write SRF(3) from 3\n",
      "LSU: SADD SRF(3), SRF(3), ONE/LD.VWR SRF\n",
      "RC: SADD R0, SRF(3), VWR_B\n",
      "RC: SADD R0, SRF(3), VWR_B\n",
      "RC: SADD R0, SRF(3), VWR_B\n",
      "RC: SADD R0, SRF(3), VWR_B\n",
      "LCU: NOP\n",
      "PC: 3\n",
      "Col: 0\n",
      "MXCU: LOR R1, ONE, SRF(5), 0x5469140, VWR_A, not write SRF(5) from 0\n",
      "LSU: SADD R0, SRF(5), ONE/SH.IL.UP\n",
      "RC: LOR R0, RCB, MIN_INT\n",
      "RC: LOR R0, RCB, MIN_INT\n",
      "RC: LOR R0, RCB, MIN_INT\n",
      "RC: LOR R0, RCB, MIN_INT\n",
      "LCU: EXIT\n",
      "PC: 4\n",
      "Col: 0\n",
      "MXCU: LOR R1, ONE, SRF(5), 0x5469140, VWR_A, not write SRF(5) from 0\n",
      "LSU: SADD R0, SRF(5), ONE/SH.IL.UP\n",
      "RC: MUL.FP R0, RCB, MIN_INT\n",
      "RC: MUL.FP R0, RCB, MIN_INT\n",
      "RC: MUL.FP R0, RCB, MIN_INT\n",
      "RC: MUL.FP R0, RCB, MIN_INT\n",
      "LCU: JUMP SRF(5), R0, R1\n",
      "PC: 5\n",
      "Col: 0\n",
      "MXCU: NOP, 0x140, VWR_A, not write SRF(5) from 0\n",
      "LSU: SADD R0, SRF(5), ONE/SH.IL.UP\n",
      "RC: SFGA R1, OWN\n",
      "RC: SFGA R1, OWN\n",
      "RC: SFGA R1, OWN\n",
      "RC: SFGA R1, OWN\n",
      "LCU: JUMPI SRF(5), R3, 7\n",
      "PC: 6\n",
      "Col: 0\n",
      "MXCU: NOP, 0x100, VWR_A, not write SRF(4) from 0\n",
      "LSU: SADD R0, SRF(4), ONE/SH.IL.UP\n",
      "RC: NOP\n",
      "RC: NOP\n",
      "RC: NOP\n",
      "RC: NOP\n",
      "LCU: SLL R3, SRF(4), ZERO\n",
      "PC: 7\n",
      "Col: 0\n",
      "MXCU: NOP, 0x900, VWR_A, write SRF(4) from 0\n",
      "LSU: SADD R0, SRF(4), ONE/SH.IL.UP\n",
      "RC: NOP\n",
      "RC: NOP\n",
      "RC: NOP\n",
      "RC: NOP\n",
      "LCU: LORI SRF(4), SRF(4), 7\n",
      "PC: 8\n",
      "Col: 0\n",
      "MXCU: NOP, 0x140, VWR_A, not write SRF(5) from 0\n",
      "LSU: SADD R0, SRF(5), ONE/SH.IL.UP\n",
      "RC: NOP\n",
      "RC: NOP\n",
      "RC: NOP\n",
      "RC: NOP\n",
      "LCU: BEQ R0, R2, 34\n",
      "PC: 9\n",
      "Col: 0\n",
      "MXCU: NOP, 0x140, VWR_A, not write SRF(5) from 0\n",
      "LSU: SADD R0, SRF(5), ONE/SH.IL.UP\n",
      "RC: NOP\n",
      "RC: NOP\n",
      "RC: NOP\n",
      "RC: NOP\n",
      "LCU: BGEPD R1, ZERO, 5\n",
      "PC: 10\n",
      "Col: 0\n",
      "MXCU: NOP, 0x140, VWR_A, not write SRF(5) from 0\n",
      "LSU: SADD R0, SRF(5), ONE/SH.IL.UP\n",
      "RC: NOP\n",
      "RC: NOP\n",
      "RC: NOP\n",
      "RC: NOP\n",
      "LCU: BEQR 14\n",
      "End...\n"
     ]
    }
   ],
   "source": [
    "# --------------------------------------------\n",
    "#                   SIMULATE\n",
    "# --------------------------------------------\n",
    "from src.simulator import *\n",
    "from random import randint\n",
    "\n",
    "sim = SIMULATOR()\n",
    "\n",
    "# --------------------------------------------\n",
    "#               KERNEL CONFIGURATION\n",
    "# --------------------------------------------\n",
    "kernel_path = './kernels/test_asm/' # Path\n",
    "kernel_number = 1 # Kernel number (from 1 to 15)\n",
    "column_usage = [True, False] # Columns to use\n",
    "nInstrPerCol = 11 # Number of instructions per column\n",
    "imem_add_start = 0 # Start address on imem for this kernel\n",
    "srf_spm_addres = 0 # Line of the SPM with the initial data for the SRF\n",
    "version=\"_v1\"\n",
    "\n",
    "sim.kernel_config(column_usage, nInstrPerCol, imem_add_start, srf_spm_addres, kernel_number)\n",
    "\n",
    "# --------------------------------------------\n",
    "#                LOAD SPM DATA\n",
    "# --------------------------------------------\n",
    "# Load vector by vector in the positions you want\n",
    "random_vector = [randint(0, 100) for _ in range(SPM_NWORDS)]\n",
    "nline = 3\n",
    "sim.setSPMLine(nline, random_vector)\n",
    "# Or, load the entire content of the SPM\n",
    "data = []\n",
    "for nline in range(SPM_NLINES):\n",
    "    random_vector = [randint(0, 100) for _ in range(SPM_NWORDS)]\n",
    "    data.append(random_vector)\n",
    "sim.loadSPMData(data)\n",
    "\n",
    "# --------------------------------------------\n",
    "#              COMPILE ASM TO HEX\n",
    "# --------------------------------------------\n",
    "# If hexadecimal is not provided, here we generate it\n",
    "sim.compileAsmToHex(kernel_path, version=version, nInstrPerCol=nInstrPerCol, colUsage=column_usage, imem_start_addr=imem_add_start)\n",
    "\n",
    "# --------------------------------------------\n",
    "#                 LOAD KERNEL\n",
    "# --------------------------------------------\n",
    "\n",
    "# This needs the hex instructions, if you don't provide them, generate then compiling the asm\n",
    "sim.kernel_load(kernel_path, version=version, kernel_number=kernel_number)\n",
    "\n",
    "# --------------------------------------------\n",
    "#               SIMULATE EXECUTION\n",
    "# --------------------------------------------\n",
    "show_lcu = []\n",
    "show_srf = []\n",
    "show_lsu = []\n",
    "show_rcs = [[],[],[],[]]\n",
    "show_mxcu = []\n",
    "display_ops = [show_lcu, show_lsu, show_mxcu, show_rcs, show_srf]\n",
    "\n",
    "sim.displaySPMLine(3)\n",
    "\n",
    "sim.run(kernel_number, display_ops=display_ops)"
   ]
  },
  {
   "cell_type": "code",
   "execution_count": 8,
   "metadata": {},
   "outputs": [
    {
     "name": "stdout",
     "output_type": "stream",
     "text": [
      "Processing file: ./kernels/exit/instructions_hex.csv...\n"
     ]
    },
    {
     "ename": "TypeError",
     "evalue": "LCU.hexToAsm() takes 2 positional arguments but 3 were given",
     "output_type": "error",
     "traceback": [
      "\u001b[0;31m---------------------------------------------------------------------------\u001b[0m",
      "\u001b[0;31mTypeError\u001b[0m                                 Traceback (most recent call last)",
      "Cell \u001b[0;32mIn[8], line 2\u001b[0m\n\u001b[1;32m      1\u001b[0m kernel_path \u001b[38;5;241m=\u001b[39m \u001b[38;5;124m'\u001b[39m\u001b[38;5;124m./kernels/exit/\u001b[39m\u001b[38;5;124m'\u001b[39m \n\u001b[0;32m----> 2\u001b[0m \u001b[43msim\u001b[49m\u001b[38;5;241;43m.\u001b[39;49m\u001b[43mcompileHexToAsm\u001b[49m\u001b[43m(\u001b[49m\u001b[43mkernel_path\u001b[49m\u001b[43m)\u001b[49m\n",
      "File \u001b[0;32m~/epfl/ESL-CGRA-simulator/src/simulator.py:374\u001b[0m, in \u001b[0;36mSIMULATOR.compileHexToAsm\u001b[0;34m(self, kernel_path, version)\u001b[0m\n\u001b[1;32m    372\u001b[0m MXCU_instr_asm\u001b[38;5;241m.\u001b[39mappend(mxcu_asm)\n\u001b[1;32m    373\u001b[0m \u001b[38;5;66;03m# For LCU\u001b[39;00m\n\u001b[0;32m--> 374\u001b[0m LCU_instr_asm\u001b[38;5;241m.\u001b[39mappend(\u001b[43mlcu\u001b[49m\u001b[38;5;241;43m.\u001b[39;49m\u001b[43mhexToAsm\u001b[49m\u001b[43m(\u001b[49m\u001b[43mLCU_instr_hex\u001b[49m\u001b[43m[\u001b[49m\u001b[43mi\u001b[49m\u001b[43m]\u001b[49m\u001b[43m,\u001b[49m\u001b[43m \u001b[49m\u001b[43msrf_sel\u001b[49m\u001b[43m)\u001b[49m)\n\u001b[1;32m    375\u001b[0m \u001b[38;5;66;03m# For LSU\u001b[39;00m\n\u001b[1;32m    376\u001b[0m LSU_instr_asm\u001b[38;5;241m.\u001b[39mappend(lsu\u001b[38;5;241m.\u001b[39mhexToAsm(LSU_instr_hex[i], srf_sel, alu_srf_write, srf_we))\n",
      "\u001b[0;31mTypeError\u001b[0m: LCU.hexToAsm() takes 2 positional arguments but 3 were given"
     ]
    }
   ],
   "source": [
    "kernel_path = './kernels/exit/' \n",
    "sim.compileHexToAsm(kernel_path)"
   ]
  }
 ],
 "metadata": {
  "kernelspec": {
   "display_name": "base",
   "language": "python",
   "name": "python3"
  },
  "language_info": {
   "codemirror_mode": {
    "name": "ipython",
    "version": 3
   },
   "file_extension": ".py",
   "mimetype": "text/x-python",
   "name": "python",
   "nbconvert_exporter": "python",
   "pygments_lexer": "ipython3",
   "version": "3.11.4"
  }
 },
 "nbformat": 4,
 "nbformat_minor": 2
}
