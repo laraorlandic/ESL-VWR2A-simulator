{
 "cells": [
  {
   "cell_type": "code",
   "execution_count": 3,
   "metadata": {},
   "outputs": [
    {
     "name": "stdout",
     "output_type": "stream",
     "text": [
      "NOP: -1, -1, 0x0\n",
      "EXIT: -1, -1, 0x1c00\n",
      "SADD R1, ZERO, LAST: -1, -1, 0xb8340\n",
      "SADD R1, SRF(3), LAST: 3, -1, 0xb0340\n",
      "SADDI R1, ONE, 7: -1, -1, 0xfc347\n",
      "SSUB SRF(4), SRF(4), SRF(4): 4, 4, 0x90400\n",
      "JUMP ONE, 7: -1, -1, 0xfda07\n",
      "BGEPD ONE, ZERO, 5: -1, -1, 0xdd605\n"
     ]
    }
   ],
   "source": [
    "# --------------------------------------------\n",
    "#                   TEST LCU\n",
    "# --------------------------------------------\n",
    "from src import lcu\n",
    "lcu = lcu.LCU()\n",
    "\n",
    "instr_list = [\"NOP\", \"EXIT\", \"SADD R1, ZERO, LAST\", \"SADD R1, SRF(3), LAST\", \"SADDI R1, ONE, 7\", \"SSUB SRF(4), SRF(4), SRF(4)\", \"JUMP ONE, 7\", \"BGEPD ONE, ZERO, 5\"]\n",
    "\n",
    "for instr in instr_list:\n",
    "    srf_read, srf_str, word = lcu.asmToHex(instr)\n",
    "    print(instr + \": \" + str(srf_read) + \", \" + str(srf_str) + \", \" + word.get_word_in_hex())"
   ]
  },
  {
   "cell_type": "code",
   "execution_count": null,
   "metadata": {},
   "outputs": [
    {
     "name": "stdout",
     "output_type": "stream",
     "text": [
      "SADD R0, ONE, ONE/LD.VWR VWR_A: -1, -1, 0x45538\n",
      "SADD R0, SRF(5), ONE/SH.IL.UP: 5, -1, 0xc4538\n",
      "SADD SRF(5), SRF(5), ONE/LD.VWR SRF: 5, 5, 0x5c530\n"
     ]
    }
   ],
   "source": [
    "# --------------------------------------------\n",
    "#                   TEST LSU\n",
    "# --------------------------------------------\n",
    "from src import lsu\n",
    "lsu = lsu.LSU()\n",
    "\n",
    "instr_list = [\"SADD R0, ONE, ONE/LD.VWR VWR_A\", \"SADD R0, SRF(5), ONE/SH.IL.UP\", \"SADD SRF(5), SRF(5), ONE/LD.VWR SRF\"]\n",
    "\n",
    "for instr in instr_list:\n",
    "    srf_read, srf_str, word = lsu.asmToHex(instr)\n",
    "    print(instr + \": \" + str(srf_read) + \", \" + str(srf_str) + \", \" + word.get_word_in_hex())"
   ]
  },
  {
   "cell_type": "code",
   "execution_count": null,
   "metadata": {},
   "outputs": [
    {
     "name": "stdout",
     "output_type": "stream",
     "text": [
      "NOP: -1, -1, 0x0\n",
      "SADD VWR_A, VWR_A, VWR_B: -1, -1, 0x420\n",
      "SADD VWR_A, SRF(3), VWR_B: 3, -1, 0xc420\n",
      "LOR R0, RCB, MIN_INT: -1, -1, 0x1f522\n",
      "MUL.FP R0, RCB, MIN_INT: -1, -1, 0x1f5a2\n"
     ]
    }
   ],
   "source": [
    "# --------------------------------------------\n",
    "#                   TEST RCs\n",
    "# --------------------------------------------\n",
    "from src import rc\n",
    "rc = rc.RC()\n",
    "\n",
    "instr_list = [\"NOP\", \"SADD VWR_A, VWR_A, VWR_B\", \"SADD VWR_A, SRF(3), VWR_B\", \"LOR R0, RCB, MIN_INT\", \"MUL.FP R0, RCB, MIN_INT\"]\n",
    "# DIV.FP R0, RCB, MIN_INT\") Error: float point div not supported\n",
    "for instr in instr_list:\n",
    "    srf_read, srf_str, vwr_str, word = rc.asmToHex(instr)\n",
    "    print(instr + \": \" + str(srf_read) + \", \" + str(srf_str) + \", \" + word.get_word_in_hex())"
   ]
  },
  {
   "cell_type": "code",
   "execution_count": null,
   "metadata": {},
   "outputs": [
    {
     "name": "stdout",
     "output_type": "stream",
     "text": [
      "NOP: 0x0\n",
      "SADD R1, ONE, LAST: 0x5699000\n",
      "LOR R1, ONE, SRF(3): 0x54690c0\n"
     ]
    }
   ],
   "source": [
    "# --------------------------------------------\n",
    "#                   TEST MXCU\n",
    "# --------------------------------------------\n",
    "from src import mxcu\n",
    "mxcu = mxcu.MXCU()\n",
    "\n",
    "instr_list = [\"NOP\", \"SADD R1, ONE, LAST\", \"LOR R1, ONE, SRF(3)\"]\n",
    "srf_sel = -1\n",
    "srf_we = 0\n",
    "alu_srf_write = 0\n",
    "vwr_row_we = [0,0,0,0]\n",
    "vwr_sel = 0\n",
    "for instr in instr_list:\n",
    "    word = mxcu.asmToHex(instr, srf_sel, srf_we, alu_srf_write, vwr_row_we, vwr_sel)\n",
    "    print(instr + \": \" + word.get_word_in_hex())"
   ]
  },
  {
   "cell_type": "code",
   "execution_count": null,
   "metadata": {},
   "outputs": [
    {
     "name": "stdout",
     "output_type": "stream",
     "text": [
      "Processing file: ./kernels/test_asm/instructions_v1.csv...\n",
      "<src.lcu.LCU_IMEM_WORD object at 0x7f55d0374d10>\n",
      "<src.lcu.LCU_IMEM_WORD object at 0x7f55d0375010>\n",
      "<src.lcu.LCU_IMEM_WORD object at 0x7f55d0375190>\n",
      "0xdc340\n"
     ]
    },
    {
     "ename": "AttributeError",
     "evalue": "'str' object has no attribute 'get_word_in_hex'",
     "output_type": "error",
     "traceback": [
      "\u001b[0;31m---------------------------------------------------------------------------\u001b[0m",
      "\u001b[0;31mAttributeError\u001b[0m                            Traceback (most recent call last)",
      "Cell \u001b[0;32mIn[5], line 7\u001b[0m\n\u001b[1;32m      5\u001b[0m kernel_path\u001b[38;5;241m=\u001b[39m\u001b[38;5;124m'\u001b[39m\u001b[38;5;124m./kernels/test_asm/\u001b[39m\u001b[38;5;124m'\u001b[39m\n\u001b[1;32m      6\u001b[0m sim \u001b[38;5;241m=\u001b[39m simulator\u001b[38;5;241m.\u001b[39mSIMULATOR()\n\u001b[0;32m----> 7\u001b[0m \u001b[43msim\u001b[49m\u001b[38;5;241;43m.\u001b[39;49m\u001b[43mcompileAsm\u001b[49m\u001b[43m(\u001b[49m\u001b[43mkernel_path\u001b[49m\u001b[43m,\u001b[49m\u001b[43m \u001b[49m\u001b[43mversion\u001b[49m\u001b[38;5;241;43m=\u001b[39;49m\u001b[38;5;124;43m\"\u001b[39;49m\u001b[38;5;124;43m_v1\u001b[39;49m\u001b[38;5;124;43m\"\u001b[39;49m\u001b[43m,\u001b[49m\u001b[43m \u001b[49m\u001b[43mnInstrPerCol\u001b[49m\u001b[38;5;241;43m=\u001b[39;49m\u001b[38;5;241;43m11\u001b[39;49m\u001b[43m,\u001b[49m\u001b[43m \u001b[49m\u001b[43mcolUsage\u001b[49m\u001b[38;5;241;43m=\u001b[39;49m\u001b[43m[\u001b[49m\u001b[38;5;28;43;01mTrue\u001b[39;49;00m\u001b[43m,\u001b[49m\u001b[43m \u001b[49m\u001b[38;5;28;43;01mFalse\u001b[39;49;00m\u001b[43m]\u001b[49m\u001b[43m,\u001b[49m\u001b[43m \u001b[49m\u001b[43mimem_start_addr\u001b[49m\u001b[38;5;241;43m=\u001b[39;49m\u001b[38;5;241;43m3\u001b[39;49m\u001b[43m)\u001b[49m\n",
      "File \u001b[0;32m~/epfl/ESL-CGRA-simulator/src/simulator.py:273\u001b[0m, in \u001b[0;36mSIMULATOR.compileAsm\u001b[0;34m(self, kernel_path, version, nInstrPerCol, colUsage, imem_start_addr)\u001b[0m\n\u001b[1;32m    271\u001b[0m \u001b[38;5;66;03m# Write instructions to bitstream\u001b[39;00m\n\u001b[1;32m    272\u001b[0m \u001b[38;5;28mself\u001b[39m\u001b[38;5;241m.\u001b[39mcreate_header_file(kernel_path)\n\u001b[0;32m--> 273\u001b[0m \u001b[38;5;28;43mself\u001b[39;49m\u001b[38;5;241;43m.\u001b[39;49m\u001b[43mcreate_hex_csv_file\u001b[49m\u001b[43m(\u001b[49m\u001b[43mkernel_path\u001b[49m\u001b[43m,\u001b[49m\u001b[43m \u001b[49m\u001b[43mversion\u001b[49m\u001b[43m)\u001b[49m\n",
      "File \u001b[0;32m~/epfl/ESL-CGRA-simulator/src/simulator.py:289\u001b[0m, in \u001b[0;36mSIMULATOR.create_hex_csv_file\u001b[0;34m(self, kernel_path, version)\u001b[0m\n\u001b[1;32m    287\u001b[0m \u001b[38;5;28;01mfor\u001b[39;00m i \u001b[38;5;129;01min\u001b[39;00m \u001b[38;5;28mrange\u001b[39m(IMEM_N_LINES):\n\u001b[1;32m    288\u001b[0m     \u001b[38;5;28mprint\u001b[39m(\u001b[38;5;28mself\u001b[39m\u001b[38;5;241m.\u001b[39mvwr2a\u001b[38;5;241m.\u001b[39mimem\u001b[38;5;241m.\u001b[39mlcu_imem[i])\n\u001b[0;32m--> 289\u001b[0m     elems_to_write \u001b[38;5;241m=\u001b[39m [\u001b[38;5;28;43mself\u001b[39;49m\u001b[38;5;241;43m.\u001b[39;49m\u001b[43mvwr2a\u001b[49m\u001b[38;5;241;43m.\u001b[39;49m\u001b[43mimem\u001b[49m\u001b[38;5;241;43m.\u001b[39;49m\u001b[43mlcu_imem\u001b[49m\u001b[43m[\u001b[49m\u001b[43mi\u001b[49m\u001b[43m]\u001b[49m\u001b[38;5;241;43m.\u001b[39;49m\u001b[43mget_word_in_hex\u001b[49m(), \u001b[38;5;28mself\u001b[39m\u001b[38;5;241m.\u001b[39mvwr2a\u001b[38;5;241m.\u001b[39mimem\u001b[38;5;241m.\u001b[39mlsu_imem[i]\u001b[38;5;241m.\u001b[39mget_word_in_hex(), \u001b[38;5;28mself\u001b[39m\u001b[38;5;241m.\u001b[39mvwr2a\u001b[38;5;241m.\u001b[39mimem\u001b[38;5;241m.\u001b[39mmxcu_imem[i]\u001b[38;5;241m.\u001b[39mget_word_in_hex()]\n\u001b[1;32m    290\u001b[0m     \u001b[38;5;28;01mfor\u001b[39;00m rc \u001b[38;5;129;01min\u001b[39;00m \u001b[38;5;28mrange\u001b[39m(CGRA_ROWS):\n\u001b[1;32m    291\u001b[0m         elems_to_write\u001b[38;5;241m.\u001b[39mappend(\u001b[38;5;28mself\u001b[39m\u001b[38;5;241m.\u001b[39mvwr2a\u001b[38;5;241m.\u001b[39mimem\u001b[38;5;241m.\u001b[39mrcs_imem[rc][i]\u001b[38;5;241m.\u001b[39mget_word_in_hex())\n",
      "\u001b[0;31mAttributeError\u001b[0m: 'str' object has no attribute 'get_word_in_hex'"
     ]
    }
   ],
   "source": [
    "# --------------------------------------------\n",
    "#                   COMPILE\n",
    "# --------------------------------------------\n",
    "from src import simulator\n",
    "kernel_path='./kernels/test_asm/'\n",
    "sim = simulator.SIMULATOR()\n",
    "sim.compileAsm(kernel_path, version=\"_v1\", nInstrPerCol=11, colUsage=[True, False], imem_start_addr=3)"
   ]
  },
  {
   "cell_type": "code",
   "execution_count": null,
   "metadata": {},
   "outputs": [
    {
     "name": "stdout",
     "output_type": "stream",
     "text": [
      "Processing file: ./kernels/test_asm/instructions_v2.csv...\n"
     ]
    }
   ],
   "source": [
    "from src import simulator\n",
    "kernel_path='./kernels/test_asm/'\n",
    "sim = simulator.SIMULATOR()\n",
    "# Using two cols\n",
    "sim.compileAsm(kernel_path, version=\"_v2\", nInstrPerCol=5, colUsage=[True, True], imem_start_addr=3)"
   ]
  },
  {
   "cell_type": "code",
   "execution_count": null,
   "metadata": {},
   "outputs": [
    {
     "name": "stdout",
     "output_type": "stream",
     "text": [
      "Processing file: ./kernels/test_asm/instructions_v1.csv...\n",
      "Processing file: ./kernels/test_asm/instructions_hex_v1.csv...\n",
      "SPM 3: [89, 68, 89, 88, 87, 40, 74, 64, 15, 46, 74, 87, 7, 53, 62, 86, 9, 2, 88, 52, 15, 99, 66, 61, 59, 36, 63, 65, 11, 71, 45, 92, 27, 36, 81, 54, 66, 45, 2, 82, 72, 18, 21, 97, 89, 20, 33, 69, 12, 64, 9, 85, 3, 11, 9, 97, 41, 54, 8, 35, 0, 92, 21, 20, 22, 80, 47, 20, 98, 60, 43, 20, 23, 59, 14, 51, 66, 68, 59, 30, 35, 47, 77, 1, 19, 15, 9, 85, 63, 39, 1, 5, 70, 29, 71, 95, 3, 60, 6, 73, 59, 40, 10, 34, 7, 12, 55, 65, 73, 77, 11, 28, 65, 87, 33, 75, 93, 44, 38, 98, 2, 52, 38, 89, 69, 16, 14, 21, ]\n",
      "<src.lcu.LCU_IMEM_WORD object at 0x7f395ad44490>\n",
      "<src.lcu.LCU_IMEM_WORD object at 0x7f397c10cb10>\n",
      "<src.lcu.LCU_IMEM_WORD object at 0x7f395b097850>\n",
      "<src.lcu.LCU_IMEM_WORD object at 0x7f395ad3c850>\n",
      "<src.lcu.LCU_IMEM_WORD object at 0x7f395acd2cd0>\n",
      "<src.lcu.LCU_IMEM_WORD object at 0x7f395acd5e50>\n",
      "<src.lcu.LCU_IMEM_WORD object at 0x7f395ad06e10>\n",
      "<src.lcu.LCU_IMEM_WORD object at 0x7f398eaedc10>\n",
      "<src.lcu.LCU_IMEM_WORD object at 0x7f395acf3310>\n",
      "<src.lcu.LCU_IMEM_WORD object at 0x7f395ad06e90>\n",
      "0x320e\n"
     ]
    },
    {
     "ename": "AttributeError",
     "evalue": "'str' object has no attribute 'get_word'",
     "output_type": "error",
     "traceback": [
      "\u001b[0;31m---------------------------------------------------------------------------\u001b[0m",
      "\u001b[0;31mAttributeError\u001b[0m                            Traceback (most recent call last)",
      "Cell \u001b[0;32mIn[7], line 61\u001b[0m\n\u001b[1;32m     57\u001b[0m display_ops \u001b[38;5;241m=\u001b[39m [show_lcu, show_lsu, show_mxcu, show_rcs, show_srf]\n\u001b[1;32m     59\u001b[0m sim\u001b[38;5;241m.\u001b[39mdisplaySPMLine(\u001b[38;5;241m3\u001b[39m)\n\u001b[0;32m---> 61\u001b[0m \u001b[43msim\u001b[49m\u001b[38;5;241;43m.\u001b[39;49m\u001b[43mrun\u001b[49m\u001b[43m(\u001b[49m\u001b[43mkernel_number\u001b[49m\u001b[43m,\u001b[49m\u001b[43m \u001b[49m\u001b[43mdisplay_ops\u001b[49m\u001b[38;5;241;43m=\u001b[39;49m\u001b[43mdisplay_ops\u001b[49m\u001b[43m)\u001b[49m\n",
      "File \u001b[0;32m~/epfl/ESL-CGRA-simulator/src/simulator.py:110\u001b[0m, in \u001b[0;36mSIMULATOR.run\u001b[0;34m(self, kernel_number, display_ops)\u001b[0m\n\u001b[1;32m    108\u001b[0m \u001b[38;5;28;01mfor\u001b[39;00m j \u001b[38;5;129;01min\u001b[39;00m \u001b[38;5;28mrange\u001b[39m(n_instr_per_col):\n\u001b[1;32m    109\u001b[0m     \u001b[38;5;28mprint\u001b[39m(\u001b[38;5;28mself\u001b[39m\u001b[38;5;241m.\u001b[39mvwr2a\u001b[38;5;241m.\u001b[39mimem\u001b[38;5;241m.\u001b[39mlcu_imem[addr])\n\u001b[0;32m--> 110\u001b[0m     \u001b[38;5;28mself\u001b[39m\u001b[38;5;241m.\u001b[39mvwr2a\u001b[38;5;241m.\u001b[39mlcus[col]\u001b[38;5;241m.\u001b[39mimem\u001b[38;5;241m.\u001b[39mset_word(\u001b[38;5;28mint\u001b[39m(\u001b[38;5;28;43mself\u001b[39;49m\u001b[38;5;241;43m.\u001b[39;49m\u001b[43mvwr2a\u001b[49m\u001b[38;5;241;43m.\u001b[39;49m\u001b[43mimem\u001b[49m\u001b[38;5;241;43m.\u001b[39;49m\u001b[43mlcu_imem\u001b[49m\u001b[43m[\u001b[49m\u001b[43maddr\u001b[49m\u001b[43m]\u001b[49m\u001b[38;5;241;43m.\u001b[39;49m\u001b[43mget_word\u001b[49m(),\u001b[38;5;241m2\u001b[39m), pos)\n\u001b[1;32m    111\u001b[0m     \u001b[38;5;28mself\u001b[39m\u001b[38;5;241m.\u001b[39mvwr2a\u001b[38;5;241m.\u001b[39mlsus[col]\u001b[38;5;241m.\u001b[39mimem\u001b[38;5;241m.\u001b[39mset_word(\u001b[38;5;28mint\u001b[39m(\u001b[38;5;28mself\u001b[39m\u001b[38;5;241m.\u001b[39mvwr2a\u001b[38;5;241m.\u001b[39mimem\u001b[38;5;241m.\u001b[39mlsu_imem[addr]\u001b[38;5;241m.\u001b[39mget_word(),\u001b[38;5;241m2\u001b[39m), pos)\n\u001b[1;32m    112\u001b[0m     \u001b[38;5;28mself\u001b[39m\u001b[38;5;241m.\u001b[39mvwr2a\u001b[38;5;241m.\u001b[39mmxcus[col]\u001b[38;5;241m.\u001b[39mimem\u001b[38;5;241m.\u001b[39mset_word(\u001b[38;5;28mint\u001b[39m(\u001b[38;5;28mself\u001b[39m\u001b[38;5;241m.\u001b[39mvwr2a\u001b[38;5;241m.\u001b[39mimem\u001b[38;5;241m.\u001b[39mmxcu_imem[addr]\u001b[38;5;241m.\u001b[39mget_word(),\u001b[38;5;241m2\u001b[39m), pos)\n",
      "\u001b[0;31mAttributeError\u001b[0m: 'str' object has no attribute 'get_word'"
     ]
    }
   ],
   "source": [
    "# --------------------------------------------\n",
    "#                   SIMULATE\n",
    "# --------------------------------------------\n",
    "from src.simulator import *\n",
    "from random import randint\n",
    "\n",
    "sim = SIMULATOR()\n",
    "\n",
    "# --------------------------------------------\n",
    "#               KERNEL CONFIGURATION\n",
    "# --------------------------------------------\n",
    "kernel_path = './kernels/test_asm/' # Path\n",
    "kernel_number = 1 # Kernel number (from 1 to 15)\n",
    "column_usage = [True, False] # Columns to use\n",
    "nInstrPerCol = 11 # Number of instructions per column\n",
    "imem_add_start = 0 # Start address on imem for this kernel\n",
    "srf_spm_addres = 0 # Line of the SPM with the initial data for the SRF\n",
    "version=\"_v1\"\n",
    "\n",
    "sim.kernel_config(column_usage, nInstrPerCol, imem_add_start, srf_spm_addres, kernel_number)\n",
    "\n",
    "# --------------------------------------------\n",
    "#                LOAD SPM DATA\n",
    "# --------------------------------------------\n",
    "# Load vector by vector in the positions you want\n",
    "random_vector = [randint(0, 100) for _ in range(SPM_NWORDS)]\n",
    "nline = 3\n",
    "sim.setSPMLine(nline, random_vector)\n",
    "# Or, load the entire content of the SPM\n",
    "data = []\n",
    "for nline in range(SPM_NLINES):\n",
    "    random_vector = [randint(0, 100) for _ in range(SPM_NWORDS)]\n",
    "    data.append(random_vector)\n",
    "sim.loadSPMData(data)\n",
    "\n",
    "# --------------------------------------------\n",
    "#              COMPILE ASM TO HEX\n",
    "# --------------------------------------------\n",
    "# If hexadecimal is not provided, here we generate it\n",
    "sim.compileAsm(kernel_path, version=version, nInstrPerCol=nInstrPerCol, colUsage=column_usage, imem_start_addr=imem_add_start)\n",
    "\n",
    "# --------------------------------------------\n",
    "#                 LOAD KERNEL\n",
    "# --------------------------------------------\n",
    "\n",
    "# This needs the hex instructions, if you don't provide them, generate then compiling the asm\n",
    "sim.kernel_load(kernel_path, version=version, kernel_number=kernel_number)\n",
    "\n",
    "# --------------------------------------------\n",
    "#               SIMULATE EXECUTION\n",
    "# --------------------------------------------\n",
    "show_lcu = []\n",
    "show_srf = []\n",
    "show_lsu = []\n",
    "show_rcs = [[],[],[],[]]\n",
    "show_mxcu = []\n",
    "display_ops = [show_lcu, show_lsu, show_mxcu, show_rcs, show_srf]\n",
    "\n",
    "sim.displaySPMLine(3)\n",
    "\n",
    "sim.run(kernel_number, display_ops=display_ops)"
   ]
  }
 ],
 "metadata": {
  "kernelspec": {
   "display_name": "base",
   "language": "python",
   "name": "python3"
  },
  "language_info": {
   "codemirror_mode": {
    "name": "ipython",
    "version": 3
   },
   "file_extension": ".py",
   "mimetype": "text/x-python",
   "name": "python",
   "nbconvert_exporter": "python",
   "pygments_lexer": "ipython3",
   "version": "3.11.4"
  }
 },
 "nbformat": 4,
 "nbformat_minor": 2
}
