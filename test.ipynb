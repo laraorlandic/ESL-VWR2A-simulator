{
 "cells": [
  {
   "cell_type": "code",
   "execution_count": 8,
   "metadata": {},
   "outputs": [],
   "source": [
    "from src import lcu\n",
    "\n",
    "lcu = lcu.LCU()"
   ]
  },
  {
   "cell_type": "code",
   "execution_count": 9,
   "metadata": {},
   "outputs": [
    {
     "name": "stdout",
     "output_type": "stream",
     "text": [
      "-1, -1\n"
     ]
    }
   ],
   "source": [
    "srf_read, srf_str = lcu.asmToHex(\"NOP\")\n",
    "print(str(srf_read) + \", \" + str(srf_str))"
   ]
  },
  {
   "cell_type": "code",
   "execution_count": 10,
   "metadata": {},
   "outputs": [
    {
     "name": "stdout",
     "output_type": "stream",
     "text": [
      "-1, -1\n"
     ]
    }
   ],
   "source": [
    "srf_read, srf_str = lcu.asmToHex(\"EXIT\")\n",
    "print(str(srf_read) + \", \" + str(srf_str))"
   ]
  },
  {
   "cell_type": "code",
   "execution_count": 11,
   "metadata": {},
   "outputs": [
    {
     "name": "stdout",
     "output_type": "stream",
     "text": [
      "-1, -1\n"
     ]
    }
   ],
   "source": [
    "srf_read, srf_str = lcu.asmToHex(\"SADD R1, ZERO, LAST\")\n",
    "print(str(srf_read) + \", \" + str(srf_str))"
   ]
  },
  {
   "cell_type": "code",
   "execution_count": 12,
   "metadata": {},
   "outputs": [
    {
     "name": "stdout",
     "output_type": "stream",
     "text": [
      "3, -1\n"
     ]
    }
   ],
   "source": [
    "srf_read, srf_str = lcu.asmToHex(\"SADD R1, SRF(3), LAST\")\n",
    "print(str(srf_read) + \", \" + str(srf_str))"
   ]
  },
  {
   "cell_type": "code",
   "execution_count": 13,
   "metadata": {},
   "outputs": [],
   "source": [
    "#srf_read, srf_str = lcu.asmToHex(\"SADD R1, SRF(3), ONE\") # Error"
   ]
  },
  {
   "cell_type": "code",
   "execution_count": 14,
   "metadata": {},
   "outputs": [
    {
     "name": "stdout",
     "output_type": "stream",
     "text": [
      "-1, -1\n"
     ]
    }
   ],
   "source": [
    "srf_read, srf_str = lcu.asmToHex(\"SADDI R1, ONE, 7\")\n",
    "print(str(srf_read) + \", \" + str(srf_str))"
   ]
  },
  {
   "cell_type": "code",
   "execution_count": 15,
   "metadata": {},
   "outputs": [
    {
     "name": "stdout",
     "output_type": "stream",
     "text": [
      "4, 4\n"
     ]
    }
   ],
   "source": [
    "srf_read, srf_str = lcu.asmToHex(\"SSUB SRF(4), SRF(4), SRF(4)\")\n",
    "print(str(srf_read) + \", \" + str(srf_str))"
   ]
  },
  {
   "cell_type": "code",
   "execution_count": 16,
   "metadata": {},
   "outputs": [],
   "source": [
    "#srf_read, srf_str = lcu.asmToHex(\"SSUB SRF(4), SRF(4), SRF(3)\") # Error"
   ]
  },
  {
   "cell_type": "code",
   "execution_count": 17,
   "metadata": {},
   "outputs": [
    {
     "name": "stdout",
     "output_type": "stream",
     "text": [
      "-1, -1\n"
     ]
    }
   ],
   "source": [
    "srf_read, srf_str = lcu.asmToHex(\"JUMP ONE, 7\")\n",
    "print(str(srf_read) + \", \" + str(srf_str))"
   ]
  },
  {
   "cell_type": "code",
   "execution_count": 18,
   "metadata": {},
   "outputs": [
    {
     "name": "stdout",
     "output_type": "stream",
     "text": [
      "-1, -1\n"
     ]
    }
   ],
   "source": [
    "srf_read, srf_str = lcu.asmToHex(\"BGEPD ONE, ZERO, 5\")\n",
    "print(str(srf_read) + \", \" + str(srf_str))"
   ]
  },
  {
   "cell_type": "code",
   "execution_count": 19,
   "metadata": {},
   "outputs": [
    {
     "name": "stdout",
     "output_type": "stream",
     "text": [
      "0x0\n",
      "0x1c00\n",
      "0xb8340\n",
      "0xb0340\n",
      "0xfc347\n",
      "0x90400\n",
      "0xfda07\n",
      "0xdd605\n",
      "0x0\n",
      "0x0\n",
      "0x0\n",
      "0x0\n",
      "0x0\n",
      "0x0\n",
      "0x0\n",
      "0x0\n",
      "0x0\n",
      "0x0\n",
      "0x0\n",
      "0x0\n",
      "0x0\n",
      "0x0\n",
      "0x0\n",
      "0x0\n",
      "0x0\n",
      "0x0\n",
      "0x0\n",
      "0x0\n",
      "0x0\n",
      "0x0\n",
      "0x0\n",
      "0x0\n",
      "0x0\n",
      "0x0\n",
      "0x0\n",
      "0x0\n",
      "0x0\n",
      "0x0\n",
      "0x0\n",
      "0x0\n",
      "0x0\n",
      "0x0\n",
      "0x0\n",
      "0x0\n",
      "0x0\n",
      "0x0\n",
      "0x0\n",
      "0x0\n",
      "0x0\n",
      "0x0\n",
      "0x0\n",
      "0x0\n",
      "0x0\n",
      "0x0\n",
      "0x0\n",
      "0x0\n",
      "0x0\n",
      "0x0\n",
      "0x0\n",
      "0x0\n",
      "0x0\n",
      "0x0\n",
      "0x0\n",
      "0x0\n"
     ]
    }
   ],
   "source": [
    "for i in range(len(lcu.imem.IMEM)):\n",
    "    print(lcu.imem.get_word_in_hex(i))"
   ]
  }
 ],
 "metadata": {
  "kernelspec": {
   "display_name": "base",
   "language": "python",
   "name": "python3"
  },
  "language_info": {
   "codemirror_mode": {
    "name": "ipython",
    "version": 3
   },
   "file_extension": ".py",
   "mimetype": "text/x-python",
   "name": "python",
   "nbconvert_exporter": "python",
   "pygments_lexer": "ipython3",
   "version": "3.11.4"
  }
 },
 "nbformat": 4,
 "nbformat_minor": 2
}
