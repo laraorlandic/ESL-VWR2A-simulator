{
 "cells": [
  {
   "cell_type": "code",
   "execution_count": 1,
   "metadata": {},
   "outputs": [
    {
     "name": "stdout",
     "output_type": "stream",
     "text": [
      "NOP: -1, -1, 0x0\n",
      "EXIT: -1, -1, 0x1c00\n",
      "SADD R1, ZERO, LAST: -1, -1, 0xb8340\n",
      "SADD R1, SRF(3), LAST: 3, -1, 0xb0340\n",
      "SADDI R1, ONE, 7: -1, -1, 0xfc347\n",
      "SSUB SRF(4), SRF(4), SRF(4): 4, 4, 0x90400\n",
      "JUMP ONE, 7: -1, -1, 0xfda07\n",
      "BGEPD ONE, ZERO, 5: -1, -1, 0xdd605\n"
     ]
    }
   ],
   "source": [
    "# --------------------------------------------\n",
    "#                   TEST LCU\n",
    "# --------------------------------------------\n",
    "from src import lcu\n",
    "lcu = lcu.LCU()\n",
    "\n",
    "instr_list = [\"NOP\", \"EXIT\", \"SADD R1, ZERO, LAST\", \"SADD R1, SRF(3), LAST\", \"SADDI R1, ONE, 7\", \"SSUB SRF(4), SRF(4), SRF(4)\", \"JUMP ONE, 7\", \"BGEPD ONE, ZERO, 5\"]\n",
    "\n",
    "for instr in instr_list:\n",
    "    srf_read, srf_str, word = lcu.asmToHex(instr)\n",
    "    print(instr + \": \" + str(srf_read) + \", \" + str(srf_str) + \", \" + word.get_word_in_hex())"
   ]
  },
  {
   "cell_type": "code",
   "execution_count": 2,
   "metadata": {},
   "outputs": [
    {
     "name": "stdout",
     "output_type": "stream",
     "text": [
      "SADD R0, ONE, ONE/LD.VWR VWR_A: -1, -1, 0x45538\n",
      "SADD R0, SRF(5), ONE/SH.IL.UP: 5, -1, 0xc4538\n",
      "SADD SRF(5), SRF(5), ONE/LD.VWR SRF: 5, 5, 0x5c530\n"
     ]
    }
   ],
   "source": [
    "# --------------------------------------------\n",
    "#                   TEST LSU\n",
    "# --------------------------------------------\n",
    "from src import lsu\n",
    "lsu = lsu.LSU()\n",
    "\n",
    "instr_list = [\"SADD R0, ONE, ONE/LD.VWR VWR_A\", \"SADD R0, SRF(5), ONE/SH.IL.UP\", \"SADD SRF(5), SRF(5), ONE/LD.VWR SRF\"]\n",
    "\n",
    "for instr in instr_list:\n",
    "    srf_read, srf_str, word = lsu.asmToHex(instr)\n",
    "    print(instr + \": \" + str(srf_read) + \", \" + str(srf_str) + \", \" + word.get_word_in_hex())"
   ]
  },
  {
   "cell_type": "code",
   "execution_count": 3,
   "metadata": {},
   "outputs": [
    {
     "name": "stdout",
     "output_type": "stream",
     "text": [
      "NOP: -1, -1, 0x0\n",
      "SADD VWR_A, VWR_A, VWR_B: -1, -1, 0x420\n",
      "SADD VWR_A, SRF(3), VWR_B: 3, -1, 0xc420\n",
      "LOR R0, RCB, MIN_INT: -1, -1, 0x1f522\n",
      "MUL.FP R0, RCB, MIN_INT: -1, -1, 0x1f5a2\n"
     ]
    }
   ],
   "source": [
    "# --------------------------------------------\n",
    "#                   TEST RCs\n",
    "# --------------------------------------------\n",
    "from src import rc\n",
    "rc = rc.RC()\n",
    "\n",
    "instr_list = [\"NOP\", \"SADD VWR_A, VWR_A, VWR_B\", \"SADD VWR_A, SRF(3), VWR_B\", \"LOR R0, RCB, MIN_INT\", \"MUL.FP R0, RCB, MIN_INT\"]\n",
    "# DIV.FP R0, RCB, MIN_INT\") Error: float point div not supported\n",
    "for instr in instr_list:\n",
    "    srf_read, srf_str, vwr_str, word = rc.asmToHex(instr)\n",
    "    print(instr + \": \" + str(srf_read) + \", \" + str(srf_str) + \", \" + word.get_word_in_hex())"
   ]
  },
  {
   "cell_type": "code",
   "execution_count": 4,
   "metadata": {},
   "outputs": [
    {
     "name": "stdout",
     "output_type": "stream",
     "text": [
      "NOP: 0x0\n",
      "SADD R1, ONE, LAST: 0x5699000\n",
      "LOR R1, ONE, SRF(3): 0x54690c0\n"
     ]
    }
   ],
   "source": [
    "# --------------------------------------------\n",
    "#                   TEST MXCU\n",
    "# --------------------------------------------\n",
    "from src import mxcu\n",
    "mxcu = mxcu.MXCU()\n",
    "\n",
    "instr_list = [\"NOP\", \"SADD R1, ONE, LAST\", \"LOR R1, ONE, SRF(3)\"]\n",
    "srf_sel = -1\n",
    "srf_we = 0\n",
    "alu_srf_write = 0\n",
    "vwr_row_we = [0,0,0,0]\n",
    "vwr_sel = 0\n",
    "for instr in instr_list:\n",
    "    word = mxcu.asmToHex(instr, srf_sel, srf_we, alu_srf_write, vwr_row_we, vwr_sel)\n",
    "    print(instr + \": \" + word.get_word_in_hex())"
   ]
  },
  {
   "cell_type": "code",
   "execution_count": 5,
   "metadata": {},
   "outputs": [
    {
     "name": "stdout",
     "output_type": "stream",
     "text": [
      "Processing file: ./kernels/test_asm/instructions_asm_v1.csv...\n"
     ]
    }
   ],
   "source": [
    "# --------------------------------------------\n",
    "#                   COMPILE\n",
    "# --------------------------------------------\n",
    "from src import simulator\n",
    "kernel_path='./kernels/test_asm/'\n",
    "sim = simulator.SIMULATOR()\n",
    "sim.compileAsm(kernel_path, version=\"_v1\", nInstrPerCol=11, colUsage=[True, False], imem_start_addr=3)"
   ]
  },
  {
   "cell_type": "code",
   "execution_count": 6,
   "metadata": {},
   "outputs": [
    {
     "name": "stdout",
     "output_type": "stream",
     "text": [
      "Processing file: ./kernels/test_asm/instructions_asm_v2.csv...\n"
     ]
    }
   ],
   "source": [
    "from src import simulator\n",
    "kernel_path='./kernels/test_asm/'\n",
    "sim = simulator.SIMULATOR()\n",
    "# Using two cols\n",
    "sim.compileAsm(kernel_path, version=\"_v2\", nInstrPerCol=5, colUsage=[True, True], imem_start_addr=3)"
   ]
  },
  {
   "cell_type": "code",
   "execution_count": 7,
   "metadata": {},
   "outputs": [
    {
     "name": "stdout",
     "output_type": "stream",
     "text": [
      "Processing file: ./kernels/test_asm/instructions_asm_v1.csv...\n",
      "Processing file: ./kernels/test_asm/instructions_hex_v1.csv...\n",
      "SPM 3: [12, 12, 22, 92, 19, 84, 81, 54, 63, 96, 84, 37, 42, 76, 41, 96, 15, 59, 96, 74, 94, 65, 30, 57, 42, 66, 28, 12, 61, 51, 44, 22, 40, 2, 71, 45, 59, 57, 84, 32, 64, 8, 4, 22, 90, 55, 6, 14, 86, 73, 48, 49, 66, 89, 63, 61, 38, 69, 96, 2, 65, 27, 68, 18, 79, 54, 11, 13, 3, 91, 23, 16, 99, 26, 59, 28, 97, 33, 89, 8, 96, 28, 75, 71, 8, 47, 71, 50, 2, 50, 23, 57, 4, 83, 10, 53, 15, 95, 61, 15, 63, 69, 50, 71, 13, 32, 40, 97, 82, 42, 71, 50, 52, 90, 1, 70, 78, 29, 54, 37, 82, 82, 43, 64, 4, 33, 22, 4, ]\n",
      "PC: 0\n",
      "Col: 0\n",
      "LSU: SADD R0, ONE, ONE/LD.VWR VWR_A\n",
      "MXCU: 0x5699000\n",
      "RC: 0x0\n",
      "RC: 0x0\n",
      "RC: 0x0\n",
      "RC: 0x0\n",
      "LCU: SADD ONE, ZERO\n",
      "PC: 1\n",
      "Col: 0\n",
      "LSU: SADD R0, SRF(?), ONE/SH.IL.UP\n",
      "MXCU: 0x569914f\n",
      "RC: 0x420\n",
      "RC: 0x420\n",
      "RC: 0x420\n",
      "RC: 0x420\n",
      "LCU: SSUBI R2, 7\n",
      "PC: 2\n",
      "Col: 0\n",
      "LSU: SADD SRF(?), SRF(?), ONE/LD.VWR SRF\n",
      "MXCU: 0xecf\n",
      "RC: 0xc420\n",
      "RC: 0xc420\n",
      "RC: 0xc420\n",
      "RC: 0xc420\n",
      "LCU: NOP\n",
      "PC: 3\n",
      "Col: 0\n",
      "LSU: SADD R0, SRF(?), ONE/SH.IL.UP\n",
      "MXCU: 0x5469140\n",
      "RC: 0x1f522\n",
      "RC: 0x1f522\n",
      "RC: 0x1f522\n",
      "RC: 0x1f522\n",
      "LCU: EXIT\n",
      "PC: 4\n",
      "Col: 0\n",
      "LSU: SADD R0, SRF(?), ONE/SH.IL.UP\n",
      "MXCU: 0x5469140\n",
      "RC: 0x1f5a2\n",
      "RC: 0x1f5a2\n",
      "RC: 0x1f5a2\n",
      "RC: 0x1f5a2\n",
      "LCU: JUMP R0, R1\n",
      "PC: 5\n",
      "Col: 0\n",
      "LSU: SADD R0, SRF(?), ONE/SH.IL.UP\n",
      "MXCU: 0x140\n",
      "RC: 0x163\n",
      "RC: 0x163\n",
      "RC: 0x163\n",
      "RC: 0x163\n",
      "LCU: JUMPI R3, 7\n",
      "PC: 6\n",
      "Col: 0\n",
      "LSU: SADD R0, SRF(?), ONE/SH.IL.UP\n",
      "MXCU: 0x100\n",
      "RC: 0x0\n",
      "RC: 0x0\n",
      "RC: 0x0\n",
      "RC: 0x0\n",
      "LCU: SLL SRF(?), ZERO\n",
      "PC: 7\n",
      "Col: 0\n",
      "LSU: SADD R0, SRF(?), ONE/SH.IL.UP\n",
      "MXCU: 0x900\n",
      "RC: 0x0\n",
      "RC: 0x0\n",
      "RC: 0x0\n",
      "RC: 0x0\n",
      "LCU: LORI SRF(?), 7\n",
      "PC: 8\n",
      "Col: 0\n",
      "LSU: SADD R0, SRF(?), ONE/SH.IL.UP\n",
      "MXCU: 0x140\n",
      "RC: 0x0\n",
      "RC: 0x0\n",
      "RC: 0x0\n",
      "RC: 0x0\n",
      "LCU: BEQ R0, R2, 34\n",
      "PC: 9\n",
      "Col: 0\n",
      "LSU: SADD R0, SRF(?), ONE/SH.IL.UP\n",
      "MXCU: 0x140\n",
      "RC: 0x0\n",
      "RC: 0x0\n",
      "RC: 0x0\n",
      "RC: 0x0\n",
      "LCU: BGEPD R1, ZERO, 5\n",
      "PC: 10\n",
      "Col: 0\n",
      "LSU: SADD R0, SRF(?), ONE/SH.IL.UP\n",
      "MXCU: 0x140\n",
      "RC: 0x0\n",
      "RC: 0x0\n",
      "RC: 0x0\n",
      "RC: 0x0\n",
      "LCU: BEQR 14\n",
      "End...\n"
     ]
    }
   ],
   "source": [
    "# --------------------------------------------\n",
    "#                   SIMULATE\n",
    "# --------------------------------------------\n",
    "from src.simulator import *\n",
    "from random import randint\n",
    "\n",
    "sim = SIMULATOR()\n",
    "\n",
    "# --------------------------------------------\n",
    "#               KERNEL CONFIGURATION\n",
    "# --------------------------------------------\n",
    "kernel_path = './kernels/test_asm/' # Path\n",
    "kernel_number = 1 # Kernel number (from 1 to 15)\n",
    "column_usage = [True, False] # Columns to use\n",
    "nInstrPerCol = 11 # Number of instructions per column\n",
    "imem_add_start = 0 # Start address on imem for this kernel\n",
    "srf_spm_addres = 0 # Line of the SPM with the initial data for the SRF\n",
    "version=\"_v1\"\n",
    "\n",
    "sim.kernel_config(column_usage, nInstrPerCol, imem_add_start, srf_spm_addres, kernel_number)\n",
    "\n",
    "# --------------------------------------------\n",
    "#                LOAD SPM DATA\n",
    "# --------------------------------------------\n",
    "# Load vector by vector in the positions you want\n",
    "random_vector = [randint(0, 100) for _ in range(SPM_NWORDS)]\n",
    "nline = 3\n",
    "sim.setSPMLine(nline, random_vector)\n",
    "# Or, load the entire content of the SPM\n",
    "data = []\n",
    "for nline in range(SPM_NLINES):\n",
    "    random_vector = [randint(0, 100) for _ in range(SPM_NWORDS)]\n",
    "    data.append(random_vector)\n",
    "sim.loadSPMData(data)\n",
    "\n",
    "# --------------------------------------------\n",
    "#              COMPILE ASM TO HEX\n",
    "# --------------------------------------------\n",
    "# If hexadecimal is not provided, here we generate it\n",
    "sim.compileAsm(kernel_path, version=version, nInstrPerCol=nInstrPerCol, colUsage=column_usage, imem_start_addr=imem_add_start)\n",
    "\n",
    "# --------------------------------------------\n",
    "#                 LOAD KERNEL\n",
    "# --------------------------------------------\n",
    "\n",
    "# This needs the hex instructions, if you don't provide them, generate then compiling the asm\n",
    "sim.kernel_load(kernel_path, version=version, kernel_number=kernel_number)\n",
    "\n",
    "# --------------------------------------------\n",
    "#               SIMULATE EXECUTION\n",
    "# --------------------------------------------\n",
    "show_lcu = []\n",
    "show_srf = []\n",
    "show_lsu = []\n",
    "show_rcs = [[],[],[],[]]\n",
    "show_mxcu = []\n",
    "display_ops = [show_lcu, show_lsu, show_mxcu, show_rcs, show_srf]\n",
    "\n",
    "sim.displaySPMLine(3)\n",
    "\n",
    "sim.run(kernel_number, display_ops=display_ops)"
   ]
  }
 ],
 "metadata": {
  "kernelspec": {
   "display_name": "base",
   "language": "python",
   "name": "python3"
  },
  "language_info": {
   "codemirror_mode": {
    "name": "ipython",
    "version": 3
   },
   "file_extension": ".py",
   "mimetype": "text/x-python",
   "name": "python",
   "nbconvert_exporter": "python",
   "pygments_lexer": "ipython3",
   "version": "3.11.4"
  }
 },
 "nbformat": 4,
 "nbformat_minor": 2
}
