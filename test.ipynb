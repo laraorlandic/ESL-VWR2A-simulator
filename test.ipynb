{
 "cells": [
  {
   "cell_type": "code",
   "execution_count": 1,
   "metadata": {},
   "outputs": [
    {
     "name": "stdout",
     "output_type": "stream",
     "text": [
      "NOP: -1, -1, 0x0\n",
      "EXIT: -1, -1, 0x1c00\n",
      "SADD R1, ZERO, LAST: -1, -1, 0xb8340\n",
      "SADD R1, SRF(3), LAST: 3, -1, 0xb0340\n",
      "SADDI R1, ONE, 7: -1, -1, 0xfc347\n",
      "SSUB SRF(4), SRF(4), SRF(4): 4, 4, 0x90400\n",
      "JUMP ONE, 7: -1, -1, 0xfda07\n",
      "BGEPD ONE, ZERO, 5: -1, -1, 0xdd605\n"
     ]
    }
   ],
   "source": [
    "# --------------------------------------------\n",
    "#                   TEST LCU\n",
    "# --------------------------------------------\n",
    "from src import lcu\n",
    "lcu = lcu.LCU()\n",
    "\n",
    "instr_list = [\"NOP\", \"EXIT\", \"SADD R1, ZERO, LAST\", \"SADD R1, SRF(3), LAST\", \"SADDI R1, ONE, 7\", \"SSUB SRF(4), SRF(4), SRF(4)\", \"JUMP ONE, 7\", \"BGEPD ONE, ZERO, 5\"]\n",
    "\n",
    "for instr in instr_list:\n",
    "    srf_read, srf_str, word = lcu.asmToHex(instr)\n",
    "    print(instr + \": \" + str(srf_read) + \", \" + str(srf_str) + \", \" + word.get_word_in_hex())"
   ]
  },
  {
   "cell_type": "code",
   "execution_count": 2,
   "metadata": {},
   "outputs": [
    {
     "name": "stdout",
     "output_type": "stream",
     "text": [
      "SADD R0, ONE, ONE/LD.VWR VWR_A: -1, -1, 0x45538\n",
      "SADD R0, SRF(5), ONE/SH.IL.UP: 5, -1, 0xc4538\n",
      "SADD SRF(5), SRF(5), ONE/LD.VWR SRF: 5, 5, 0x5c530\n"
     ]
    }
   ],
   "source": [
    "# --------------------------------------------\n",
    "#                   TEST LSU\n",
    "# --------------------------------------------\n",
    "from src import lsu\n",
    "lsu = lsu.LSU()\n",
    "\n",
    "instr_list = [\"SADD R0, ONE, ONE/LD.VWR VWR_A\", \"SADD R0, SRF(5), ONE/SH.IL.UP\", \"SADD SRF(5), SRF(5), ONE/LD.VWR SRF\"]\n",
    "\n",
    "for instr in instr_list:\n",
    "    srf_read, srf_str, word = lsu.asmToHex(instr)\n",
    "    print(instr + \": \" + str(srf_read) + \", \" + str(srf_str) + \", \" + word.get_word_in_hex())"
   ]
  },
  {
   "cell_type": "code",
   "execution_count": 3,
   "metadata": {},
   "outputs": [
    {
     "name": "stdout",
     "output_type": "stream",
     "text": [
      "NOP: -1, -1, 0x0\n",
      "SADD VWR_A, VWR_A, VWR_B: -1, -1, 0x420\n",
      "SADD VWR_A, SRF(3), VWR_B: 3, -1, 0xc420\n",
      "LOR R0, RCB, MIN_INT: -1, -1, 0x1f522\n",
      "MUL.FP R0, RCB, MIN_INT: -1, -1, 0x1f5a2\n"
     ]
    }
   ],
   "source": [
    "# --------------------------------------------\n",
    "#                   TEST RCs\n",
    "# --------------------------------------------\n",
    "from src import rc\n",
    "rc = rc.RC()\n",
    "\n",
    "instr_list = [\"NOP\", \"SADD VWR_A, VWR_A, VWR_B\", \"SADD VWR_A, SRF(3), VWR_B\", \"LOR R0, RCB, MIN_INT\", \"MUL.FP R0, RCB, MIN_INT\"]\n",
    "# DIV.FP R0, RCB, MIN_INT\") Error: float point div not supported\n",
    "for instr in instr_list:\n",
    "    srf_read, srf_str, vwr_str, word = rc.asmToHex(instr)\n",
    "    print(instr + \": \" + str(srf_read) + \", \" + str(srf_str) + \", \" + word.get_word_in_hex())"
   ]
  },
  {
   "cell_type": "code",
   "execution_count": 4,
   "metadata": {},
   "outputs": [
    {
     "name": "stdout",
     "output_type": "stream",
     "text": [
      "NOP: 0x0\n",
      "SADD R1, ONE, LAST: 0x5699000\n",
      "LOR R1, ONE, SRF(3): 0x54690c0\n"
     ]
    }
   ],
   "source": [
    "# --------------------------------------------\n",
    "#                   TEST MXCU\n",
    "# --------------------------------------------\n",
    "from src import mxcu\n",
    "mxcu = mxcu.MXCU()\n",
    "\n",
    "instr_list = [\"NOP\", \"SADD R1, ONE, LAST\", \"LOR R1, ONE, SRF(3)\"]\n",
    "srf_sel = -1\n",
    "srf_we = 0\n",
    "alu_srf_write = 0\n",
    "vwr_row_we = [0,0,0,0]\n",
    "vwr_sel = 0\n",
    "for instr in instr_list:\n",
    "    word = mxcu.asmToHex(instr, srf_sel, srf_we, alu_srf_write, vwr_row_we, vwr_sel)\n",
    "    print(instr + \": \" + word.get_word_in_hex())"
   ]
  },
  {
   "cell_type": "code",
   "execution_count": 5,
   "metadata": {},
   "outputs": [
    {
     "name": "stdout",
     "output_type": "stream",
     "text": [
      "Processing file: ./kernels/test_asm/instructions_asm_v1.csv...\n"
     ]
    }
   ],
   "source": [
    "# --------------------------------------------\n",
    "#                   COMPILE\n",
    "# --------------------------------------------\n",
    "from src import simulator\n",
    "kernel_path='./kernels/test_asm/'\n",
    "sim = simulator.SIMULATOR()\n",
    "sim.compileAsmToHex(kernel_path, version=\"_v1\", nInstrPerCol=11, colUsage=[True, False], imem_start_addr=3)"
   ]
  },
  {
   "cell_type": "code",
   "execution_count": 6,
   "metadata": {},
   "outputs": [
    {
     "name": "stdout",
     "output_type": "stream",
     "text": [
      "Processing file: ./kernels/test_asm/instructions_asm_v2.csv...\n"
     ]
    }
   ],
   "source": [
    "from src import simulator\n",
    "kernel_path='./kernels/test_asm/'\n",
    "sim = simulator.SIMULATOR()\n",
    "# Using two cols\n",
    "sim.compileAsmToHex(kernel_path, version=\"_v2\", nInstrPerCol=5, colUsage=[True, True], imem_start_addr=3)"
   ]
  },
  {
   "cell_type": "code",
   "execution_count": 7,
   "metadata": {},
   "outputs": [
    {
     "name": "stdout",
     "output_type": "stream",
     "text": [
      "Processing file: ./kernels/test_asm/instructions_asm_v1.csv...\n",
      "Processing file: ./kernels/test_asm/instructions_hex_v1.csv...\n",
      "SPM 3: [66, 76, 74, 8, 13, 37, 87, 59, 71, 47, 69, 47, 44, 55, 97, 6, 35, 74, 6, 85, 51, 69, 35, 26, 85, 90, 20, 37, 44, 23, 92, 94, 40, 26, 35, 47, 92, 70, 89, 52, 73, 48, 72, 92, 79, 37, 40, 21, 53, 14, 53, 8, 23, 38, 88, 32, 53, 18, 96, 56, 44, 21, 65, 22, 32, 76, 19, 78, 97, 66, 38, 77, 43, 74, 23, 28, 45, 46, 32, 65, 77, 80, 5, 68, 95, 38, 64, 78, 59, 17, 53, 87, 2, 21, 49, 59, 22, 58, 54, 32, 69, 46, 46, 11, 31, 78, 22, 43, 38, 80, 82, 32, 42, 9, 28, 77, 30, 6, 30, 33, 44, 66, 74, 59, 39, 45, 50, 13, ]\n",
      "---------------------------------------------\n",
      "                PC: 0\n",
      "---------------------------------------------\n",
      "------- Col: 0 -------\n",
      "MXCU: SADD R1, ONE, LAST (selected: VWR_A, not writting SRF)\n",
      "LSU: BITREV R0, ONE, ONE/LD.VWR VWR_A\n",
      "RC: NOP --> 0\n",
      "RC: NOP --> 0\n",
      "RC: NOP --> 0\n",
      "RC: NOP --> 0\n",
      "LCU: SADD R1, ONE, ZERO\n",
      "---------------------------------------------\n",
      "                PC: 1\n",
      "---------------------------------------------\n",
      "------- Col: 0 -------\n",
      "MXCU: SADD R1, ONE, LAST (selected: VWR_A, not writting SRF)\n",
      "LSU: SADD R0, SRF(5), ONE/SH.IL.UP\n",
      "RC: SADD R0, VWR_A, VWR_B --> 0\n",
      "RC: SADD R0, VWR_A, VWR_B --> 0\n",
      "RC: SADD R0, VWR_A, VWR_B --> 0\n",
      "RC: SADD R0, VWR_A, VWR_B --> 0\n",
      "LCU: SSUBI R1, R2, 7\n",
      "---------------------------------------------\n",
      "                PC: 2\n",
      "---------------------------------------------\n",
      "------- Col: 0 -------\n",
      "MXCU: NOP (selected: VWR_A, writting SRF(3) from LSU)\n",
      "LSU: SADD SRF(3), SRF(3), ONE/LD.VWR SRF\n",
      "RC: SADD R0, SRF(3), VWR_B --> 0\n",
      "RC: SADD R0, SRF(3), VWR_B --> 0\n",
      "RC: SADD R0, SRF(3), VWR_B --> 0\n",
      "RC: SADD R0, SRF(3), VWR_B --> 0\n",
      "LCU: NOP\n",
      "---------------------------------------------\n",
      "                PC: 3\n",
      "---------------------------------------------\n",
      "------- Col: 0 -------\n",
      "MXCU: LOR R1, ONE, SRF(5) (selected: VWR_A, not writting SRF)\n",
      "LSU: SADD R0, SRF(5), ONE/SH.IL.UP\n",
      "RC: LOR R0, RCB, MIN_INT --> -2147483648\n",
      "RC: LOR R0, RCB, MIN_INT --> -2147483648\n",
      "RC: LOR R0, RCB, MIN_INT --> -2147483648\n",
      "RC: LOR R0, RCB, MIN_INT --> -2147483648\n",
      "LCU: EXIT\n",
      "---------------------------------------------\n",
      "                PC: 4\n",
      "---------------------------------------------\n",
      "------- Col: 0 -------\n",
      "MXCU: LOR R1, ONE, SRF(5) (selected: VWR_A, not writting SRF)\n",
      "LSU: SADD R0, SRF(5), ONE/SH.IL.UP\n",
      "Floating point mul to be done.\n",
      "RC: MUL.FP R0, RCB, MIN_INT --> 0\n",
      "Floating point mul to be done.\n",
      "RC: MUL.FP R0, RCB, MIN_INT --> 0\n",
      "Floating point mul to be done.\n",
      "RC: MUL.FP R0, RCB, MIN_INT --> 0\n",
      "Floating point mul to be done.\n",
      "RC: MUL.FP R0, RCB, MIN_INT --> 0\n",
      "LCU: JUMP SRF(5), R0, R1\n",
      "---------------------------------------------\n",
      "                PC: 5\n",
      "---------------------------------------------\n",
      "------- Col: 0 -------\n",
      "MXCU: NOP (selected: VWR_A, not writting SRF)\n",
      "LSU: SADD R0, SRF(5), ONE/SH.IL.UP\n",
      "RC: SFGA R1, OWN --> 0\n",
      "RC: SFGA R1, OWN --> 0\n",
      "RC: SFGA R1, OWN --> 0\n",
      "RC: SFGA R1, OWN --> 0\n",
      "LCU: JUMPI SRF(5), R3, 7\n",
      "---------------------------------------------\n",
      "                PC: 6\n",
      "---------------------------------------------\n",
      "------- Col: 0 -------\n",
      "MXCU: NOP (selected: VWR_A, not writting SRF)\n",
      "LSU: SADD R0, SRF(4), ONE/SH.IL.UP\n",
      "RC: NOP --> 0\n",
      "RC: NOP --> 0\n",
      "RC: NOP --> 0\n",
      "RC: NOP --> 0\n",
      "LCU: SLL R3, SRF(4), ZERO\n",
      "---------------------------------------------\n",
      "                PC: 7\n",
      "---------------------------------------------\n",
      "------- Col: 0 -------\n",
      "MXCU: NOP (selected: VWR_A, writting SRF(4) from LCU)\n",
      "LSU: SADD R0, SRF(4), ONE/SH.IL.UP\n",
      "RC: NOP --> 0\n",
      "RC: NOP --> 0\n",
      "RC: NOP --> 0\n",
      "RC: NOP --> 0\n",
      "LCU: LORI SRF(4), SRF(4), 7\n",
      "---------------------------------------------\n",
      "                PC: 8\n",
      "---------------------------------------------\n",
      "------- Col: 0 -------\n",
      "MXCU: NOP (selected: VWR_A, not writting SRF)\n",
      "LSU: SADD R0, SRF(5), ONE/SH.IL.UP\n",
      "RC: NOP --> 0\n",
      "RC: NOP --> 0\n",
      "RC: NOP --> 0\n",
      "RC: NOP --> 0\n",
      "LCU: BEQ R0, R2, 34\n",
      "---------------------------------------------\n",
      "                PC: 9\n",
      "---------------------------------------------\n",
      "------- Col: 0 -------\n",
      "MXCU: NOP (selected: VWR_A, not writting SRF)\n",
      "LSU: SADD R0, SRF(5), ONE/SH.IL.UP\n",
      "RC: NOP --> 0\n",
      "RC: NOP --> 0\n",
      "RC: NOP --> 0\n",
      "RC: NOP --> 0\n",
      "LCU: BGEPD R1, ZERO, 5\n",
      "---------------------------------------------\n",
      "                PC: 10\n",
      "---------------------------------------------\n",
      "------- Col: 0 -------\n",
      "MXCU: NOP (selected: VWR_A, not writting SRF)\n",
      "LSU: SADD R0, SRF(5), ONE/SH.IL.UP\n",
      "RC: NOP --> 0\n",
      "RC: NOP --> 0\n",
      "RC: NOP --> 0\n",
      "RC: NOP --> 0\n",
      "LCU: BEQR 14\n",
      "End...\n"
     ]
    }
   ],
   "source": [
    "# --------------------------------------------\n",
    "#                   SIMULATE\n",
    "# --------------------------------------------\n",
    "from src.simulator import *\n",
    "from random import randint\n",
    "\n",
    "sim = SIMULATOR()\n",
    "\n",
    "# --------------------------------------------\n",
    "#               KERNEL CONFIGURATION\n",
    "# --------------------------------------------\n",
    "kernel_path = './kernels/test_asm/' # Path\n",
    "kernel_number = 1 # Kernel number (from 1 to 15)\n",
    "column_usage = [True, False] # Columns to use\n",
    "nInstrPerCol = 11 # Number of instructions per column\n",
    "imem_add_start = 0 # Start address on imem for this kernel\n",
    "srf_spm_addres = 0 # Line of the SPM with the initial data for the SRF\n",
    "version=\"_v1\"\n",
    "\n",
    "sim.kernel_config(column_usage, nInstrPerCol, imem_add_start, srf_spm_addres, kernel_number)\n",
    "\n",
    "# --------------------------------------------\n",
    "#                LOAD SPM DATA\n",
    "# --------------------------------------------\n",
    "# Load vector by vector in the positions you want\n",
    "random_vector = [randint(0, 100) for _ in range(SPM_NWORDS)]\n",
    "nline = 3\n",
    "sim.setSPMLine(nline, random_vector)\n",
    "# Or, load the entire content of the SPM\n",
    "data = []\n",
    "for nline in range(SPM_NLINES):\n",
    "    random_vector = [randint(0, 100) for _ in range(SPM_NWORDS)]\n",
    "    data.append(random_vector)\n",
    "sim.loadSPMData(data)\n",
    "\n",
    "# --------------------------------------------\n",
    "#              COMPILE ASM TO HEX\n",
    "# --------------------------------------------\n",
    "# If hexadecimal is not provided, here we generate it\n",
    "sim.compileAsmToHex(kernel_path, version=version, nInstrPerCol=nInstrPerCol, colUsage=column_usage, imem_start_addr=imem_add_start)\n",
    "\n",
    "# --------------------------------------------\n",
    "#                 LOAD KERNEL\n",
    "# --------------------------------------------\n",
    "\n",
    "# This needs the hex instructions, if you don't provide them, generate then compiling the asm\n",
    "sim.kernel_load(kernel_path, version=version, kernel_number=kernel_number)\n",
    "\n",
    "# --------------------------------------------\n",
    "#               SIMULATE EXECUTION\n",
    "# --------------------------------------------\n",
    "show_lcu = []\n",
    "show_srf = []\n",
    "show_lsu = []\n",
    "show_rcs = [[],[],[],[]]\n",
    "show_mxcu = []\n",
    "display_ops = [show_lcu, show_lsu, show_mxcu, show_rcs, show_srf]\n",
    "\n",
    "sim.displaySPMLine(3)\n",
    "\n",
    "sim.run(kernel_number, display_ops=display_ops)"
   ]
  },
  {
   "cell_type": "code",
   "execution_count": 8,
   "metadata": {},
   "outputs": [
    {
     "name": "stdout",
     "output_type": "stream",
     "text": [
      "Processing file: ./kernels/exit/instructions_hex.csv...\n"
     ]
    }
   ],
   "source": [
    "kernel_path = './kernels/exit/' \n",
    "sim.compileHexToAsm(kernel_path)"
   ]
  },
  {
   "cell_type": "code",
   "execution_count": 9,
   "metadata": {},
   "outputs": [
    {
     "name": "stdout",
     "output_type": "stream",
     "text": [
      "Processing file: ./kernels/add_vectors/instructions_hex.csv...\n"
     ]
    }
   ],
   "source": [
    "kernel_path = './kernels/add_vectors/' \n",
    "sim.compileHexToAsm(kernel_path)"
   ]
  },
  {
   "cell_type": "code",
   "execution_count": 10,
   "metadata": {},
   "outputs": [
    {
     "name": "stdout",
     "output_type": "stream",
     "text": [
      "Processing file: ./kernels/add_vectors/instructions_asm.csv...\n"
     ]
    }
   ],
   "source": [
    "kernel_path = './kernels/add_vectors/' \n",
    "kernel_number = 1 # Kernel number (from 1 to 15)\n",
    "column_usage = [True, False] # Columns to use\n",
    "nInstrPerCol = 37 # Number of instructions per column\n",
    "imem_add_start = 0 # Start address on imem for this kernel\n",
    "srf_spm_addres = 0 # Line of the SPM with the initial data for the SRF\n",
    "version=\"\"\n",
    "sim.compileAsmToHex(kernel_path, version=version, nInstrPerCol=nInstrPerCol, colUsage=column_usage, imem_start_addr=imem_add_start)"
   ]
  }
 ],
 "metadata": {
  "kernelspec": {
   "display_name": "base",
   "language": "python",
   "name": "python3"
  },
  "language_info": {
   "codemirror_mode": {
    "name": "ipython",
    "version": 3
   },
   "file_extension": ".py",
   "mimetype": "text/x-python",
   "name": "python",
   "nbconvert_exporter": "python",
   "pygments_lexer": "ipython3",
   "version": "3.11.4"
  }
 },
 "nbformat": 4,
 "nbformat_minor": 2
}
