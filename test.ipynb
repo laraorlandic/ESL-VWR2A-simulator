{
 "cells": [
  {
   "cell_type": "code",
   "execution_count": 2,
   "metadata": {},
   "outputs": [
    {
     "name": "stdout",
     "output_type": "stream",
     "text": [
      "NOP: -1, -1, 0x0\n",
      "EXIT: -1, -1, 0x1c00\n",
      "SADD R1, ZERO, LAST: -1, -1, 0xb8340\n",
      "SADD R1, SRF(3), LAST: 3, -1, 0xb0340\n",
      "SADDI R1, ONE, 7: -1, -1, 0xfc347\n",
      "SSUB SRF(4), SRF(4), SRF(4): 4, 4, 0x90400\n",
      "JUMP ONE, 7: -1, -1, 0xfda07\n",
      "BGEPD ONE, ZERO, 5: -1, -1, 0xdd605\n"
     ]
    }
   ],
   "source": [
    "# --------------------------------------------\n",
    "#                   TEST LCU\n",
    "# --------------------------------------------\n",
    "from src import lcu\n",
    "lcu = lcu.LCU()\n",
    "\n",
    "instr_list = [\"NOP\", \"EXIT\", \"SADD R1, ZERO, LAST\", \"SADD R1, SRF(3), LAST\", \"SADDI R1, ONE, 7\", \"SSUB SRF(4), SRF(4), SRF(4)\", \"JUMP ONE, 7\", \"BGEPD ONE, ZERO, 5\"]\n",
    "\n",
    "for instr in instr_list:\n",
    "    srf_read, srf_str, word = lcu.asmToHex(instr)\n",
    "    print(instr + \": \" + str(srf_read) + \", \" + str(srf_str) + \", \" + word.get_word_in_hex())"
   ]
  },
  {
   "cell_type": "code",
   "execution_count": 3,
   "metadata": {},
   "outputs": [
    {
     "name": "stdout",
     "output_type": "stream",
     "text": [
      "SADD R0, ONE, ONE/LD.VWR VWR_A: -1, -1, 0x45538\n",
      "SADD R0, SRF(5), ONE/SH.IL.UP: 5, -1, 0xc4538\n",
      "SADD SRF(5), SRF(5), ONE/LD.VWR SRF: 5, 5, 0x5c530\n"
     ]
    }
   ],
   "source": [
    "# --------------------------------------------\n",
    "#                   TEST LSU\n",
    "# --------------------------------------------\n",
    "from src import lsu\n",
    "lsu = lsu.LSU()\n",
    "\n",
    "instr_list = [\"SADD R0, ONE, ONE/LD.VWR VWR_A\", \"SADD R0, SRF(5), ONE/SH.IL.UP\", \"SADD SRF(5), SRF(5), ONE/LD.VWR SRF\"]\n",
    "\n",
    "for instr in instr_list:\n",
    "    srf_read, srf_str, word = lsu.asmToHex(instr)\n",
    "    print(instr + \": \" + str(srf_read) + \", \" + str(srf_str) + \", \" + word.get_word_in_hex())"
   ]
  },
  {
   "cell_type": "code",
   "execution_count": 4,
   "metadata": {},
   "outputs": [
    {
     "name": "stdout",
     "output_type": "stream",
     "text": [
      "NOP: -1, -1, 0x0\n",
      "SADD VWR_A, VWR_A, VWR_B: -1, -1, 0x420\n",
      "SADD VWR_A, SRF(3), VWR_B: 3, -1, 0xc420\n",
      "LOR R0, RCB, MIN_INT: -1, -1, 0x1f522\n",
      "MUL.FP R0, RCB, MIN_INT: -1, -1, 0x1f5a2\n"
     ]
    }
   ],
   "source": [
    "# --------------------------------------------\n",
    "#                   TEST RCs\n",
    "# --------------------------------------------\n",
    "from src import rc\n",
    "rc = rc.RC()\n",
    "\n",
    "instr_list = [\"NOP\", \"SADD VWR_A, VWR_A, VWR_B\", \"SADD VWR_A, SRF(3), VWR_B\", \"LOR R0, RCB, MIN_INT\", \"MUL.FP R0, RCB, MIN_INT\"]\n",
    "# DIV.FP R0, RCB, MIN_INT\") Error: float point div not supported\n",
    "for instr in instr_list:\n",
    "    srf_read, srf_str, vwr_str, word = rc.asmToHex(instr)\n",
    "    print(instr + \": \" + str(srf_read) + \", \" + str(srf_str) + \", \" + word.get_word_in_hex())"
   ]
  },
  {
   "cell_type": "code",
   "execution_count": 5,
   "metadata": {},
   "outputs": [
    {
     "name": "stdout",
     "output_type": "stream",
     "text": [
      "NOP: 0x0\n",
      "SADD R1, ONE, LAST: 0x5699000\n",
      "LOR R1, ONE, SRF(3): 0x54690c0\n"
     ]
    }
   ],
   "source": [
    "# --------------------------------------------\n",
    "#                   TEST MXCU\n",
    "# --------------------------------------------\n",
    "from src import mxcu\n",
    "mxcu = mxcu.MXCU()\n",
    "\n",
    "instr_list = [\"NOP\", \"SADD R1, ONE, LAST\", \"LOR R1, ONE, SRF(3)\"]\n",
    "srf_sel = -1\n",
    "srf_we = 0\n",
    "alu_srf_write = 0\n",
    "vwr_row_we = [0,0,0,0]\n",
    "vwr_sel = 0\n",
    "for instr in instr_list:\n",
    "    word = mxcu.asmToHex(instr, srf_sel, srf_we, alu_srf_write, vwr_row_we, vwr_sel)\n",
    "    print(instr + \": \" + word.get_word_in_hex())"
   ]
  },
  {
   "cell_type": "code",
   "execution_count": 6,
   "metadata": {},
   "outputs": [
    {
     "name": "stdout",
     "output_type": "stream",
     "text": [
      "Processing file: ./kernels/test_asm/instructions_asm_v1.csv...\n"
     ]
    }
   ],
   "source": [
    "# --------------------------------------------\n",
    "#                   COMPILE\n",
    "# --------------------------------------------\n",
    "# Config kernel\n",
    "kernel_path='./kernels/test_asm/'\n",
    "kernel_number = 1 # Kernel number (from 1 to 15)\n",
    "column_usage = [True, False] # Columns to use\n",
    "nInstrPerCol = 13 # Number of instructions per column\n",
    "imem_add_start = 3 # Start address on imem for this kernel\n",
    "srf_spm_addres = 0 # Line of the SPM with the initial data for the SRF\n",
    "version=\"_v1\"\n",
    "from src import simulator\n",
    "sim = simulator.SIMULATOR()\n",
    "sim.kernel_config(column_usage, nInstrPerCol, imem_add_start, srf_spm_addres, kernel_number)\n",
    "sim.compileAsmToHex(kernel_path, kernel_number, version=version)"
   ]
  },
  {
   "cell_type": "code",
   "execution_count": 7,
   "metadata": {},
   "outputs": [
    {
     "name": "stdout",
     "output_type": "stream",
     "text": [
      "Processing file: ./kernels/test_asm/instructions_asm_v2.csv...\n"
     ]
    }
   ],
   "source": [
    "kernel_path='./kernels/test_asm/'\n",
    "kernel_number = 2 # Kernel number (from 1 to 15)\n",
    "column_usage = [True, True] # Columns to use\n",
    "nInstrPerCol = 4 # Number of instructions per column\n",
    "imem_add_start = 30 # Start address on imem for this kernel\n",
    "srf_spm_addres = 0 # Line of the SPM with the initial data for the SRF\n",
    "version=\"_v2\"\n",
    "#sim = simulator.SIMULATOR() # Coment this to store two kernels at the same time in the imem\n",
    "# Using two cols\n",
    "sim.kernel_config(column_usage, nInstrPerCol, imem_add_start, srf_spm_addres, kernel_number)\n",
    "sim.compileAsmToHex(kernel_path, kernel_number, version=version)"
   ]
  },
  {
   "cell_type": "code",
   "execution_count": 8,
   "metadata": {},
   "outputs": [
    {
     "name": "stdout",
     "output_type": "stream",
     "text": [
      "Processing file: ./kernels/test_asm/instructions_asm_v1.csv...\n",
      "Processing file: ./kernels/test_asm/instructions_hex_v1.csv...\n",
      "SPM 3: [64, 69, 58, 1, 55, 65, 92, 5, 18, 22, 81, 17, 57, 15, 13, 36, 43, 100, 54, 36, 21, 71, 35, 11, 88, 60, 98, 12, 84, 36, 28, 9, 89, 7, 61, 79, 59, 90, 16, 1, 15, 53, 30, 35, 58, 92, 78, 78, 63, 48, 4, 31, 86, 98, 93, 71, 39, 96, 86, 7, 35, 82, 69, 25, 54, 30, 28, 75, 4, 38, 60, 35, 57, 66, 98, 39, 57, 35, 40, 54, 17, 82, 89, 83, 79, 86, 82, 57, 27, 44, 82, 92, 46, 4, 99, 46, 53, 7, 41, 43, 0, 61, 73, 9, 58, 49, 5, 36, 93, 33, 44, 36, 64, 79, 90, 2, 15, 35, 34, 86, 41, 87, 58, 22, 54, 74, 73, 36, ]\n",
      "---------------------------------------------\n",
      "                PC: 0\n",
      "---------------------------------------------\n",
      "------- Col: 0 -------\n",
      "MXCU: SADD R1, ONE, LAST (selected: 0, not writting SRF)\n",
      "LSU: BITREV R0, ONE, ONE/LD.VWR VWR_A --> 0\n",
      "RC: NOP --> 0\n",
      "RC: NOP --> 0\n",
      "RC: NOP --> 0\n",
      "RC: NOP --> 0\n",
      "LCU: SADD R1, ONE, ZERO --> 1\n",
      "---------------------------------------------\n",
      "                PC: 1\n",
      "---------------------------------------------\n",
      "------- Col: 0 -------\n",
      "MXCU: SADD R1, ONE, LAST (selected: 0, not writting SRF)\n",
      "LSU: SADD R0, SRF(5), ONE/SH.IL.UP --> 1\n",
      "RC: SADD VWR_C, VWR_A, VWR_B --> 0\n",
      "RC: SADD VWR_C, VWR_A, VWR_B --> 0\n",
      "RC: SADD VWR_C, VWR_A, VWR_B --> 0\n",
      "RC: SADD VWR_C, VWR_A, VWR_B --> 0\n",
      "LCU: SSUBI R1, R2, 7 --> 7\n",
      "---------------------------------------------\n",
      "                PC: 2\n",
      "---------------------------------------------\n",
      "------- Col: 0 -------\n",
      "MXCU: NOP (selected: 0, writting SRF(3) from LSU)\n",
      "LSU: SADD SRF(3), SRF(3), ONE/LD.VWR SRF --> 2\n",
      "RC: SADD VWR_C, SRF(3), VWR_B --> 57\n",
      "RC: SADD VWR_C, SRF(3), VWR_B --> 57\n",
      "RC: SADD VWR_C, SRF(3), VWR_B --> 57\n",
      "RC: SADD VWR_C, SRF(3), VWR_B --> 57\n",
      "LCU: NOP --> 7\n",
      "---------------------------------------------\n",
      "                PC: 3\n",
      "---------------------------------------------\n",
      "------- Col: 0 -------\n",
      "MXCU: LOR R1, ONE, SRF(5) (selected: 0, not writting SRF)\n",
      "LSU: SADD R0, SRF(5), ONE/SH.IL.UP --> 33\n",
      "RC: LOR R0, RCB, MIN_INT --> -2147483648\n",
      "RC: LOR R0, RCB, MIN_INT --> -2147483648\n",
      "RC: LOR R0, RCB, MIN_INT --> -2147483648\n",
      "RC: LOR R0, RCB, MIN_INT --> -2147483648\n",
      "LCU: EXIT --> 7\n",
      "End...\n"
     ]
    }
   ],
   "source": [
    "# --------------------------------------------\n",
    "#                   SIMULATE\n",
    "# --------------------------------------------\n",
    "from src.simulator import *\n",
    "from random import randint\n",
    "\n",
    "sim = SIMULATOR()\n",
    "\n",
    "# --------------------------------------------\n",
    "#               KERNEL CONFIGURATION\n",
    "# --------------------------------------------\n",
    "kernel_path = './kernels/test_asm/' # Path\n",
    "kernel_number = 1 # Kernel number (from 1 to 15)\n",
    "column_usage = [True, False] # Columns to use\n",
    "nInstrPerCol = 11 # Number of instructions per column\n",
    "imem_add_start = 0 # Start address on imem for this kernel\n",
    "srf_spm_addres = 0 # Line of the SPM with the initial data for the SRF\n",
    "version=\"_v1\"\n",
    "\n",
    "sim.kernel_config(column_usage, nInstrPerCol, imem_add_start, srf_spm_addres, kernel_number)\n",
    "\n",
    "# --------------------------------------------\n",
    "#                LOAD SPM DATA\n",
    "# --------------------------------------------\n",
    "# Load vector by vector in the positions you want\n",
    "random_vector = [randint(0, 100) for _ in range(SPM_NWORDS)]\n",
    "nline = 3\n",
    "sim.setSPMLine(nline, random_vector)\n",
    "# Or, load the entire content of the SPM\n",
    "data = []\n",
    "for nline in range(SPM_NLINES):\n",
    "    random_vector = [randint(0, 100) for _ in range(SPM_NWORDS)]\n",
    "    data.append(random_vector)\n",
    "sim.loadSPMData(data)\n",
    "\n",
    "# --------------------------------------------\n",
    "#              COMPILE ASM TO HEX\n",
    "# --------------------------------------------\n",
    "# If hexadecimal is not provided, here we generate it\n",
    "sim.compileAsmToHex(kernel_path, kernel_number, version=version)\n",
    "\n",
    "# --------------------------------------------\n",
    "#                 LOAD KERNEL\n",
    "# --------------------------------------------\n",
    "\n",
    "# This needs the hex instructions, if you don't provide them, generate then compiling the asm\n",
    "sim.kernel_load(kernel_path, version=version, kernel_number=kernel_number)\n",
    "\n",
    "# --------------------------------------------\n",
    "#               SIMULATE EXECUTION\n",
    "# --------------------------------------------\n",
    "show_lcu = []\n",
    "show_srf = []\n",
    "show_lsu = []\n",
    "show_rcs = [[],[],[],[]]\n",
    "show_mxcu = []\n",
    "display_ops = [show_lcu, show_lsu, show_mxcu, show_rcs, show_srf]\n",
    "\n",
    "sim.displaySPMLine(3)\n",
    "\n",
    "sim.run(kernel_number, display_ops=display_ops)"
   ]
  },
  {
   "cell_type": "code",
   "execution_count": 9,
   "metadata": {},
   "outputs": [
    {
     "name": "stdout",
     "output_type": "stream",
     "text": [
      "Processing file: ./kernels/exit/instructions_hex.csv...\n"
     ]
    }
   ],
   "source": [
    "kernel_path = './kernels/exit/' \n",
    "sim.compileHexToAsm(kernel_path)"
   ]
  },
  {
   "cell_type": "code",
   "execution_count": 10,
   "metadata": {},
   "outputs": [
    {
     "name": "stdout",
     "output_type": "stream",
     "text": [
      "Processing file: ./kernels/add_vectors/instructions_hex.csv...\n"
     ]
    }
   ],
   "source": [
    "kernel_path = './kernels/add_vectors/' \n",
    "sim.compileHexToAsm(kernel_path)"
   ]
  },
  {
   "cell_type": "code",
   "execution_count": 11,
   "metadata": {},
   "outputs": [
    {
     "name": "stdout",
     "output_type": "stream",
     "text": [
      "Processing file: ./kernels/add_vectors/instructions_asm.csv...\n"
     ]
    }
   ],
   "source": [
    "# --------------------------------------------\n",
    "#               KERNEL CONFIGURATION\n",
    "# --------------------------------------------\n",
    "kernel_path = './kernels/add_vectors/' \n",
    "kernel_number = 1 # Kernel number (from 1 to 15)\n",
    "column_usage = [True, False] # Columns to use\n",
    "nInstrPerCol = 37 # Number of instructions per column\n",
    "imem_add_start = 0 # Start address on imem for this kernel\n",
    "srf_spm_addres = 0 # Line of the SPM with the initial data for the SRF\n",
    "version=\"\"\n",
    "sim.kernel_config(column_usage, nInstrPerCol, imem_add_start, srf_spm_addres, kernel_number)\n",
    "sim.compileAsmToHex(kernel_path, kernel_number, version=version)"
   ]
  },
  {
   "cell_type": "code",
   "execution_count": 12,
   "metadata": {},
   "outputs": [
    {
     "name": "stdout",
     "output_type": "stream",
     "text": [
      "Processing file: ./kernels/mf_q64_erosion/instructions_hex.csv...\n",
      "Processing file: ./kernels/mf_q64_erosion/instructions_asm.csv...\n"
     ]
    },
    {
     "ename": "ValueError",
     "evalue": "Instructions not valid for this cycle (5) of the CGRA. Only the RC on row 0 can write to the SRF.",
     "output_type": "error",
     "traceback": [
      "\u001b[0;31m---------------------------------------------------------------------------\u001b[0m",
      "\u001b[0;31mValueError\u001b[0m                                Traceback (most recent call last)",
      "Cell \u001b[0;32mIn[12], line 14\u001b[0m\n\u001b[1;32m     12\u001b[0m sim\u001b[38;5;241m.\u001b[39mkernel_config(column_usage, nInstrPerCol, imem_add_start, srf_spm_addres, kernel_number)\n\u001b[1;32m     13\u001b[0m sim\u001b[38;5;241m.\u001b[39mcompileHexToAsm(kernel_path)\n\u001b[0;32m---> 14\u001b[0m \u001b[43msim\u001b[49m\u001b[38;5;241;43m.\u001b[39;49m\u001b[43mcompileAsmToHex\u001b[49m\u001b[43m(\u001b[49m\u001b[43mkernel_path\u001b[49m\u001b[43m,\u001b[49m\u001b[43m \u001b[49m\u001b[43mkernel_number\u001b[49m\u001b[43m,\u001b[49m\u001b[43m \u001b[49m\u001b[43mversion\u001b[49m\u001b[38;5;241;43m=\u001b[39;49m\u001b[43mversion\u001b[49m\u001b[43m)\u001b[49m\n",
      "File \u001b[0;32m~/epfl/ESL-CGRA-simulator/src/simulator.py:231\u001b[0m, in \u001b[0;36mSIMULATOR.compileAsmToHex\u001b[0;34m(self, kernel_path, kernel_number, version)\u001b[0m\n\u001b[1;32m    228\u001b[0m     \u001b[38;5;28mself\u001b[39m\u001b[38;5;241m.\u001b[39mvwr2a\u001b[38;5;241m.\u001b[39mimem\u001b[38;5;241m.\u001b[39mrcs_imem[row][imem_addr] \u001b[38;5;241m=\u001b[39m hex_word\n\u001b[1;32m    230\u001b[0m \u001b[38;5;66;03m# Check SRF reads/writes\u001b[39;00m\n\u001b[0;32m--> 231\u001b[0m srf_sel, srf_we, alu_srf_write \u001b[38;5;241m=\u001b[39m \u001b[43msrf\u001b[49m\u001b[38;5;241;43m.\u001b[39;49m\u001b[43mcheckReadsWrites\u001b[49m\u001b[43m(\u001b[49m\u001b[43msrf_read_idx_lcu\u001b[49m\u001b[43m,\u001b[49m\u001b[43m \u001b[49m\u001b[43msrf_read_idx_lsu\u001b[49m\u001b[43m,\u001b[49m\u001b[43m \u001b[49m\u001b[43msrf_read_idx_rc\u001b[49m\u001b[43m,\u001b[49m\u001b[43m \u001b[49m\u001b[43msrf_str_idx_lcu\u001b[49m\u001b[43m,\u001b[49m\u001b[43m \u001b[49m\u001b[43msrf_str_idx_lsu\u001b[49m\u001b[43m,\u001b[49m\u001b[43m \u001b[49m\u001b[43msrf_str_idx_rc\u001b[49m\u001b[43m,\u001b[49m\u001b[43m \u001b[49m\u001b[43mi\u001b[49m\u001b[43m)\u001b[49m\n\u001b[1;32m    233\u001b[0m \u001b[38;5;66;03m# Check vwr reads/writes\u001b[39;00m\n\u001b[1;32m    234\u001b[0m \u001b[38;5;66;03m# Enable the write to a VWR for each RC\u001b[39;00m\n\u001b[1;32m    235\u001b[0m vwr_row_we \u001b[38;5;241m=\u001b[39m [\u001b[38;5;241m0\u001b[39m \u001b[38;5;28;01mif\u001b[39;00m num \u001b[38;5;241m==\u001b[39m \u001b[38;5;241m-\u001b[39m\u001b[38;5;241m1\u001b[39m \u001b[38;5;28;01melse\u001b[39;00m \u001b[38;5;241m1\u001b[39m \u001b[38;5;28;01mfor\u001b[39;00m num \u001b[38;5;129;01min\u001b[39;00m vwr_str_rc]\n",
      "File \u001b[0;32m~/epfl/ESL-CGRA-simulator/src/srf.py:13\u001b[0m, in \u001b[0;36mSRF.checkReadsWrites\u001b[0;34m(self, srf_read_idx_lcu, srf_read_idx_lsu, srf_read_idx_rc, srf_str_idx_lcu, srf_str_idx_lsu, srf_str_idx_rc, cycle)\u001b[0m\n\u001b[1;32m      9\u001b[0m \u001b[38;5;28;01mdef\u001b[39;00m \u001b[38;5;21mcheckReadsWrites\u001b[39m(\u001b[38;5;28mself\u001b[39m, srf_read_idx_lcu, srf_read_idx_lsu, srf_read_idx_rc, srf_str_idx_lcu, srf_str_idx_lsu, srf_str_idx_rc, cycle):\n\u001b[1;32m     10\u001b[0m     \u001b[38;5;66;03m# ---------------------- Check reads/writes to SRF/VWR ---------------------- \u001b[39;00m\n\u001b[1;32m     11\u001b[0m     \u001b[38;5;66;03m# Check: Only RC0 should be able to write to SRF\u001b[39;00m\n\u001b[1;32m     12\u001b[0m     \u001b[38;5;28;01mif\u001b[39;00m np\u001b[38;5;241m.\u001b[39many(np\u001b[38;5;241m.\u001b[39marray(srf_str_idx_rc[\u001b[38;5;241m1\u001b[39m:]) \u001b[38;5;241m!=\u001b[39m \u001b[38;5;241m-\u001b[39m\u001b[38;5;241m1\u001b[39m):\n\u001b[0;32m---> 13\u001b[0m         \u001b[38;5;28;01mraise\u001b[39;00m \u001b[38;5;167;01mValueError\u001b[39;00m(\u001b[38;5;124m\"\u001b[39m\u001b[38;5;124mInstructions not valid for this cycle (\u001b[39m\u001b[38;5;124m\"\u001b[39m \u001b[38;5;241m+\u001b[39m \u001b[38;5;28mstr\u001b[39m(cycle) \u001b[38;5;241m+\u001b[39m \u001b[38;5;124m\"\u001b[39m\u001b[38;5;124m) of the CGRA. Only the RC on row 0 can write to the SRF.\u001b[39m\u001b[38;5;124m\"\u001b[39m)\n\u001b[1;32m     15\u001b[0m     \u001b[38;5;66;03m# Check: Only reads to the same SRF register can be made by every unit\u001b[39;00m\n\u001b[1;32m     16\u001b[0m     srf_sel \u001b[38;5;241m=\u001b[39m \u001b[38;5;241m-\u001b[39m\u001b[38;5;241m1\u001b[39m \u001b[38;5;66;03m# No one reads\u001b[39;00m\n",
      "\u001b[0;31mValueError\u001b[0m: Instructions not valid for this cycle (5) of the CGRA. Only the RC on row 0 can write to the SRF."
     ]
    }
   ],
   "source": [
    "\n",
    "# --------------------------------------------\n",
    "#               KERNEL CONFIGURATION\n",
    "# --------------------------------------------\n",
    "kernel_path = './kernels/mf_q64_erosion/' \n",
    "kernel_number = 1 # Kernel number (from 1 to 15)\n",
    "column_usage = [True, False] # Columns to use\n",
    "nInstrPerCol = 44 # Number of instructions per column\n",
    "imem_add_start = 0 # Start address on imem for this kernel\n",
    "srf_spm_addres = 0 # Line of the SPM with the initial data for the SRF\n",
    "version=\"\"\n",
    "sim = simulator.SIMULATOR()\n",
    "sim.kernel_config(column_usage, nInstrPerCol, imem_add_start, srf_spm_addres, kernel_number)\n",
    "sim.compileHexToAsm(kernel_path)\n",
    "sim.compileAsmToHex(kernel_path, kernel_number, version=version)\n"
   ]
  },
  {
   "cell_type": "code",
   "execution_count": null,
   "metadata": {},
   "outputs": [
    {
     "name": "stdout",
     "output_type": "stream",
     "text": [
      "Pseudo-Assembly representation: LOR R1, SRF(X), ZERO\n",
      "Performing ALU operation LOR between operands SRF and ZERO\n",
      "ALU is performing operations with 32-bit precision\n",
      "Writing ALU result to RC register 1\n",
      "Pseudo-Assembly representation: LOR SRF(X), ZERO, ZERO\n",
      "Performing ALU operation LOR between operands ZERO and ZERO\n",
      "ALU is performing operations with 32-bit precision\n",
      "No RC registers are being written\n"
     ]
    }
   ],
   "source": [
    "from src import *\n",
    "# Load an existing imem word and decode it\n",
    "imem_pos = 1\n",
    "imem_word = 0xe923\n",
    "\n",
    "rc_imem = RC_IMEM()\n",
    "rc_imem.set_word(imem_word, imem_pos)\n",
    "asm = rc_imem.get_instr_pseudo_asm(imem_pos)\n",
    "print(\"Pseudo-Assembly representation: \" + asm)\n",
    "rc_imem.get_instruction_info(imem_pos)\n",
    "\n",
    "# Load an existing imem word and decode it\n",
    "imem_pos = 1\n",
    "imem_word = 0x2a920\n",
    "\n",
    "rc_imem = RC_IMEM()\n",
    "rc_imem.set_word(imem_word, imem_pos)\n",
    "asm = rc_imem.get_instr_pseudo_asm(imem_pos)\n",
    "print(\"Pseudo-Assembly representation: \" + asm)\n",
    "rc_imem.get_instruction_info(imem_pos)"
   ]
  }
 ],
 "metadata": {
  "kernelspec": {
   "display_name": "base",
   "language": "python",
   "name": "python3"
  },
  "language_info": {
   "codemirror_mode": {
    "name": "ipython",
    "version": 3
   },
   "file_extension": ".py",
   "mimetype": "text/x-python",
   "name": "python",
   "nbconvert_exporter": "python",
   "pygments_lexer": "ipython3",
   "version": "3.11.4"
  }
 },
 "nbformat": 4,
 "nbformat_minor": 2
}
