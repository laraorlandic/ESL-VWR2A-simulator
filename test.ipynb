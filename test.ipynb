{
 "cells": [
  {
   "cell_type": "code",
   "execution_count": 1,
   "metadata": {},
   "outputs": [],
   "source": [
    "from src import lcu\n",
    "\n",
    "lcu = lcu.LCU()"
   ]
  },
  {
   "cell_type": "code",
   "execution_count": 2,
   "metadata": {},
   "outputs": [
    {
     "name": "stdout",
     "output_type": "stream",
     "text": [
      "-1, -1\n",
      "-1, -1\n",
      "-1, -1\n",
      "3, -1\n",
      "-1, -1\n",
      "4, 4\n",
      "-1, -1\n",
      "-1, -1\n",
      "0x0\n",
      "0x1c00\n",
      "0xb8340\n",
      "0xb0340\n",
      "0xfc347\n",
      "0x90400\n",
      "0xfda07\n",
      "0xdd605\n",
      "0x0\n",
      "0x0\n",
      "0x0\n",
      "0x0\n",
      "0x0\n",
      "0x0\n",
      "0x0\n",
      "0x0\n",
      "0x0\n",
      "0x0\n",
      "0x0\n",
      "0x0\n",
      "0x0\n",
      "0x0\n",
      "0x0\n",
      "0x0\n",
      "0x0\n",
      "0x0\n",
      "0x0\n",
      "0x0\n",
      "0x0\n",
      "0x0\n",
      "0x0\n",
      "0x0\n",
      "0x0\n",
      "0x0\n",
      "0x0\n",
      "0x0\n",
      "0x0\n",
      "0x0\n",
      "0x0\n",
      "0x0\n",
      "0x0\n",
      "0x0\n",
      "0x0\n",
      "0x0\n",
      "0x0\n",
      "0x0\n",
      "0x0\n",
      "0x0\n",
      "0x0\n",
      "0x0\n",
      "0x0\n",
      "0x0\n",
      "0x0\n",
      "0x0\n",
      "0x0\n",
      "0x0\n",
      "0x0\n",
      "0x0\n",
      "0x0\n",
      "0x0\n",
      "0x0\n",
      "0x0\n",
      "0x0\n",
      "0x0\n"
     ]
    }
   ],
   "source": [
    "srf_read, srf_str = lcu.asmToHex(\"NOP\")\n",
    "print(str(srf_read) + \", \" + str(srf_str))\n",
    "srf_read, srf_str = lcu.asmToHex(\"EXIT\")\n",
    "print(str(srf_read) + \", \" + str(srf_str))\n",
    "srf_read, srf_str = lcu.asmToHex(\"SADD R1, ZERO, LAST\")\n",
    "print(str(srf_read) + \", \" + str(srf_str))\n",
    "srf_read, srf_str = lcu.asmToHex(\"SADD R1, SRF(3), LAST\")\n",
    "print(str(srf_read) + \", \" + str(srf_str))\n",
    "#srf_read, srf_str = lcu.asmToHex(\"SADD R1, SRF(3), ONE\") # Error\n",
    "srf_read, srf_str = lcu.asmToHex(\"SADDI R1, ONE, 7\")\n",
    "print(str(srf_read) + \", \" + str(srf_str))\n",
    "srf_read, srf_str = lcu.asmToHex(\"SSUB SRF(4), SRF(4), SRF(4)\")\n",
    "print(str(srf_read) + \", \" + str(srf_str))\n",
    "#srf_read, srf_str = lcu.asmToHex(\"SSUB SRF(4), SRF(4), SRF(3)\") # Error\n",
    "srf_read, srf_str = lcu.asmToHex(\"JUMP ONE, 7\")\n",
    "print(str(srf_read) + \", \" + str(srf_str))\n",
    "srf_read, srf_str = lcu.asmToHex(\"BGEPD ONE, ZERO, 5\")\n",
    "print(str(srf_read) + \", \" + str(srf_str))\n",
    "for i in range(len(lcu.imem.IMEM)):\n",
    "    print(lcu.imem.get_word_in_hex(i))"
   ]
  },
  {
   "cell_type": "code",
   "execution_count": 3,
   "metadata": {},
   "outputs": [],
   "source": [
    "from src import lsu\n",
    "\n",
    "lsu = lsu.LSU()"
   ]
  },
  {
   "cell_type": "code",
   "execution_count": 4,
   "metadata": {},
   "outputs": [
    {
     "name": "stdout",
     "output_type": "stream",
     "text": [
      "-1, -1\n",
      "5, -1\n",
      "5, 5\n",
      "0x45538\n",
      "0xc4538\n",
      "0x5c530\n",
      "0x4c80\n",
      "0x4c80\n",
      "0x4c80\n",
      "0x4c80\n",
      "0x4c80\n",
      "0x4c80\n",
      "0x4c80\n",
      "0x4c80\n",
      "0x4c80\n",
      "0x4c80\n",
      "0x4c80\n",
      "0x4c80\n",
      "0x4c80\n",
      "0x4c80\n",
      "0x4c80\n",
      "0x4c80\n",
      "0x4c80\n",
      "0x4c80\n",
      "0x4c80\n",
      "0x4c80\n",
      "0x4c80\n",
      "0x4c80\n",
      "0x4c80\n",
      "0x4c80\n",
      "0x4c80\n",
      "0x4c80\n",
      "0x4c80\n",
      "0x4c80\n",
      "0x4c80\n",
      "0x4c80\n",
      "0x4c80\n",
      "0x4c80\n",
      "0x4c80\n",
      "0x4c80\n",
      "0x4c80\n",
      "0x4c80\n",
      "0x4c80\n",
      "0x4c80\n",
      "0x4c80\n",
      "0x4c80\n",
      "0x4c80\n",
      "0x4c80\n",
      "0x4c80\n",
      "0x4c80\n",
      "0x4c80\n",
      "0x4c80\n",
      "0x4c80\n",
      "0x4c80\n",
      "0x4c80\n",
      "0x4c80\n",
      "0x4c80\n",
      "0x4c80\n",
      "0x4c80\n",
      "0x4c80\n",
      "0x4c80\n",
      "0x4c80\n",
      "0x4c80\n",
      "0x4c80\n",
      "0x4c80\n",
      "0x4c80\n",
      "0x4c80\n"
     ]
    }
   ],
   "source": [
    "srf_read, srf_str = lsu.asmToHex(\"SADD R0, ONE, ONE/LD.VWR VWR_A\")\n",
    "print(str(srf_read) + \", \" + str(srf_str))\n",
    "srf_read, srf_str = lsu.asmToHex(\"SADD R0, SRF(5), ONE/SH.IL.UP\")\n",
    "print(str(srf_read) + \", \" + str(srf_str))\n",
    "#srf_read, srf_str = lsu.asmToHex(\"SADD SRF(4), SRF(5), ONE/SH.IL.UP\") # Error\n",
    "srf_read, srf_str = lsu.asmToHex(\"SADD SRF(5), SRF(5), ONE/LD.VWR SRF\")\n",
    "print(str(srf_read) + \", \" + str(srf_str))\n",
    "for i in range(len(lsu.imem.IMEM)):\n",
    "    print(lsu.imem.get_word_in_hex(i))"
   ]
  },
  {
   "cell_type": "code",
   "execution_count": 5,
   "metadata": {},
   "outputs": [],
   "source": [
    "from src import rc\n",
    "\n",
    "rc = rc.RC()"
   ]
  },
  {
   "cell_type": "code",
   "execution_count": 6,
   "metadata": {},
   "outputs": [
    {
     "name": "stdout",
     "output_type": "stream",
     "text": [
      "-1, -1, -1\n",
      "-1, -1, 0\n",
      "3, -1, 0\n",
      "-1, -1, -1\n",
      "-1, -1, -1\n",
      "-1, -1, -1\n",
      "0x0\n",
      "0x420\n",
      "0xc420\n",
      "0x1f522\n",
      "0x1f5a2\n",
      "0x163\n",
      "0x0\n",
      "0x0\n",
      "0x0\n",
      "0x0\n",
      "0x0\n",
      "0x0\n",
      "0x0\n",
      "0x0\n",
      "0x0\n",
      "0x0\n",
      "0x0\n",
      "0x0\n",
      "0x0\n",
      "0x0\n",
      "0x0\n",
      "0x0\n",
      "0x0\n",
      "0x0\n",
      "0x0\n",
      "0x0\n",
      "0x0\n",
      "0x0\n",
      "0x0\n",
      "0x0\n",
      "0x0\n",
      "0x0\n",
      "0x0\n",
      "0x0\n",
      "0x0\n",
      "0x0\n",
      "0x0\n",
      "0x0\n",
      "0x0\n",
      "0x0\n",
      "0x0\n",
      "0x0\n",
      "0x0\n",
      "0x0\n",
      "0x0\n",
      "0x0\n",
      "0x0\n",
      "0x0\n",
      "0x0\n",
      "0x0\n",
      "0x0\n",
      "0x0\n",
      "0x0\n",
      "0x0\n",
      "0x0\n",
      "0x0\n",
      "0x0\n",
      "0x0\n",
      "0x0\n",
      "0x0\n",
      "0x0\n",
      "0x0\n",
      "0x0\n",
      "0x0\n"
     ]
    }
   ],
   "source": [
    "srf_read, srf_str, vwr_str = rc.asmToHex(\"NOP\")\n",
    "print(str(srf_read) + \", \" + str(srf_str) + \", \" + str(vwr_str)) \n",
    "srf_read, srf_str, vwr_str = rc.asmToHex(\"SADD VWR_A, VWR_A, VWR_B\")\n",
    "print(str(srf_read) + \", \" + str(srf_str) + \", \" + str(vwr_str)) \n",
    "srf_read, srf_str, vwr_str = rc.asmToHex(\"SADD VWR_A, SRF(3), VWR_B\")\n",
    "print(str(srf_read) + \", \" + str(srf_str) + \", \" + str(vwr_str)) \n",
    "srf_read, srf_str, vwr_str = rc.asmToHex(\"LOR R0, RCB, MIN_INT\")\n",
    "print(str(srf_read) + \", \" + str(srf_str) + \", \" + str(vwr_str)) \n",
    "#srf_read, srf_str, vwr_str = rc.asmToHex(\"SADD.H R0, RCB, MIN_INT\") # Error: half precision not supported\n",
    "#srf_read, srf_str, vwr_str = rc.asmToHex(\"DIV.FP R0, RCB, MIN_INT\") # Error: float point div not supported\n",
    "srf_read, srf_str, vwr_str = rc.asmToHex(\"MUL.FP R0, RCB, MIN_INT\")\n",
    "print(str(srf_read) + \", \" + str(srf_str) + \", \" + str(vwr_str)) \n",
    "#srf_read, srf_str, vwr_str = rc.asmToHex(\"SFGA R2, OWN\") # Error: Register not in range\n",
    "srf_read, srf_str, vwr_str = rc.asmToHex(\"SFGA R1, OWN\")\n",
    "print(str(srf_read) + \", \" + str(srf_str) + \", \" + str(vwr_str)) \n",
    "for i in range(len(rc.imem.IMEM)):\n",
    "    print(rc.imem.get_word_in_hex(i))"
   ]
  },
  {
   "cell_type": "code",
   "execution_count": 7,
   "metadata": {},
   "outputs": [],
   "source": [
    "from src import mxcu\n",
    "\n",
    "mxcu = mxcu.MXCU()"
   ]
  },
  {
   "cell_type": "code",
   "execution_count": 8,
   "metadata": {},
   "outputs": [],
   "source": [
    "srf_sel = -1\n",
    "srf_we = 0\n",
    "alu_srf_write = 0\n",
    "vwr_row_we = [0,0,0,0]\n",
    "vwr_sel = 0\n",
    "mxcu.asmToHex(\"NOP\", srf_sel, srf_we, alu_srf_write, vwr_row_we, vwr_sel)\n",
    "mxcu.asmToHex(\"SADD R1, ONE, LAST\", srf_sel, srf_we, alu_srf_write, vwr_row_we, vwr_sel)\n",
    "mxcu.asmToHex(\"LOR R1, ONE, SRF(3)\", srf_sel, srf_we, alu_srf_write, vwr_row_we, vwr_sel)"
   ]
  },
  {
   "cell_type": "code",
   "execution_count": 9,
   "metadata": {},
   "outputs": [
    {
     "name": "stdout",
     "output_type": "stream",
     "text": [
      "Processing file: ./kernels/test_asm/instructions_v1.csv...\n"
     ]
    }
   ],
   "source": [
    "# Get instruction dataframe\n",
    "from src import vwr2a\n",
    "kernel_path='./kernels/test_asm/'\n",
    "cgra = vwr2a.CGRA()\n",
    "cgra.compileAsm(kernel_path, version=\"_v1\", nInstructionsPerCol=11)"
   ]
  },
  {
   "cell_type": "code",
   "execution_count": 10,
   "metadata": {},
   "outputs": [
    {
     "name": "stdout",
     "output_type": "stream",
     "text": [
      "Processing file: ./kernels/test_asm/instructions_v2.csv...\n"
     ]
    },
    {
     "ename": "ValueError",
     "evalue": "Instructions not valid for this cycle of the CGRA. Detected multiple writes to the SRF.",
     "output_type": "error",
     "traceback": [
      "\u001b[0;31m---------------------------------------------------------------------------\u001b[0m",
      "\u001b[0;31mValueError\u001b[0m                                Traceback (most recent call last)",
      "Cell \u001b[0;32mIn[10], line 5\u001b[0m\n\u001b[1;32m      3\u001b[0m kernel_path\u001b[38;5;241m=\u001b[39m\u001b[38;5;124m'\u001b[39m\u001b[38;5;124m./kernels/test_asm/\u001b[39m\u001b[38;5;124m'\u001b[39m\n\u001b[1;32m      4\u001b[0m cgra \u001b[38;5;241m=\u001b[39m vwr2a\u001b[38;5;241m.\u001b[39mCGRA()\n\u001b[0;32m----> 5\u001b[0m \u001b[43mcgra\u001b[49m\u001b[38;5;241;43m.\u001b[39;49m\u001b[43mcompileAsm\u001b[49m\u001b[43m(\u001b[49m\u001b[43mkernel_path\u001b[49m\u001b[43m,\u001b[49m\u001b[43m \u001b[49m\u001b[43mversion\u001b[49m\u001b[38;5;241;43m=\u001b[39;49m\u001b[38;5;124;43m\"\u001b[39;49m\u001b[38;5;124;43m_v2\u001b[39;49m\u001b[38;5;124;43m\"\u001b[39;49m\u001b[43m,\u001b[49m\u001b[43m \u001b[49m\u001b[43mnInstructionsPerCol\u001b[49m\u001b[38;5;241;43m=\u001b[39;49m\u001b[38;5;241;43m11\u001b[39;49m\u001b[43m)\u001b[49m\n",
      "File \u001b[0;32m~/epfl/ESL-CGRA-simulator/src/vwr2a.py:133\u001b[0m, in \u001b[0;36mCGRA.compileAsm\u001b[0;34m(self, kernel_path, version, nInstructionsPerCol)\u001b[0m\n\u001b[1;32m    131\u001b[0m str_idx \u001b[38;5;241m=\u001b[39m all_str_srf[all_str_srf \u001b[38;5;241m!=\u001b[39m \u001b[38;5;241m-\u001b[39m\u001b[38;5;241m1\u001b[39m]\n\u001b[1;32m    132\u001b[0m \u001b[38;5;28;01mif\u001b[39;00m \u001b[38;5;28mlen\u001b[39m(str_idx) \u001b[38;5;241m>\u001b[39m \u001b[38;5;241m1\u001b[39m:\n\u001b[0;32m--> 133\u001b[0m     \u001b[38;5;28;01mraise\u001b[39;00m \u001b[38;5;167;01mValueError\u001b[39;00m(\u001b[38;5;124m\"\u001b[39m\u001b[38;5;124mInstructions not valid for this cycle of the CGRA. Detected multiple writes to the SRF.\u001b[39m\u001b[38;5;124m\"\u001b[39m)\n\u001b[1;32m    134\u001b[0m \u001b[38;5;28;01mif\u001b[39;00m \u001b[38;5;28mlen\u001b[39m(str_idx) \u001b[38;5;241m>\u001b[39m \u001b[38;5;241m0\u001b[39m:\n\u001b[1;32m    135\u001b[0m     srf_we \u001b[38;5;241m=\u001b[39m \u001b[38;5;241m1\u001b[39m\n",
      "\u001b[0;31mValueError\u001b[0m: Instructions not valid for this cycle of the CGRA. Detected multiple writes to the SRF."
     ]
    }
   ],
   "source": [
    "# Get instruction dataframe\n",
    "from src import vwr2a\n",
    "kernel_path='./kernels/test_asm/'\n",
    "cgra = vwr2a.CGRA()\n",
    "cgra.compileAsm(kernel_path, version=\"_v2\", nInstructionsPerCol=11) # Expected error for multiple writes to SRF"
   ]
  }
 ],
 "metadata": {
  "kernelspec": {
   "display_name": "base",
   "language": "python",
   "name": "python3"
  },
  "language_info": {
   "codemirror_mode": {
    "name": "ipython",
    "version": 3
   },
   "file_extension": ".py",
   "mimetype": "text/x-python",
   "name": "python",
   "nbconvert_exporter": "python",
   "pygments_lexer": "ipython3",
   "version": "3.11.4"
  }
 },
 "nbformat": 4,
 "nbformat_minor": 2
}
